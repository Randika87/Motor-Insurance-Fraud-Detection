{
 "cells": [
  {
   "cell_type": "code",
   "execution_count": 4,
   "id": "93e9f2c2",
   "metadata": {},
   "outputs": [],
   "source": [
    "import pandas as pd"
   ]
  },
  {
   "cell_type": "code",
   "execution_count": 12,
   "id": "66b82420",
   "metadata": {},
   "outputs": [],
   "source": [
    "data = pd.read_csv(\"Final Data set v3 New.csv\")"
   ]
  },
  {
   "cell_type": "code",
   "execution_count": 13,
   "id": "bb04aaec",
   "metadata": {},
   "outputs": [
    {
     "data": {
      "text/html": [
       "<div>\n",
       "<style scoped>\n",
       "    .dataframe tbody tr th:only-of-type {\n",
       "        vertical-align: middle;\n",
       "    }\n",
       "\n",
       "    .dataframe tbody tr th {\n",
       "        vertical-align: top;\n",
       "    }\n",
       "\n",
       "    .dataframe thead th {\n",
       "        text-align: right;\n",
       "    }\n",
       "</style>\n",
       "<table border=\"1\" class=\"dataframe\">\n",
       "  <thead>\n",
       "    <tr style=\"text-align: right;\">\n",
       "      <th></th>\n",
       "      <th>ACCIDENT_TYPPE</th>\n",
       "      <th>TOTAL_LOST</th>\n",
       "      <th>ACCIDENT_MONTH</th>\n",
       "      <th>ACCIDENT_WEEK</th>\n",
       "      <th>ACCIDENT_WEEK_DAY</th>\n",
       "      <th>ACCIDENT_TIME</th>\n",
       "      <th>CLAIM_MONTH</th>\n",
       "      <th>CLAIM_WEEK</th>\n",
       "      <th>CLAIM_WEEK_DAY</th>\n",
       "      <th>CLAIM_TIME</th>\n",
       "      <th>GAP_IN_DAYS</th>\n",
       "      <th>ESTIMATED_AMOUNT</th>\n",
       "      <th>VEHICLE_CATEGORY</th>\n",
       "      <th>PURPOSE_OF_USE</th>\n",
       "      <th>MAKE</th>\n",
       "      <th>SUM_INSURED</th>\n",
       "      <th>PREMIUM</th>\n",
       "      <th>STATUS</th>\n",
       "      <th>MONTHS_AS_CUSTOMER</th>\n",
       "      <th>FRAUD_OR_NOT</th>\n",
       "    </tr>\n",
       "  </thead>\n",
       "  <tbody>\n",
       "    <tr>\n",
       "      <th>0</th>\n",
       "      <td>ACCIDENT</td>\n",
       "      <td>NORMAL</td>\n",
       "      <td>5</td>\n",
       "      <td>18</td>\n",
       "      <td>2</td>\n",
       "      <td>Afternoon</td>\n",
       "      <td>8</td>\n",
       "      <td>34</td>\n",
       "      <td>4</td>\n",
       "      <td>Morning</td>\n",
       "      <td>114</td>\n",
       "      <td>48110.0</td>\n",
       "      <td>Dual Purpose</td>\n",
       "      <td>Private</td>\n",
       "      <td>TOYOTA</td>\n",
       "      <td>1000000.0</td>\n",
       "      <td>8514.85</td>\n",
       "      <td>Mr</td>\n",
       "      <td>86.0</td>\n",
       "      <td>0</td>\n",
       "    </tr>\n",
       "    <tr>\n",
       "      <th>1</th>\n",
       "      <td>ACCIDENT</td>\n",
       "      <td>NORMAL</td>\n",
       "      <td>3</td>\n",
       "      <td>11</td>\n",
       "      <td>3</td>\n",
       "      <td>Early Morning</td>\n",
       "      <td>4</td>\n",
       "      <td>17</td>\n",
       "      <td>4</td>\n",
       "      <td>Evening</td>\n",
       "      <td>43</td>\n",
       "      <td>80000.0</td>\n",
       "      <td>Car</td>\n",
       "      <td>Private Person</td>\n",
       "      <td>MITSUBISHI</td>\n",
       "      <td>3000000.0</td>\n",
       "      <td>54000.00</td>\n",
       "      <td>Mrs</td>\n",
       "      <td>72.0</td>\n",
       "      <td>0</td>\n",
       "    </tr>\n",
       "    <tr>\n",
       "      <th>2</th>\n",
       "      <td>ACCIDENT</td>\n",
       "      <td>NORMAL</td>\n",
       "      <td>10</td>\n",
       "      <td>42</td>\n",
       "      <td>4</td>\n",
       "      <td>Night</td>\n",
       "      <td>11</td>\n",
       "      <td>45</td>\n",
       "      <td>6</td>\n",
       "      <td>Morning</td>\n",
       "      <td>23</td>\n",
       "      <td>500000.0</td>\n",
       "      <td>Car</td>\n",
       "      <td>Private Person</td>\n",
       "      <td>MITSUBISHI</td>\n",
       "      <td>3000000.0</td>\n",
       "      <td>54000.00</td>\n",
       "      <td>Mrs</td>\n",
       "      <td>55.0</td>\n",
       "      <td>0</td>\n",
       "    </tr>\n",
       "    <tr>\n",
       "      <th>3</th>\n",
       "      <td>ACCIDENT</td>\n",
       "      <td>NORMAL</td>\n",
       "      <td>9</td>\n",
       "      <td>36</td>\n",
       "      <td>3</td>\n",
       "      <td>Morning</td>\n",
       "      <td>9</td>\n",
       "      <td>38</td>\n",
       "      <td>3</td>\n",
       "      <td>Afternoon</td>\n",
       "      <td>14</td>\n",
       "      <td>37050.0</td>\n",
       "      <td>Car</td>\n",
       "      <td>Private Person</td>\n",
       "      <td>TOYOTA</td>\n",
       "      <td>750000.0</td>\n",
       "      <td>4792.65</td>\n",
       "      <td>Prof</td>\n",
       "      <td>184.0</td>\n",
       "      <td>0</td>\n",
       "    </tr>\n",
       "    <tr>\n",
       "      <th>4</th>\n",
       "      <td>ACCIDENT</td>\n",
       "      <td>NORMAL</td>\n",
       "      <td>11</td>\n",
       "      <td>46</td>\n",
       "      <td>4</td>\n",
       "      <td>Late Night</td>\n",
       "      <td>1</td>\n",
       "      <td>4</td>\n",
       "      <td>3</td>\n",
       "      <td>Afternoon</td>\n",
       "      <td>76</td>\n",
       "      <td>66750.0</td>\n",
       "      <td>Car</td>\n",
       "      <td>Private Person</td>\n",
       "      <td>TOYOTA</td>\n",
       "      <td>750000.0</td>\n",
       "      <td>4792.65</td>\n",
       "      <td>Prof</td>\n",
       "      <td>164.0</td>\n",
       "      <td>0</td>\n",
       "    </tr>\n",
       "  </tbody>\n",
       "</table>\n",
       "</div>"
      ],
      "text/plain": [
       "  ACCIDENT_TYPPE TOTAL_LOST  ACCIDENT_MONTH  ACCIDENT_WEEK  ACCIDENT_WEEK_DAY  \\\n",
       "0       ACCIDENT     NORMAL               5             18                  2   \n",
       "1       ACCIDENT     NORMAL               3             11                  3   \n",
       "2       ACCIDENT     NORMAL              10             42                  4   \n",
       "3       ACCIDENT     NORMAL               9             36                  3   \n",
       "4       ACCIDENT     NORMAL              11             46                  4   \n",
       "\n",
       "   ACCIDENT_TIME  CLAIM_MONTH  CLAIM_WEEK  CLAIM_WEEK_DAY CLAIM_TIME  \\\n",
       "0      Afternoon            8          34               4    Morning   \n",
       "1  Early Morning            4          17               4    Evening   \n",
       "2          Night           11          45               6    Morning   \n",
       "3        Morning            9          38               3  Afternoon   \n",
       "4     Late Night            1           4               3  Afternoon   \n",
       "\n",
       "   GAP_IN_DAYS  ESTIMATED_AMOUNT VEHICLE_CATEGORY  PURPOSE_OF_USE        MAKE  \\\n",
       "0          114           48110.0     Dual Purpose         Private      TOYOTA   \n",
       "1           43           80000.0              Car  Private Person  MITSUBISHI   \n",
       "2           23          500000.0              Car  Private Person  MITSUBISHI   \n",
       "3           14           37050.0              Car  Private Person      TOYOTA   \n",
       "4           76           66750.0              Car  Private Person      TOYOTA   \n",
       "\n",
       "   SUM_INSURED   PREMIUM STATUS  MONTHS_AS_CUSTOMER  FRAUD_OR_NOT  \n",
       "0    1000000.0   8514.85     Mr                86.0             0  \n",
       "1    3000000.0  54000.00    Mrs                72.0             0  \n",
       "2    3000000.0  54000.00    Mrs                55.0             0  \n",
       "3     750000.0   4792.65   Prof               184.0             0  \n",
       "4     750000.0   4792.65   Prof               164.0             0  "
      ]
     },
     "execution_count": 13,
     "metadata": {},
     "output_type": "execute_result"
    }
   ],
   "source": [
    "data.head()"
   ]
  },
  {
   "cell_type": "code",
   "execution_count": 14,
   "id": "35627a58",
   "metadata": {},
   "outputs": [
    {
     "data": {
      "text/plain": [
       "(30098, 20)"
      ]
     },
     "execution_count": 14,
     "metadata": {},
     "output_type": "execute_result"
    }
   ],
   "source": [
    "data.shape"
   ]
  },
  {
   "cell_type": "code",
   "execution_count": 15,
   "id": "fb6435ae",
   "metadata": {},
   "outputs": [
    {
     "data": {
      "text/plain": [
       "<bound method DataFrame.info of       ACCIDENT_TYPPE TOTAL_LOST  ACCIDENT_MONTH  ACCIDENT_WEEK  \\\n",
       "0           ACCIDENT     NORMAL               5             18   \n",
       "1           ACCIDENT     NORMAL               3             11   \n",
       "2           ACCIDENT     NORMAL              10             42   \n",
       "3           ACCIDENT     NORMAL               9             36   \n",
       "4           ACCIDENT     NORMAL              11             46   \n",
       "...              ...        ...             ...            ...   \n",
       "30093       ACCIDENT     NORMAL               1              1   \n",
       "30094       ACCIDENT     NORMAL               8             33   \n",
       "30095       ACCIDENT     NORMAL               1              4   \n",
       "30096       ACCIDENT     NORMAL              12             51   \n",
       "30097       ACCIDENT     NORMAL               8             33   \n",
       "\n",
       "       ACCIDENT_WEEK_DAY  ACCIDENT_TIME  CLAIM_MONTH  CLAIM_WEEK  \\\n",
       "0                      2      Afternoon            8          34   \n",
       "1                      3  Early Morning            4          17   \n",
       "2                      4          Night           11          45   \n",
       "3                      3        Morning            9          38   \n",
       "4                      4     Late Night            1           4   \n",
       "...                  ...            ...          ...         ...   \n",
       "30093                  2      Afternoon            1           2   \n",
       "30094                  1          Night            9          37   \n",
       "30095                  3        Morning            2           5   \n",
       "30096                  6     Late Night            1           5   \n",
       "30097                  7          Night            9          37   \n",
       "\n",
       "       CLAIM_WEEK_DAY CLAIM_TIME  GAP_IN_DAYS  ESTIMATED_AMOUNT  \\\n",
       "0                   4    Morning          114           48110.0   \n",
       "1                   4    Evening           43           80000.0   \n",
       "2                   6    Morning           23          500000.0   \n",
       "3                   3  Afternoon           14           37050.0   \n",
       "4                   3  Afternoon           76           66750.0   \n",
       "...               ...        ...          ...               ...   \n",
       "30093               2  Afternoon            7          133000.0   \n",
       "30094               6    Morning           33           15400.0   \n",
       "30095               6  Afternoon           10            6300.0   \n",
       "30096               2  Afternoon           45           51650.0   \n",
       "30097               4    Morning           25           53100.0   \n",
       "\n",
       "      VEHICLE_CATEGORY   PURPOSE_OF_USE        MAKE  SUM_INSURED    PREMIUM  \\\n",
       "0         Dual Purpose          Private      TOYOTA    1000000.0    8514.85   \n",
       "1                  Car   Private Person  MITSUBISHI    3000000.0   54000.00   \n",
       "2                  Car   Private Person  MITSUBISHI    3000000.0   54000.00   \n",
       "3                  Car   Private Person      TOYOTA     750000.0    4792.65   \n",
       "4                  Car   Private Person      TOYOTA     750000.0    4792.65   \n",
       "...                ...              ...         ...          ...        ...   \n",
       "30093              NaN              NaN       OTHER          NaN        NaN   \n",
       "30094              Car  Private Company      SUZUKI    5600000.0   67900.00   \n",
       "30095            Lorry          Private        TATA    1200000.0   27223.75   \n",
       "30096              Car             Rent      TOYOTA    4900000.0  107049.00   \n",
       "30097     Dual Purpose          Private  MITSUBISHI    6390000.0   70990.00   \n",
       "\n",
       "      STATUS  MONTHS_AS_CUSTOMER  FRAUD_OR_NOT  \n",
       "0         Mr                86.0             0  \n",
       "1        Mrs                72.0             0  \n",
       "2        Mrs                55.0             0  \n",
       "3       Prof               184.0             0  \n",
       "4       Prof               164.0             0  \n",
       "...      ...                 ...           ...  \n",
       "30093    NaN                 NaN             1  \n",
       "30094    NaN                 9.0             1  \n",
       "30095    NaN                 4.0             1  \n",
       "30096    NaN                12.0             1  \n",
       "30097    NaN                17.0             1  \n",
       "\n",
       "[30098 rows x 20 columns]>"
      ]
     },
     "execution_count": 15,
     "metadata": {},
     "output_type": "execute_result"
    }
   ],
   "source": [
    "data.info"
   ]
  },
  {
   "cell_type": "code",
   "execution_count": 16,
   "id": "d695c4e7",
   "metadata": {},
   "outputs": [
    {
     "data": {
      "text/plain": [
       "ACCIDENT_TYPPE        False\n",
       "TOTAL_LOST             True\n",
       "ACCIDENT_MONTH        False\n",
       "ACCIDENT_WEEK         False\n",
       "ACCIDENT_WEEK_DAY     False\n",
       "ACCIDENT_TIME          True\n",
       "CLAIM_MONTH           False\n",
       "CLAIM_WEEK            False\n",
       "CLAIM_WEEK_DAY        False\n",
       "CLAIM_TIME            False\n",
       "GAP_IN_DAYS           False\n",
       "ESTIMATED_AMOUNT      False\n",
       "VEHICLE_CATEGORY       True\n",
       "PURPOSE_OF_USE         True\n",
       "MAKE                  False\n",
       "SUM_INSURED            True\n",
       "PREMIUM                True\n",
       "STATUS                 True\n",
       "MONTHS_AS_CUSTOMER     True\n",
       "FRAUD_OR_NOT          False\n",
       "dtype: bool"
      ]
     },
     "execution_count": 16,
     "metadata": {},
     "output_type": "execute_result"
    }
   ],
   "source": [
    "data.isnull().any()"
   ]
  },
  {
   "cell_type": "code",
   "execution_count": 23,
   "id": "4c0ad72b",
   "metadata": {},
   "outputs": [],
   "source": [
    "data_new = data.copy()"
   ]
  },
  {
   "cell_type": "code",
   "execution_count": 24,
   "id": "fd985983",
   "metadata": {},
   "outputs": [
    {
     "data": {
      "text/html": [
       "<div>\n",
       "<style scoped>\n",
       "    .dataframe tbody tr th:only-of-type {\n",
       "        vertical-align: middle;\n",
       "    }\n",
       "\n",
       "    .dataframe tbody tr th {\n",
       "        vertical-align: top;\n",
       "    }\n",
       "\n",
       "    .dataframe thead th {\n",
       "        text-align: right;\n",
       "    }\n",
       "</style>\n",
       "<table border=\"1\" class=\"dataframe\">\n",
       "  <thead>\n",
       "    <tr style=\"text-align: right;\">\n",
       "      <th></th>\n",
       "      <th>ACCIDENT_TYPPE</th>\n",
       "      <th>TOTAL_LOST</th>\n",
       "      <th>ACCIDENT_MONTH</th>\n",
       "      <th>ACCIDENT_WEEK</th>\n",
       "      <th>ACCIDENT_WEEK_DAY</th>\n",
       "      <th>ACCIDENT_TIME</th>\n",
       "      <th>CLAIM_MONTH</th>\n",
       "      <th>CLAIM_WEEK</th>\n",
       "      <th>CLAIM_WEEK_DAY</th>\n",
       "      <th>CLAIM_TIME</th>\n",
       "      <th>...</th>\n",
       "      <th>PURPOSE_OF_USE</th>\n",
       "      <th>MAKE</th>\n",
       "      <th>MAKE_YEAR</th>\n",
       "      <th>SUM_INSURED</th>\n",
       "      <th>PREMIUM</th>\n",
       "      <th>STATUS</th>\n",
       "      <th>PROFESSION</th>\n",
       "      <th>AGE</th>\n",
       "      <th>MONTHS_AS_CUSTOMER</th>\n",
       "      <th>FRAUD_OR_NOT</th>\n",
       "    </tr>\n",
       "  </thead>\n",
       "  <tbody>\n",
       "    <tr>\n",
       "      <th>0</th>\n",
       "      <td>ACCIDENT</td>\n",
       "      <td>NORMAL</td>\n",
       "      <td>5</td>\n",
       "      <td>18</td>\n",
       "      <td>2</td>\n",
       "      <td>Afternoon</td>\n",
       "      <td>8</td>\n",
       "      <td>34</td>\n",
       "      <td>4</td>\n",
       "      <td>Morning</td>\n",
       "      <td>...</td>\n",
       "      <td>Private</td>\n",
       "      <td>TOYOTA</td>\n",
       "      <td>1991.0</td>\n",
       "      <td>1000000.0</td>\n",
       "      <td>8514.85</td>\n",
       "      <td>Mr</td>\n",
       "      <td>BUSINESS -  SWEETS</td>\n",
       "      <td>54.0</td>\n",
       "      <td>86.0</td>\n",
       "      <td>0</td>\n",
       "    </tr>\n",
       "    <tr>\n",
       "      <th>1</th>\n",
       "      <td>ACCIDENT</td>\n",
       "      <td>NORMAL</td>\n",
       "      <td>3</td>\n",
       "      <td>11</td>\n",
       "      <td>3</td>\n",
       "      <td>Early Morning</td>\n",
       "      <td>4</td>\n",
       "      <td>17</td>\n",
       "      <td>4</td>\n",
       "      <td>Evening</td>\n",
       "      <td>...</td>\n",
       "      <td>Private Person</td>\n",
       "      <td>MITSUBISHI</td>\n",
       "      <td>2008.0</td>\n",
       "      <td>3000000.0</td>\n",
       "      <td>54000.00</td>\n",
       "      <td>Mrs</td>\n",
       "      <td>SENIOR LECTURE</td>\n",
       "      <td>65.0</td>\n",
       "      <td>72.0</td>\n",
       "      <td>0</td>\n",
       "    </tr>\n",
       "    <tr>\n",
       "      <th>2</th>\n",
       "      <td>ACCIDENT</td>\n",
       "      <td>NORMAL</td>\n",
       "      <td>10</td>\n",
       "      <td>42</td>\n",
       "      <td>4</td>\n",
       "      <td>Night</td>\n",
       "      <td>11</td>\n",
       "      <td>45</td>\n",
       "      <td>6</td>\n",
       "      <td>Morning</td>\n",
       "      <td>...</td>\n",
       "      <td>Private Person</td>\n",
       "      <td>MITSUBISHI</td>\n",
       "      <td>2008.0</td>\n",
       "      <td>3000000.0</td>\n",
       "      <td>54000.00</td>\n",
       "      <td>Mrs</td>\n",
       "      <td>SENIOR LECTURE</td>\n",
       "      <td>63.0</td>\n",
       "      <td>55.0</td>\n",
       "      <td>0</td>\n",
       "    </tr>\n",
       "    <tr>\n",
       "      <th>3</th>\n",
       "      <td>ACCIDENT</td>\n",
       "      <td>NORMAL</td>\n",
       "      <td>9</td>\n",
       "      <td>36</td>\n",
       "      <td>3</td>\n",
       "      <td>Morning</td>\n",
       "      <td>9</td>\n",
       "      <td>38</td>\n",
       "      <td>3</td>\n",
       "      <td>Afternoon</td>\n",
       "      <td>...</td>\n",
       "      <td>Private Person</td>\n",
       "      <td>TOYOTA</td>\n",
       "      <td>1997.0</td>\n",
       "      <td>750000.0</td>\n",
       "      <td>4792.65</td>\n",
       "      <td>Prof</td>\n",
       "      <td>SENIOR LECTUER</td>\n",
       "      <td>59.0</td>\n",
       "      <td>184.0</td>\n",
       "      <td>0</td>\n",
       "    </tr>\n",
       "    <tr>\n",
       "      <th>4</th>\n",
       "      <td>ACCIDENT</td>\n",
       "      <td>NORMAL</td>\n",
       "      <td>11</td>\n",
       "      <td>46</td>\n",
       "      <td>4</td>\n",
       "      <td>Late Night</td>\n",
       "      <td>1</td>\n",
       "      <td>4</td>\n",
       "      <td>3</td>\n",
       "      <td>Afternoon</td>\n",
       "      <td>...</td>\n",
       "      <td>Private Person</td>\n",
       "      <td>TOYOTA</td>\n",
       "      <td>1997.0</td>\n",
       "      <td>750000.0</td>\n",
       "      <td>4792.65</td>\n",
       "      <td>Prof</td>\n",
       "      <td>SENIOR LECTUER</td>\n",
       "      <td>57.0</td>\n",
       "      <td>164.0</td>\n",
       "      <td>0</td>\n",
       "    </tr>\n",
       "  </tbody>\n",
       "</table>\n",
       "<p>5 rows × 23 columns</p>\n",
       "</div>"
      ],
      "text/plain": [
       "  ACCIDENT_TYPPE TOTAL_LOST  ACCIDENT_MONTH  ACCIDENT_WEEK  ACCIDENT_WEEK_DAY  \\\n",
       "0       ACCIDENT     NORMAL               5             18                  2   \n",
       "1       ACCIDENT     NORMAL               3             11                  3   \n",
       "2       ACCIDENT     NORMAL              10             42                  4   \n",
       "3       ACCIDENT     NORMAL               9             36                  3   \n",
       "4       ACCIDENT     NORMAL              11             46                  4   \n",
       "\n",
       "   ACCIDENT_TIME  CLAIM_MONTH  CLAIM_WEEK  CLAIM_WEEK_DAY CLAIM_TIME  ...  \\\n",
       "0      Afternoon            8          34               4    Morning  ...   \n",
       "1  Early Morning            4          17               4    Evening  ...   \n",
       "2          Night           11          45               6    Morning  ...   \n",
       "3        Morning            9          38               3  Afternoon  ...   \n",
       "4     Late Night            1           4               3  Afternoon  ...   \n",
       "\n",
       "   PURPOSE_OF_USE        MAKE MAKE_YEAR SUM_INSURED   PREMIUM  STATUS  \\\n",
       "0         Private      TOYOTA    1991.0   1000000.0   8514.85      Mr   \n",
       "1  Private Person  MITSUBISHI    2008.0   3000000.0  54000.00     Mrs   \n",
       "2  Private Person  MITSUBISHI    2008.0   3000000.0  54000.00     Mrs   \n",
       "3  Private Person      TOYOTA    1997.0    750000.0   4792.65    Prof   \n",
       "4  Private Person      TOYOTA    1997.0    750000.0   4792.65    Prof   \n",
       "\n",
       "           PROFESSION   AGE MONTHS_AS_CUSTOMER FRAUD_OR_NOT  \n",
       "0  BUSINESS -  SWEETS  54.0               86.0            0  \n",
       "1      SENIOR LECTURE  65.0               72.0            0  \n",
       "2      SENIOR LECTURE  63.0               55.0            0  \n",
       "3      SENIOR LECTUER  59.0              184.0            0  \n",
       "4      SENIOR LECTUER  57.0              164.0            0  \n",
       "\n",
       "[5 rows x 23 columns]"
      ]
     },
     "execution_count": 24,
     "metadata": {},
     "output_type": "execute_result"
    }
   ],
   "source": [
    "data_new.head()"
   ]
  },
  {
   "cell_type": "code",
   "execution_count": 19,
   "id": "72140f78",
   "metadata": {},
   "outputs": [],
   "source": [
    "# missing value treatment using fillna\n",
    "\n",
    "\n",
    "data['TOTAL_LOST'].fillna(data['TOTAL_LOST'].mode()[0], inplace = True)\n",
    "data['ACCIDENT_TIME'].fillna('NO', inplace = True)\n",
    "data['CLAIM_TIME'].fillna('NO', inplace = True)\n",
    "data['VEHICLE_CATEGORY'].fillna('NO', inplace = True)\n",
    "data['PURPOSE_OF_USE'].fillna('NO CATEGORY', inplace = True)\n",
    "data['MAKE'].fillna('NO CATEGORY', inplace = True)\n",
    "data['SUM_INSURED'].fillna(0, inplace = True)\n",
    "data['PREMIUM'].fillna(0, inplace = True)\n",
    "data['STATUS'].fillna('NO CATEGORY', inplace = True)\n",
    "data['MONTHS_AS_CUSTOMER'].fillna(0, inplace = True)"
   ]
  },
  {
   "cell_type": "code",
   "execution_count": 20,
   "id": "d36ed7d5",
   "metadata": {},
   "outputs": [
    {
     "data": {
      "text/plain": [
       "ACCIDENT_TYPPE        False\n",
       "TOTAL_LOST            False\n",
       "ACCIDENT_MONTH        False\n",
       "ACCIDENT_WEEK         False\n",
       "ACCIDENT_WEEK_DAY     False\n",
       "ACCIDENT_TIME         False\n",
       "CLAIM_MONTH           False\n",
       "CLAIM_WEEK            False\n",
       "CLAIM_WEEK_DAY        False\n",
       "CLAIM_TIME            False\n",
       "GAP_IN_DAYS           False\n",
       "ESTIMATED_AMOUNT      False\n",
       "VEHICLE_CATEGORY      False\n",
       "PURPOSE_OF_USE        False\n",
       "MAKE                  False\n",
       "SUM_INSURED           False\n",
       "PREMIUM               False\n",
       "STATUS                False\n",
       "MONTHS_AS_CUSTOMER    False\n",
       "FRAUD_OR_NOT          False\n",
       "dtype: bool"
      ]
     },
     "execution_count": 20,
     "metadata": {},
     "output_type": "execute_result"
    }
   ],
   "source": [
    "data.isnull().any()"
   ]
  },
  {
   "cell_type": "code",
   "execution_count": 28,
   "id": "7a31a7ff",
   "metadata": {},
   "outputs": [
    {
     "data": {
      "text/html": [
       "<div>\n",
       "<style scoped>\n",
       "    .dataframe tbody tr th:only-of-type {\n",
       "        vertical-align: middle;\n",
       "    }\n",
       "\n",
       "    .dataframe tbody tr th {\n",
       "        vertical-align: top;\n",
       "    }\n",
       "\n",
       "    .dataframe thead th {\n",
       "        text-align: right;\n",
       "    }\n",
       "</style>\n",
       "<table border=\"1\" class=\"dataframe\">\n",
       "  <thead>\n",
       "    <tr style=\"text-align: right;\">\n",
       "      <th></th>\n",
       "      <th>ACCIDENT_TYPPE</th>\n",
       "      <th>TOTAL_LOST</th>\n",
       "      <th>ACCIDENT_TIME</th>\n",
       "      <th>CLAIM_TIME</th>\n",
       "      <th>VEHICLE_CATEGORY</th>\n",
       "      <th>PURPOSE_OF_USE</th>\n",
       "      <th>MAKE</th>\n",
       "      <th>STATUS</th>\n",
       "      <th>PROFESSION</th>\n",
       "    </tr>\n",
       "  </thead>\n",
       "  <tbody>\n",
       "    <tr>\n",
       "      <th>0</th>\n",
       "      <td>ACCIDENT</td>\n",
       "      <td>NORMAL</td>\n",
       "      <td>Afternoon</td>\n",
       "      <td>Morning</td>\n",
       "      <td>Dual Purpose</td>\n",
       "      <td>Private</td>\n",
       "      <td>TOYOTA</td>\n",
       "      <td>Mr</td>\n",
       "      <td>BUSINESS -  SWEETS</td>\n",
       "    </tr>\n",
       "    <tr>\n",
       "      <th>1</th>\n",
       "      <td>ACCIDENT</td>\n",
       "      <td>NORMAL</td>\n",
       "      <td>Early Morning</td>\n",
       "      <td>Evening</td>\n",
       "      <td>Car</td>\n",
       "      <td>Private Person</td>\n",
       "      <td>MITSUBISHI</td>\n",
       "      <td>Mrs</td>\n",
       "      <td>SENIOR LECTURE</td>\n",
       "    </tr>\n",
       "    <tr>\n",
       "      <th>2</th>\n",
       "      <td>ACCIDENT</td>\n",
       "      <td>NORMAL</td>\n",
       "      <td>Night</td>\n",
       "      <td>Morning</td>\n",
       "      <td>Car</td>\n",
       "      <td>Private Person</td>\n",
       "      <td>MITSUBISHI</td>\n",
       "      <td>Mrs</td>\n",
       "      <td>SENIOR LECTURE</td>\n",
       "    </tr>\n",
       "    <tr>\n",
       "      <th>3</th>\n",
       "      <td>ACCIDENT</td>\n",
       "      <td>NORMAL</td>\n",
       "      <td>Morning</td>\n",
       "      <td>Afternoon</td>\n",
       "      <td>Car</td>\n",
       "      <td>Private Person</td>\n",
       "      <td>TOYOTA</td>\n",
       "      <td>Prof</td>\n",
       "      <td>SENIOR LECTUER</td>\n",
       "    </tr>\n",
       "    <tr>\n",
       "      <th>4</th>\n",
       "      <td>ACCIDENT</td>\n",
       "      <td>NORMAL</td>\n",
       "      <td>Late Night</td>\n",
       "      <td>Afternoon</td>\n",
       "      <td>Car</td>\n",
       "      <td>Private Person</td>\n",
       "      <td>TOYOTA</td>\n",
       "      <td>Prof</td>\n",
       "      <td>SENIOR LECTUER</td>\n",
       "    </tr>\n",
       "  </tbody>\n",
       "</table>\n",
       "</div>"
      ],
      "text/plain": [
       "  ACCIDENT_TYPPE TOTAL_LOST  ACCIDENT_TIME CLAIM_TIME VEHICLE_CATEGORY  \\\n",
       "0       ACCIDENT     NORMAL      Afternoon    Morning     Dual Purpose   \n",
       "1       ACCIDENT     NORMAL  Early Morning    Evening              Car   \n",
       "2       ACCIDENT     NORMAL          Night    Morning              Car   \n",
       "3       ACCIDENT     NORMAL        Morning  Afternoon              Car   \n",
       "4       ACCIDENT     NORMAL     Late Night  Afternoon              Car   \n",
       "\n",
       "   PURPOSE_OF_USE        MAKE STATUS          PROFESSION  \n",
       "0         Private      TOYOTA     Mr  BUSINESS -  SWEETS  \n",
       "1  Private Person  MITSUBISHI    Mrs      SENIOR LECTURE  \n",
       "2  Private Person  MITSUBISHI    Mrs      SENIOR LECTURE  \n",
       "3  Private Person      TOYOTA   Prof      SENIOR LECTUER  \n",
       "4  Private Person      TOYOTA   Prof      SENIOR LECTUER  "
      ]
     },
     "execution_count": 28,
     "metadata": {},
     "output_type": "execute_result"
    }
   ],
   "source": [
    "cat_data.head()"
   ]
  },
  {
   "cell_type": "code",
   "execution_count": 32,
   "id": "52e74f21",
   "metadata": {},
   "outputs": [
    {
     "name": "stdout",
     "output_type": "stream",
     "text": [
      "Requirement already satisfied: joypy in c:\\users\\administrator\\appdata\\local\\programs\\python\\python38\\lib\\site-packages (0.2.5)\n",
      "Requirement already satisfied: scipy>=0.11.0 in c:\\users\\administrator\\appdata\\local\\programs\\python\\python38\\lib\\site-packages (from joypy) (1.7.1)\n",
      "Requirement already satisfied: numpy>=1.16.5 in c:\\users\\administrator\\appdata\\local\\programs\\python\\python38\\lib\\site-packages (from joypy) (1.21.2)\n",
      "Requirement already satisfied: matplotlib in c:\\users\\administrator\\appdata\\local\\programs\\python\\python38\\lib\\site-packages (from joypy) (3.4.3)\n",
      "Requirement already satisfied: pandas>=0.20.0 in c:\\users\\administrator\\appdata\\local\\programs\\python\\python38\\lib\\site-packages (from joypy) (1.3.2)\n",
      "Requirement already satisfied: python-dateutil>=2.7.3 in c:\\users\\administrator\\appdata\\local\\programs\\python\\python38\\lib\\site-packages (from pandas>=0.20.0->joypy) (2.8.2)\n",
      "Requirement already satisfied: pytz>=2017.3 in c:\\users\\administrator\\appdata\\local\\programs\\python\\python38\\lib\\site-packages (from pandas>=0.20.0->joypy) (2021.1)\n",
      "Requirement already satisfied: six>=1.5 in c:\\users\\administrator\\appdata\\local\\programs\\python\\python38\\lib\\site-packages (from python-dateutil>=2.7.3->pandas>=0.20.0->joypy) (1.16.0)\n",
      "Requirement already satisfied: cycler>=0.10 in c:\\users\\administrator\\appdata\\local\\programs\\python\\python38\\lib\\site-packages (from matplotlib->joypy) (0.10.0)\n",
      "Requirement already satisfied: kiwisolver>=1.0.1 in c:\\users\\administrator\\appdata\\local\\programs\\python\\python38\\lib\\site-packages (from matplotlib->joypy) (1.3.2)\n",
      "Requirement already satisfied: pillow>=6.2.0 in c:\\users\\administrator\\appdata\\local\\programs\\python\\python38\\lib\\site-packages (from matplotlib->joypy) (8.3.2)\n",
      "Requirement already satisfied: pyparsing>=2.2.1 in c:\\users\\administrator\\appdata\\local\\programs\\python\\python38\\lib\\site-packages (from matplotlib->joypy) (2.4.7)\n",
      "Note: you may need to restart the kernel to use updated packages.\n"
     ]
    },
    {
     "name": "stderr",
     "output_type": "stream",
     "text": [
      "WARNING: You are using pip version 21.1.1; however, version 21.2.4 is available.\n",
      "You should consider upgrading via the 'C:\\Users\\Administrator\\AppData\\Local\\Programs\\Python\\Python38\\python.exe -m pip install --upgrade pip' command.\n"
     ]
    }
   ],
   "source": [
    "pip install joypy"
   ]
  },
  {
   "cell_type": "code",
   "execution_count": 33,
   "id": "4888c61d",
   "metadata": {},
   "outputs": [
    {
     "name": "stdout",
     "output_type": "stream",
     "text": [
      "Requirement already satisfied: bubbly in c:\\users\\administrator\\appdata\\local\\programs\\python\\python38\\lib\\site-packages (1.0.2)\n",
      "Requirement already satisfied: plotly in c:\\users\\administrator\\appdata\\local\\programs\\python\\python38\\lib\\site-packages (from bubbly) (5.3.1)\n",
      "Requirement already satisfied: pandas in c:\\users\\administrator\\appdata\\local\\programs\\python\\python38\\lib\\site-packages (from bubbly) (1.3.2)\n",
      "Requirement already satisfied: pytz>=2017.3 in c:\\users\\administrator\\appdata\\local\\programs\\python\\python38\\lib\\site-packages (from pandas->bubbly) (2021.1)\n",
      "Requirement already satisfied: numpy>=1.17.3 in c:\\users\\administrator\\appdata\\local\\programs\\python\\python38\\lib\\site-packages (from pandas->bubbly) (1.21.2)Note: you may need to restart the kernel to use updated packages.\n",
      "Requirement already satisfied: python-dateutil>=2.7.3 in c:\\users\\administrator\\appdata\\local\\programs\\python\\python38\\lib\\site-packages (from pandas->bubbly) (2.8.2)\n",
      "Requirement already satisfied: six>=1.5 in c:\\users\\administrator\\appdata\\local\\programs\\python\\python38\\lib\\site-packages (from python-dateutil>=2.7.3->pandas->bubbly) (1.16.0)\n",
      "Requirement already satisfied: tenacity>=6.2.0 in c:\\users\\administrator\\appdata\\local\\programs\\python\\python38\\lib\\site-packages (from plotly->bubbly) (8.0.1)\n",
      "\n"
     ]
    },
    {
     "name": "stderr",
     "output_type": "stream",
     "text": [
      "WARNING: You are using pip version 21.1.1; however, version 21.2.4 is available.\n",
      "You should consider upgrading via the 'C:\\Users\\Administrator\\AppData\\Local\\Programs\\Python\\Python38\\python.exe -m pip install --upgrade pip' command.\n"
     ]
    }
   ],
   "source": [
    "pip install bubbly"
   ]
  },
  {
   "cell_type": "code",
   "execution_count": 36,
   "id": "7cf35381",
   "metadata": {},
   "outputs": [
    {
     "name": "stdout",
     "output_type": "stream",
     "text": [
      "Collecting seabornNote: you may need to restart the kernel to use updated packages.\n"
     ]
    },
    {
     "name": "stderr",
     "output_type": "stream",
     "text": [
      "WARNING: You are using pip version 21.1.1; however, version 21.2.4 is available.\n",
      "You should consider upgrading via the 'C:\\Users\\Administrator\\AppData\\Local\\Programs\\Python\\Python38\\python.exe -m pip install --upgrade pip' command.\n"
     ]
    },
    {
     "name": "stdout",
     "output_type": "stream",
     "text": [
      "\n",
      "  Downloading seaborn-0.11.2-py3-none-any.whl (292 kB)\n",
      "Requirement already satisfied: numpy>=1.15 in c:\\users\\administrator\\appdata\\local\\programs\\python\\python38\\lib\\site-packages (from seaborn) (1.21.2)\n",
      "Requirement already satisfied: pandas>=0.23 in c:\\users\\administrator\\appdata\\local\\programs\\python\\python38\\lib\\site-packages (from seaborn) (1.3.2)\n",
      "Requirement already satisfied: matplotlib>=2.2 in c:\\users\\administrator\\appdata\\local\\programs\\python\\python38\\lib\\site-packages (from seaborn) (3.4.3)\n",
      "Requirement already satisfied: scipy>=1.0 in c:\\users\\administrator\\appdata\\local\\programs\\python\\python38\\lib\\site-packages (from seaborn) (1.7.1)\n",
      "Requirement already satisfied: python-dateutil>=2.7 in c:\\users\\administrator\\appdata\\local\\programs\\python\\python38\\lib\\site-packages (from matplotlib>=2.2->seaborn) (2.8.2)\n",
      "Requirement already satisfied: cycler>=0.10 in c:\\users\\administrator\\appdata\\local\\programs\\python\\python38\\lib\\site-packages (from matplotlib>=2.2->seaborn) (0.10.0)\n",
      "Requirement already satisfied: pillow>=6.2.0 in c:\\users\\administrator\\appdata\\local\\programs\\python\\python38\\lib\\site-packages (from matplotlib>=2.2->seaborn) (8.3.2)\n",
      "Requirement already satisfied: pyparsing>=2.2.1 in c:\\users\\administrator\\appdata\\local\\programs\\python\\python38\\lib\\site-packages (from matplotlib>=2.2->seaborn) (2.4.7)\n",
      "Requirement already satisfied: kiwisolver>=1.0.1 in c:\\users\\administrator\\appdata\\local\\programs\\python\\python38\\lib\\site-packages (from matplotlib>=2.2->seaborn) (1.3.2)\n",
      "Requirement already satisfied: six in c:\\users\\administrator\\appdata\\local\\programs\\python\\python38\\lib\\site-packages (from cycler>=0.10->matplotlib>=2.2->seaborn) (1.16.0)\n",
      "Requirement already satisfied: pytz>=2017.3 in c:\\users\\administrator\\appdata\\local\\programs\\python\\python38\\lib\\site-packages (from pandas>=0.23->seaborn) (2021.1)\n",
      "Installing collected packages: seaborn\n",
      "Successfully installed seaborn-0.11.2\n"
     ]
    }
   ],
   "source": [
    "pip install seaborn"
   ]
  },
  {
   "cell_type": "code",
   "execution_count": 34,
   "id": "98fe22e2",
   "metadata": {},
   "outputs": [
    {
     "name": "stdout",
     "output_type": "stream",
     "text": [
      "Requirement already satisfied: plotly_express in c:\\users\\administrator\\appdata\\local\\programs\\python\\python38\\lib\\site-packages (0.4.1)Note: you may need to restart the kernel to use updated packages.\n"
     ]
    },
    {
     "name": "stderr",
     "output_type": "stream",
     "text": [
      "WARNING: You are using pip version 21.1.1; however, version 21.2.4 is available.\n",
      "You should consider upgrading via the 'C:\\Users\\Administrator\\AppData\\Local\\Programs\\Python\\Python38\\python.exe -m pip install --upgrade pip' command.\n"
     ]
    },
    {
     "name": "stdout",
     "output_type": "stream",
     "text": [
      "\n",
      "Requirement already satisfied: scipy>=0.18 in c:\\users\\administrator\\appdata\\local\\programs\\python\\python38\\lib\\site-packages (from plotly_express) (1.7.1)\n",
      "Requirement already satisfied: statsmodels>=0.9.0 in c:\\users\\administrator\\appdata\\local\\programs\\python\\python38\\lib\\site-packages (from plotly_express) (0.12.2)\n",
      "Requirement already satisfied: pandas>=0.20.0 in c:\\users\\administrator\\appdata\\local\\programs\\python\\python38\\lib\\site-packages (from plotly_express) (1.3.2)\n",
      "Requirement already satisfied: numpy>=1.11 in c:\\users\\administrator\\appdata\\local\\programs\\python\\python38\\lib\\site-packages (from plotly_express) (1.21.2)\n",
      "Requirement already satisfied: patsy>=0.5 in c:\\users\\administrator\\appdata\\local\\programs\\python\\python38\\lib\\site-packages (from plotly_express) (0.5.1)\n",
      "Requirement already satisfied: plotly>=4.1.0 in c:\\users\\administrator\\appdata\\local\\programs\\python\\python38\\lib\\site-packages (from plotly_express) (5.3.1)\n",
      "Requirement already satisfied: pytz>=2017.3 in c:\\users\\administrator\\appdata\\local\\programs\\python\\python38\\lib\\site-packages (from pandas>=0.20.0->plotly_express) (2021.1)\n",
      "Requirement already satisfied: python-dateutil>=2.7.3 in c:\\users\\administrator\\appdata\\local\\programs\\python\\python38\\lib\\site-packages (from pandas>=0.20.0->plotly_express) (2.8.2)\n",
      "Requirement already satisfied: six in c:\\users\\administrator\\appdata\\local\\programs\\python\\python38\\lib\\site-packages (from patsy>=0.5->plotly_express) (1.16.0)\n",
      "Requirement already satisfied: tenacity>=6.2.0 in c:\\users\\administrator\\appdata\\local\\programs\\python\\python38\\lib\\site-packages (from plotly>=4.1.0->plotly_express) (8.0.1)\n"
     ]
    }
   ],
   "source": [
    "pip install plotly_express"
   ]
  },
  {
   "cell_type": "code",
   "execution_count": 38,
   "id": "569c8048",
   "metadata": {},
   "outputs": [
    {
     "name": "stdout",
     "output_type": "stream",
     "text": [
      "Collecting sklearnNote: you may need to restart the kernel to use updated packages.\n",
      "  Downloading sklearn-0.0.tar.gz (1.1 kB)\n",
      "Collecting scikit-learn\n",
      "  Downloading scikit_learn-0.24.2-cp38-cp38-win_amd64.whl (6.9 MB)\n",
      "Collecting joblib>=0.11\n",
      "  Downloading joblib-1.0.1-py3-none-any.whl (303 kB)\n",
      "Requirement already satisfied: scipy>=0.19.1 in c:\\users\\administrator\\appdata\\local\\programs\\python\\python38\\lib\\site-packages (from scikit-learn->sklearn) (1.7.1)\n",
      "Requirement already satisfied: numpy>=1.13.3 in c:\\users\\administrator\\appdata\\local\\programs\\python\\python38\\lib\\site-packages (from scikit-learn->sklearn) (1.21.2)\n",
      "Collecting threadpoolctl>=2.0.0\n",
      "  Downloading threadpoolctl-2.2.0-py3-none-any.whl (12 kB)\n"
     ]
    },
    {
     "name": "stderr",
     "output_type": "stream",
     "text": [
      "WARNING: You are using pip version 21.1.1; however, version 21.2.4 is available.\n",
      "You should consider upgrading via the 'C:\\Users\\Administrator\\AppData\\Local\\Programs\\Python\\Python38\\python.exe -m pip install --upgrade pip' command.\n"
     ]
    },
    {
     "name": "stdout",
     "output_type": "stream",
     "text": [
      "\n",
      "Using legacy 'setup.py install' for sklearn, since package 'wheel' is not installed.\n",
      "Installing collected packages: threadpoolctl, joblib, scikit-learn, sklearn\n",
      "    Running setup.py install for sklearn: started\n",
      "    Running setup.py install for sklearn: finished with status 'done'\n",
      "Successfully installed joblib-1.0.1 scikit-learn-0.24.2 sklearn-0.0 threadpoolctl-2.2.0\n"
     ]
    }
   ],
   "source": [
    "pip install sklearn"
   ]
  },
  {
   "cell_type": "code",
   "execution_count": 40,
   "id": "eb3fb5e4",
   "metadata": {},
   "outputs": [
    {
     "name": "stdout",
     "output_type": "stream",
     "text": [
      "Collecting imblearnNote: you may need to restart the kernel to use updated packages.\n"
     ]
    },
    {
     "name": "stderr",
     "output_type": "stream",
     "text": [
      "WARNING: You are using pip version 21.1.1; however, version 21.2.4 is available.\n",
      "You should consider upgrading via the 'C:\\Users\\Administrator\\AppData\\Local\\Programs\\Python\\Python38\\python.exe -m pip install --upgrade pip' command.\n"
     ]
    },
    {
     "name": "stdout",
     "output_type": "stream",
     "text": [
      "\n",
      "  Downloading imblearn-0.0-py2.py3-none-any.whl (1.9 kB)\n",
      "Collecting imbalanced-learn\n",
      "  Downloading imbalanced_learn-0.8.0-py3-none-any.whl (206 kB)\n",
      "Requirement already satisfied: joblib>=0.11 in c:\\users\\administrator\\appdata\\local\\programs\\python\\python38\\lib\\site-packages (from imbalanced-learn->imblearn) (1.0.1)\n",
      "Requirement already satisfied: scipy>=0.19.1 in c:\\users\\administrator\\appdata\\local\\programs\\python\\python38\\lib\\site-packages (from imbalanced-learn->imblearn) (1.7.1)\n",
      "Requirement already satisfied: scikit-learn>=0.24 in c:\\users\\administrator\\appdata\\local\\programs\\python\\python38\\lib\\site-packages (from imbalanced-learn->imblearn) (0.24.2)\n",
      "Requirement already satisfied: numpy>=1.13.3 in c:\\users\\administrator\\appdata\\local\\programs\\python\\python38\\lib\\site-packages (from imbalanced-learn->imblearn) (1.21.2)\n",
      "Requirement already satisfied: threadpoolctl>=2.0.0 in c:\\users\\administrator\\appdata\\local\\programs\\python\\python38\\lib\\site-packages (from scikit-learn>=0.24->imbalanced-learn->imblearn) (2.2.0)\n",
      "Installing collected packages: imbalanced-learn, imblearn\n",
      "Successfully installed imbalanced-learn-0.8.0 imblearn-0.0\n"
     ]
    }
   ],
   "source": [
    "pip install imblearn"
   ]
  },
  {
   "cell_type": "code",
   "execution_count": 7,
   "id": "b6adb5c4",
   "metadata": {},
   "outputs": [
    {
     "data": {
      "text/html": [
       "        <script type=\"text/javascript\">\n",
       "        window.PlotlyConfig = {MathJaxConfig: 'local'};\n",
       "        if (window.MathJax) {MathJax.Hub.Config({SVG: {font: \"STIX-Web\"}});}\n",
       "        if (typeof require !== 'undefined') {\n",
       "        require.undef(\"plotly\");\n",
       "        requirejs.config({\n",
       "            paths: {\n",
       "                'plotly': ['https://cdn.plot.ly/plotly-2.4.2.min']\n",
       "            }\n",
       "        });\n",
       "        require(['plotly'], function(Plotly) {\n",
       "            window._Plotly = Plotly;\n",
       "        });\n",
       "        }\n",
       "        </script>\n",
       "        "
      ]
     },
     "metadata": {},
     "output_type": "display_data"
    }
   ],
   "source": [
    "import warnings\n",
    "warnings.filterwarnings('ignore')\n",
    "\n",
    "# for some basic operations\n",
    "import numpy as np \n",
    "import pandas as pd \n",
    "import joypy\n",
    "\n",
    "# for visualizations\n",
    "import matplotlib.pyplot as plt\n",
    "\n",
    "import seaborn as sns\n",
    "from pandas import plotting\n",
    "from pandas.plotting import parallel_coordinates\n",
    "\n",
    "# for interactive visualizations\n",
    "import plotly\n",
    "import plotly.offline as py\n",
    "from plotly.offline import init_notebook_mode, iplot\n",
    "import plotly.graph_objs as go\n",
    "from plotly import tools\n",
    "init_notebook_mode(connected = True)\n",
    "import plotly.figure_factory as ff\n",
    "\n",
    "# for animated visualizations\n",
    "from bubbly.bubbly import bubbleplot\n",
    "import plotly_express as px\n",
    "\n",
    "\n",
    "\n",
    "# for modelling\n",
    "import sklearn\n",
    "import imblearn"
   ]
  },
  {
   "cell_type": "code",
   "execution_count": 10,
   "id": "8e89efe2",
   "metadata": {},
   "outputs": [],
   "source": [
    "def configure_plotly_browser_state():\n",
    "  import IPython\n",
    "  display(IPython.core.display.HTML('''\n",
    "        <script src=\"/static/components/requirejs/require.js\"></script>\n",
    "        <script>\n",
    "          requirejs.config({\n",
    "            paths: {\n",
    "              base: '/static/base',\n",
    "              plotly: 'https://cdn.plot.ly/plotly-latest.min.js?noext',\n",
    "            },\n",
    "          });\n",
    "        </script>\n",
    "        '''))"
   ]
  },
  {
   "cell_type": "code",
   "execution_count": 11,
   "id": "cbecf4c6",
   "metadata": {},
   "outputs": [
    {
     "data": {
      "text/html": [
       "\n",
       "        <script src=\"/static/components/requirejs/require.js\"></script>\n",
       "        <script>\n",
       "          requirejs.config({\n",
       "            paths: {\n",
       "              base: '/static/base',\n",
       "              plotly: 'https://cdn.plot.ly/plotly-latest.min.js?noext',\n",
       "            },\n",
       "          });\n",
       "        </script>\n",
       "        "
      ],
      "text/plain": [
       "<IPython.core.display.HTML object>"
      ]
     },
     "metadata": {},
     "output_type": "display_data"
    },
    {
     "data": {
      "application/vnd.plotly.v1+json": {
       "config": {
        "linkText": "Export to plot.ly",
        "plotlyServerURL": "https://plot.ly",
        "showLink": false
       },
       "data": [
        {
         "hole": 0.3,
         "labels": [
          0,
          1
         ],
         "name": "Frauds",
         "type": "pie",
         "values": [
          26985,
          3113
         ]
        }
       ],
       "layout": {
        "template": {
         "data": {
          "bar": [
           {
            "error_x": {
             "color": "#2a3f5f"
            },
            "error_y": {
             "color": "#2a3f5f"
            },
            "marker": {
             "line": {
              "color": "#E5ECF6",
              "width": 0.5
             },
             "pattern": {
              "fillmode": "overlay",
              "size": 10,
              "solidity": 0.2
             }
            },
            "type": "bar"
           }
          ],
          "barpolar": [
           {
            "marker": {
             "line": {
              "color": "#E5ECF6",
              "width": 0.5
             },
             "pattern": {
              "fillmode": "overlay",
              "size": 10,
              "solidity": 0.2
             }
            },
            "type": "barpolar"
           }
          ],
          "carpet": [
           {
            "aaxis": {
             "endlinecolor": "#2a3f5f",
             "gridcolor": "white",
             "linecolor": "white",
             "minorgridcolor": "white",
             "startlinecolor": "#2a3f5f"
            },
            "baxis": {
             "endlinecolor": "#2a3f5f",
             "gridcolor": "white",
             "linecolor": "white",
             "minorgridcolor": "white",
             "startlinecolor": "#2a3f5f"
            },
            "type": "carpet"
           }
          ],
          "choropleth": [
           {
            "colorbar": {
             "outlinewidth": 0,
             "ticks": ""
            },
            "type": "choropleth"
           }
          ],
          "contour": [
           {
            "colorbar": {
             "outlinewidth": 0,
             "ticks": ""
            },
            "colorscale": [
             [
              0,
              "#0d0887"
             ],
             [
              0.1111111111111111,
              "#46039f"
             ],
             [
              0.2222222222222222,
              "#7201a8"
             ],
             [
              0.3333333333333333,
              "#9c179e"
             ],
             [
              0.4444444444444444,
              "#bd3786"
             ],
             [
              0.5555555555555556,
              "#d8576b"
             ],
             [
              0.6666666666666666,
              "#ed7953"
             ],
             [
              0.7777777777777778,
              "#fb9f3a"
             ],
             [
              0.8888888888888888,
              "#fdca26"
             ],
             [
              1,
              "#f0f921"
             ]
            ],
            "type": "contour"
           }
          ],
          "contourcarpet": [
           {
            "colorbar": {
             "outlinewidth": 0,
             "ticks": ""
            },
            "type": "contourcarpet"
           }
          ],
          "heatmap": [
           {
            "colorbar": {
             "outlinewidth": 0,
             "ticks": ""
            },
            "colorscale": [
             [
              0,
              "#0d0887"
             ],
             [
              0.1111111111111111,
              "#46039f"
             ],
             [
              0.2222222222222222,
              "#7201a8"
             ],
             [
              0.3333333333333333,
              "#9c179e"
             ],
             [
              0.4444444444444444,
              "#bd3786"
             ],
             [
              0.5555555555555556,
              "#d8576b"
             ],
             [
              0.6666666666666666,
              "#ed7953"
             ],
             [
              0.7777777777777778,
              "#fb9f3a"
             ],
             [
              0.8888888888888888,
              "#fdca26"
             ],
             [
              1,
              "#f0f921"
             ]
            ],
            "type": "heatmap"
           }
          ],
          "heatmapgl": [
           {
            "colorbar": {
             "outlinewidth": 0,
             "ticks": ""
            },
            "colorscale": [
             [
              0,
              "#0d0887"
             ],
             [
              0.1111111111111111,
              "#46039f"
             ],
             [
              0.2222222222222222,
              "#7201a8"
             ],
             [
              0.3333333333333333,
              "#9c179e"
             ],
             [
              0.4444444444444444,
              "#bd3786"
             ],
             [
              0.5555555555555556,
              "#d8576b"
             ],
             [
              0.6666666666666666,
              "#ed7953"
             ],
             [
              0.7777777777777778,
              "#fb9f3a"
             ],
             [
              0.8888888888888888,
              "#fdca26"
             ],
             [
              1,
              "#f0f921"
             ]
            ],
            "type": "heatmapgl"
           }
          ],
          "histogram": [
           {
            "marker": {
             "pattern": {
              "fillmode": "overlay",
              "size": 10,
              "solidity": 0.2
             }
            },
            "type": "histogram"
           }
          ],
          "histogram2d": [
           {
            "colorbar": {
             "outlinewidth": 0,
             "ticks": ""
            },
            "colorscale": [
             [
              0,
              "#0d0887"
             ],
             [
              0.1111111111111111,
              "#46039f"
             ],
             [
              0.2222222222222222,
              "#7201a8"
             ],
             [
              0.3333333333333333,
              "#9c179e"
             ],
             [
              0.4444444444444444,
              "#bd3786"
             ],
             [
              0.5555555555555556,
              "#d8576b"
             ],
             [
              0.6666666666666666,
              "#ed7953"
             ],
             [
              0.7777777777777778,
              "#fb9f3a"
             ],
             [
              0.8888888888888888,
              "#fdca26"
             ],
             [
              1,
              "#f0f921"
             ]
            ],
            "type": "histogram2d"
           }
          ],
          "histogram2dcontour": [
           {
            "colorbar": {
             "outlinewidth": 0,
             "ticks": ""
            },
            "colorscale": [
             [
              0,
              "#0d0887"
             ],
             [
              0.1111111111111111,
              "#46039f"
             ],
             [
              0.2222222222222222,
              "#7201a8"
             ],
             [
              0.3333333333333333,
              "#9c179e"
             ],
             [
              0.4444444444444444,
              "#bd3786"
             ],
             [
              0.5555555555555556,
              "#d8576b"
             ],
             [
              0.6666666666666666,
              "#ed7953"
             ],
             [
              0.7777777777777778,
              "#fb9f3a"
             ],
             [
              0.8888888888888888,
              "#fdca26"
             ],
             [
              1,
              "#f0f921"
             ]
            ],
            "type": "histogram2dcontour"
           }
          ],
          "mesh3d": [
           {
            "colorbar": {
             "outlinewidth": 0,
             "ticks": ""
            },
            "type": "mesh3d"
           }
          ],
          "parcoords": [
           {
            "line": {
             "colorbar": {
              "outlinewidth": 0,
              "ticks": ""
             }
            },
            "type": "parcoords"
           }
          ],
          "pie": [
           {
            "automargin": true,
            "type": "pie"
           }
          ],
          "scatter": [
           {
            "marker": {
             "colorbar": {
              "outlinewidth": 0,
              "ticks": ""
             }
            },
            "type": "scatter"
           }
          ],
          "scatter3d": [
           {
            "line": {
             "colorbar": {
              "outlinewidth": 0,
              "ticks": ""
             }
            },
            "marker": {
             "colorbar": {
              "outlinewidth": 0,
              "ticks": ""
             }
            },
            "type": "scatter3d"
           }
          ],
          "scattercarpet": [
           {
            "marker": {
             "colorbar": {
              "outlinewidth": 0,
              "ticks": ""
             }
            },
            "type": "scattercarpet"
           }
          ],
          "scattergeo": [
           {
            "marker": {
             "colorbar": {
              "outlinewidth": 0,
              "ticks": ""
             }
            },
            "type": "scattergeo"
           }
          ],
          "scattergl": [
           {
            "marker": {
             "colorbar": {
              "outlinewidth": 0,
              "ticks": ""
             }
            },
            "type": "scattergl"
           }
          ],
          "scattermapbox": [
           {
            "marker": {
             "colorbar": {
              "outlinewidth": 0,
              "ticks": ""
             }
            },
            "type": "scattermapbox"
           }
          ],
          "scatterpolar": [
           {
            "marker": {
             "colorbar": {
              "outlinewidth": 0,
              "ticks": ""
             }
            },
            "type": "scatterpolar"
           }
          ],
          "scatterpolargl": [
           {
            "marker": {
             "colorbar": {
              "outlinewidth": 0,
              "ticks": ""
             }
            },
            "type": "scatterpolargl"
           }
          ],
          "scatterternary": [
           {
            "marker": {
             "colorbar": {
              "outlinewidth": 0,
              "ticks": ""
             }
            },
            "type": "scatterternary"
           }
          ],
          "surface": [
           {
            "colorbar": {
             "outlinewidth": 0,
             "ticks": ""
            },
            "colorscale": [
             [
              0,
              "#0d0887"
             ],
             [
              0.1111111111111111,
              "#46039f"
             ],
             [
              0.2222222222222222,
              "#7201a8"
             ],
             [
              0.3333333333333333,
              "#9c179e"
             ],
             [
              0.4444444444444444,
              "#bd3786"
             ],
             [
              0.5555555555555556,
              "#d8576b"
             ],
             [
              0.6666666666666666,
              "#ed7953"
             ],
             [
              0.7777777777777778,
              "#fb9f3a"
             ],
             [
              0.8888888888888888,
              "#fdca26"
             ],
             [
              1,
              "#f0f921"
             ]
            ],
            "type": "surface"
           }
          ],
          "table": [
           {
            "cells": {
             "fill": {
              "color": "#EBF0F8"
             },
             "line": {
              "color": "white"
             }
            },
            "header": {
             "fill": {
              "color": "#C8D4E3"
             },
             "line": {
              "color": "white"
             }
            },
            "type": "table"
           }
          ]
         },
         "layout": {
          "annotationdefaults": {
           "arrowcolor": "#2a3f5f",
           "arrowhead": 0,
           "arrowwidth": 1
          },
          "autotypenumbers": "strict",
          "coloraxis": {
           "colorbar": {
            "outlinewidth": 0,
            "ticks": ""
           }
          },
          "colorscale": {
           "diverging": [
            [
             0,
             "#8e0152"
            ],
            [
             0.1,
             "#c51b7d"
            ],
            [
             0.2,
             "#de77ae"
            ],
            [
             0.3,
             "#f1b6da"
            ],
            [
             0.4,
             "#fde0ef"
            ],
            [
             0.5,
             "#f7f7f7"
            ],
            [
             0.6,
             "#e6f5d0"
            ],
            [
             0.7,
             "#b8e186"
            ],
            [
             0.8,
             "#7fbc41"
            ],
            [
             0.9,
             "#4d9221"
            ],
            [
             1,
             "#276419"
            ]
           ],
           "sequential": [
            [
             0,
             "#0d0887"
            ],
            [
             0.1111111111111111,
             "#46039f"
            ],
            [
             0.2222222222222222,
             "#7201a8"
            ],
            [
             0.3333333333333333,
             "#9c179e"
            ],
            [
             0.4444444444444444,
             "#bd3786"
            ],
            [
             0.5555555555555556,
             "#d8576b"
            ],
            [
             0.6666666666666666,
             "#ed7953"
            ],
            [
             0.7777777777777778,
             "#fb9f3a"
            ],
            [
             0.8888888888888888,
             "#fdca26"
            ],
            [
             1,
             "#f0f921"
            ]
           ],
           "sequentialminus": [
            [
             0,
             "#0d0887"
            ],
            [
             0.1111111111111111,
             "#46039f"
            ],
            [
             0.2222222222222222,
             "#7201a8"
            ],
            [
             0.3333333333333333,
             "#9c179e"
            ],
            [
             0.4444444444444444,
             "#bd3786"
            ],
            [
             0.5555555555555556,
             "#d8576b"
            ],
            [
             0.6666666666666666,
             "#ed7953"
            ],
            [
             0.7777777777777778,
             "#fb9f3a"
            ],
            [
             0.8888888888888888,
             "#fdca26"
            ],
            [
             1,
             "#f0f921"
            ]
           ]
          },
          "colorway": [
           "#636efa",
           "#EF553B",
           "#00cc96",
           "#ab63fa",
           "#FFA15A",
           "#19d3f3",
           "#FF6692",
           "#B6E880",
           "#FF97FF",
           "#FECB52"
          ],
          "font": {
           "color": "#2a3f5f"
          },
          "geo": {
           "bgcolor": "white",
           "lakecolor": "white",
           "landcolor": "#E5ECF6",
           "showlakes": true,
           "showland": true,
           "subunitcolor": "white"
          },
          "hoverlabel": {
           "align": "left"
          },
          "hovermode": "closest",
          "mapbox": {
           "style": "light"
          },
          "paper_bgcolor": "white",
          "plot_bgcolor": "#E5ECF6",
          "polar": {
           "angularaxis": {
            "gridcolor": "white",
            "linecolor": "white",
            "ticks": ""
           },
           "bgcolor": "#E5ECF6",
           "radialaxis": {
            "gridcolor": "white",
            "linecolor": "white",
            "ticks": ""
           }
          },
          "scene": {
           "xaxis": {
            "backgroundcolor": "#E5ECF6",
            "gridcolor": "white",
            "gridwidth": 2,
            "linecolor": "white",
            "showbackground": true,
            "ticks": "",
            "zerolinecolor": "white"
           },
           "yaxis": {
            "backgroundcolor": "#E5ECF6",
            "gridcolor": "white",
            "gridwidth": 2,
            "linecolor": "white",
            "showbackground": true,
            "ticks": "",
            "zerolinecolor": "white"
           },
           "zaxis": {
            "backgroundcolor": "#E5ECF6",
            "gridcolor": "white",
            "gridwidth": 2,
            "linecolor": "white",
            "showbackground": true,
            "ticks": "",
            "zerolinecolor": "white"
           }
          },
          "shapedefaults": {
           "line": {
            "color": "#2a3f5f"
           }
          },
          "ternary": {
           "aaxis": {
            "gridcolor": "white",
            "linecolor": "white",
            "ticks": ""
           },
           "baxis": {
            "gridcolor": "white",
            "linecolor": "white",
            "ticks": ""
           },
           "bgcolor": "#E5ECF6",
           "caxis": {
            "gridcolor": "white",
            "linecolor": "white",
            "ticks": ""
           }
          },
          "title": {
           "x": 0.05
          },
          "xaxis": {
           "automargin": true,
           "gridcolor": "white",
           "linecolor": "white",
           "ticks": "",
           "title": {
            "standoff": 15
           },
           "zerolinecolor": "white",
           "zerolinewidth": 2
          },
          "yaxis": {
           "automargin": true,
           "gridcolor": "white",
           "linecolor": "white",
           "ticks": "",
           "title": {
            "standoff": 15
           },
           "zerolinecolor": "white",
           "zerolinewidth": 2
          }
         }
        },
        "title": {
         "text": "Distribution of Frauds"
        }
       }
      },
      "text/html": [
       "<div>                            <div id=\"a11753d9-5d4f-4353-b0b8-f47457618413\" class=\"plotly-graph-div\" style=\"height:525px; width:100%;\"></div>            <script type=\"text/javascript\">                require([\"plotly\"], function(Plotly) {                    window.PLOTLYENV=window.PLOTLYENV || {};                                    if (document.getElementById(\"a11753d9-5d4f-4353-b0b8-f47457618413\")) {                    Plotly.newPlot(                        \"a11753d9-5d4f-4353-b0b8-f47457618413\",                        [{\"hole\":0.3,\"labels\":[0,1],\"name\":\"Frauds\",\"type\":\"pie\",\"values\":[26985,3113]}],                        {\"template\":{\"data\":{\"bar\":[{\"error_x\":{\"color\":\"#2a3f5f\"},\"error_y\":{\"color\":\"#2a3f5f\"},\"marker\":{\"line\":{\"color\":\"#E5ECF6\",\"width\":0.5},\"pattern\":{\"fillmode\":\"overlay\",\"size\":10,\"solidity\":0.2}},\"type\":\"bar\"}],\"barpolar\":[{\"marker\":{\"line\":{\"color\":\"#E5ECF6\",\"width\":0.5},\"pattern\":{\"fillmode\":\"overlay\",\"size\":10,\"solidity\":0.2}},\"type\":\"barpolar\"}],\"carpet\":[{\"aaxis\":{\"endlinecolor\":\"#2a3f5f\",\"gridcolor\":\"white\",\"linecolor\":\"white\",\"minorgridcolor\":\"white\",\"startlinecolor\":\"#2a3f5f\"},\"baxis\":{\"endlinecolor\":\"#2a3f5f\",\"gridcolor\":\"white\",\"linecolor\":\"white\",\"minorgridcolor\":\"white\",\"startlinecolor\":\"#2a3f5f\"},\"type\":\"carpet\"}],\"choropleth\":[{\"colorbar\":{\"outlinewidth\":0,\"ticks\":\"\"},\"type\":\"choropleth\"}],\"contour\":[{\"colorbar\":{\"outlinewidth\":0,\"ticks\":\"\"},\"colorscale\":[[0.0,\"#0d0887\"],[0.1111111111111111,\"#46039f\"],[0.2222222222222222,\"#7201a8\"],[0.3333333333333333,\"#9c179e\"],[0.4444444444444444,\"#bd3786\"],[0.5555555555555556,\"#d8576b\"],[0.6666666666666666,\"#ed7953\"],[0.7777777777777778,\"#fb9f3a\"],[0.8888888888888888,\"#fdca26\"],[1.0,\"#f0f921\"]],\"type\":\"contour\"}],\"contourcarpet\":[{\"colorbar\":{\"outlinewidth\":0,\"ticks\":\"\"},\"type\":\"contourcarpet\"}],\"heatmap\":[{\"colorbar\":{\"outlinewidth\":0,\"ticks\":\"\"},\"colorscale\":[[0.0,\"#0d0887\"],[0.1111111111111111,\"#46039f\"],[0.2222222222222222,\"#7201a8\"],[0.3333333333333333,\"#9c179e\"],[0.4444444444444444,\"#bd3786\"],[0.5555555555555556,\"#d8576b\"],[0.6666666666666666,\"#ed7953\"],[0.7777777777777778,\"#fb9f3a\"],[0.8888888888888888,\"#fdca26\"],[1.0,\"#f0f921\"]],\"type\":\"heatmap\"}],\"heatmapgl\":[{\"colorbar\":{\"outlinewidth\":0,\"ticks\":\"\"},\"colorscale\":[[0.0,\"#0d0887\"],[0.1111111111111111,\"#46039f\"],[0.2222222222222222,\"#7201a8\"],[0.3333333333333333,\"#9c179e\"],[0.4444444444444444,\"#bd3786\"],[0.5555555555555556,\"#d8576b\"],[0.6666666666666666,\"#ed7953\"],[0.7777777777777778,\"#fb9f3a\"],[0.8888888888888888,\"#fdca26\"],[1.0,\"#f0f921\"]],\"type\":\"heatmapgl\"}],\"histogram\":[{\"marker\":{\"pattern\":{\"fillmode\":\"overlay\",\"size\":10,\"solidity\":0.2}},\"type\":\"histogram\"}],\"histogram2d\":[{\"colorbar\":{\"outlinewidth\":0,\"ticks\":\"\"},\"colorscale\":[[0.0,\"#0d0887\"],[0.1111111111111111,\"#46039f\"],[0.2222222222222222,\"#7201a8\"],[0.3333333333333333,\"#9c179e\"],[0.4444444444444444,\"#bd3786\"],[0.5555555555555556,\"#d8576b\"],[0.6666666666666666,\"#ed7953\"],[0.7777777777777778,\"#fb9f3a\"],[0.8888888888888888,\"#fdca26\"],[1.0,\"#f0f921\"]],\"type\":\"histogram2d\"}],\"histogram2dcontour\":[{\"colorbar\":{\"outlinewidth\":0,\"ticks\":\"\"},\"colorscale\":[[0.0,\"#0d0887\"],[0.1111111111111111,\"#46039f\"],[0.2222222222222222,\"#7201a8\"],[0.3333333333333333,\"#9c179e\"],[0.4444444444444444,\"#bd3786\"],[0.5555555555555556,\"#d8576b\"],[0.6666666666666666,\"#ed7953\"],[0.7777777777777778,\"#fb9f3a\"],[0.8888888888888888,\"#fdca26\"],[1.0,\"#f0f921\"]],\"type\":\"histogram2dcontour\"}],\"mesh3d\":[{\"colorbar\":{\"outlinewidth\":0,\"ticks\":\"\"},\"type\":\"mesh3d\"}],\"parcoords\":[{\"line\":{\"colorbar\":{\"outlinewidth\":0,\"ticks\":\"\"}},\"type\":\"parcoords\"}],\"pie\":[{\"automargin\":true,\"type\":\"pie\"}],\"scatter\":[{\"marker\":{\"colorbar\":{\"outlinewidth\":0,\"ticks\":\"\"}},\"type\":\"scatter\"}],\"scatter3d\":[{\"line\":{\"colorbar\":{\"outlinewidth\":0,\"ticks\":\"\"}},\"marker\":{\"colorbar\":{\"outlinewidth\":0,\"ticks\":\"\"}},\"type\":\"scatter3d\"}],\"scattercarpet\":[{\"marker\":{\"colorbar\":{\"outlinewidth\":0,\"ticks\":\"\"}},\"type\":\"scattercarpet\"}],\"scattergeo\":[{\"marker\":{\"colorbar\":{\"outlinewidth\":0,\"ticks\":\"\"}},\"type\":\"scattergeo\"}],\"scattergl\":[{\"marker\":{\"colorbar\":{\"outlinewidth\":0,\"ticks\":\"\"}},\"type\":\"scattergl\"}],\"scattermapbox\":[{\"marker\":{\"colorbar\":{\"outlinewidth\":0,\"ticks\":\"\"}},\"type\":\"scattermapbox\"}],\"scatterpolar\":[{\"marker\":{\"colorbar\":{\"outlinewidth\":0,\"ticks\":\"\"}},\"type\":\"scatterpolar\"}],\"scatterpolargl\":[{\"marker\":{\"colorbar\":{\"outlinewidth\":0,\"ticks\":\"\"}},\"type\":\"scatterpolargl\"}],\"scatterternary\":[{\"marker\":{\"colorbar\":{\"outlinewidth\":0,\"ticks\":\"\"}},\"type\":\"scatterternary\"}],\"surface\":[{\"colorbar\":{\"outlinewidth\":0,\"ticks\":\"\"},\"colorscale\":[[0.0,\"#0d0887\"],[0.1111111111111111,\"#46039f\"],[0.2222222222222222,\"#7201a8\"],[0.3333333333333333,\"#9c179e\"],[0.4444444444444444,\"#bd3786\"],[0.5555555555555556,\"#d8576b\"],[0.6666666666666666,\"#ed7953\"],[0.7777777777777778,\"#fb9f3a\"],[0.8888888888888888,\"#fdca26\"],[1.0,\"#f0f921\"]],\"type\":\"surface\"}],\"table\":[{\"cells\":{\"fill\":{\"color\":\"#EBF0F8\"},\"line\":{\"color\":\"white\"}},\"header\":{\"fill\":{\"color\":\"#C8D4E3\"},\"line\":{\"color\":\"white\"}},\"type\":\"table\"}]},\"layout\":{\"annotationdefaults\":{\"arrowcolor\":\"#2a3f5f\",\"arrowhead\":0,\"arrowwidth\":1},\"autotypenumbers\":\"strict\",\"coloraxis\":{\"colorbar\":{\"outlinewidth\":0,\"ticks\":\"\"}},\"colorscale\":{\"diverging\":[[0,\"#8e0152\"],[0.1,\"#c51b7d\"],[0.2,\"#de77ae\"],[0.3,\"#f1b6da\"],[0.4,\"#fde0ef\"],[0.5,\"#f7f7f7\"],[0.6,\"#e6f5d0\"],[0.7,\"#b8e186\"],[0.8,\"#7fbc41\"],[0.9,\"#4d9221\"],[1,\"#276419\"]],\"sequential\":[[0.0,\"#0d0887\"],[0.1111111111111111,\"#46039f\"],[0.2222222222222222,\"#7201a8\"],[0.3333333333333333,\"#9c179e\"],[0.4444444444444444,\"#bd3786\"],[0.5555555555555556,\"#d8576b\"],[0.6666666666666666,\"#ed7953\"],[0.7777777777777778,\"#fb9f3a\"],[0.8888888888888888,\"#fdca26\"],[1.0,\"#f0f921\"]],\"sequentialminus\":[[0.0,\"#0d0887\"],[0.1111111111111111,\"#46039f\"],[0.2222222222222222,\"#7201a8\"],[0.3333333333333333,\"#9c179e\"],[0.4444444444444444,\"#bd3786\"],[0.5555555555555556,\"#d8576b\"],[0.6666666666666666,\"#ed7953\"],[0.7777777777777778,\"#fb9f3a\"],[0.8888888888888888,\"#fdca26\"],[1.0,\"#f0f921\"]]},\"colorway\":[\"#636efa\",\"#EF553B\",\"#00cc96\",\"#ab63fa\",\"#FFA15A\",\"#19d3f3\",\"#FF6692\",\"#B6E880\",\"#FF97FF\",\"#FECB52\"],\"font\":{\"color\":\"#2a3f5f\"},\"geo\":{\"bgcolor\":\"white\",\"lakecolor\":\"white\",\"landcolor\":\"#E5ECF6\",\"showlakes\":true,\"showland\":true,\"subunitcolor\":\"white\"},\"hoverlabel\":{\"align\":\"left\"},\"hovermode\":\"closest\",\"mapbox\":{\"style\":\"light\"},\"paper_bgcolor\":\"white\",\"plot_bgcolor\":\"#E5ECF6\",\"polar\":{\"angularaxis\":{\"gridcolor\":\"white\",\"linecolor\":\"white\",\"ticks\":\"\"},\"bgcolor\":\"#E5ECF6\",\"radialaxis\":{\"gridcolor\":\"white\",\"linecolor\":\"white\",\"ticks\":\"\"}},\"scene\":{\"xaxis\":{\"backgroundcolor\":\"#E5ECF6\",\"gridcolor\":\"white\",\"gridwidth\":2,\"linecolor\":\"white\",\"showbackground\":true,\"ticks\":\"\",\"zerolinecolor\":\"white\"},\"yaxis\":{\"backgroundcolor\":\"#E5ECF6\",\"gridcolor\":\"white\",\"gridwidth\":2,\"linecolor\":\"white\",\"showbackground\":true,\"ticks\":\"\",\"zerolinecolor\":\"white\"},\"zaxis\":{\"backgroundcolor\":\"#E5ECF6\",\"gridcolor\":\"white\",\"gridwidth\":2,\"linecolor\":\"white\",\"showbackground\":true,\"ticks\":\"\",\"zerolinecolor\":\"white\"}},\"shapedefaults\":{\"line\":{\"color\":\"#2a3f5f\"}},\"ternary\":{\"aaxis\":{\"gridcolor\":\"white\",\"linecolor\":\"white\",\"ticks\":\"\"},\"baxis\":{\"gridcolor\":\"white\",\"linecolor\":\"white\",\"ticks\":\"\"},\"bgcolor\":\"#E5ECF6\",\"caxis\":{\"gridcolor\":\"white\",\"linecolor\":\"white\",\"ticks\":\"\"}},\"title\":{\"x\":0.05},\"xaxis\":{\"automargin\":true,\"gridcolor\":\"white\",\"linecolor\":\"white\",\"ticks\":\"\",\"title\":{\"standoff\":15},\"zerolinecolor\":\"white\",\"zerolinewidth\":2},\"yaxis\":{\"automargin\":true,\"gridcolor\":\"white\",\"linecolor\":\"white\",\"ticks\":\"\",\"title\":{\"standoff\":15},\"zerolinecolor\":\"white\",\"zerolinewidth\":2}}},\"title\":{\"text\":\"Distribution of Frauds\"}},                        {\"responsive\": true}                    ).then(function(){\n",
       "                            \n",
       "var gd = document.getElementById('a11753d9-5d4f-4353-b0b8-f47457618413');\n",
       "var x = new MutationObserver(function (mutations, observer) {{\n",
       "        var display = window.getComputedStyle(gd).display;\n",
       "        if (!display || display === 'none') {{\n",
       "            console.log([gd, 'removed!']);\n",
       "            Plotly.purge(gd);\n",
       "            observer.disconnect();\n",
       "        }}\n",
       "}});\n",
       "\n",
       "// Listen for the removal of the full notebook cells\n",
       "var notebookContainer = gd.closest('#notebook-container');\n",
       "if (notebookContainer) {{\n",
       "    x.observe(notebookContainer, {childList: true});\n",
       "}}\n",
       "\n",
       "// Listen for the clearing of the current output cell\n",
       "var outputEl = gd.closest('.output');\n",
       "if (outputEl) {{\n",
       "    x.observe(outputEl, {childList: true});\n",
       "}}\n",
       "\n",
       "                        })                };                });            </script>        </div>"
      ]
     },
     "metadata": {},
     "output_type": "display_data"
    }
   ],
   "source": [
    "configure_plotly_browser_state()\n",
    "\n",
    "fraud = data['FRAUD_OR_NOT'].value_counts()\n",
    "\n",
    "\n",
    "label_fraud = fraud.index\n",
    "size_fraud = fraud.values\n",
    "\n",
    "\n",
    "trace = go.Pie(\n",
    "         labels = label_fraud, values = size_fraud,  name = 'Frauds', hole = 0.3)\n",
    "\n",
    "\n",
    "df = [trace]\n",
    "\n",
    "layout = go.Layout(\n",
    "           title = 'Distribution of Frauds')\n",
    "\n",
    "fig = go.Figure(data = df, layout = layout)\n",
    "\n",
    "py.iplot(fig)"
   ]
  },
  {
   "cell_type": "code",
   "execution_count": 9,
   "id": "843c81ea",
   "metadata": {},
   "outputs": [
    {
     "data": {
      "image/png": "[encoded data removed]",
      "text/plain": [
       "<Figure size 1080x576 with 1 Axes>"
      ]
     },
     "metadata": {},
     "output_type": "display_data"
    }
   ],
   "source": [
    "\n",
    "\n",
    "plt.style.use('fivethirtyeight')\n",
    "plt.rcParams['figure.figsize'] = (15, 8)\n",
    "\n",
    "sns.countplot(data['ACCIDENT_MONTH'])\n",
    "plt.title('ACCIDENT_MONTH', fontsize = 20)\n",
    "plt.xticks(rotation = 90)\n",
    "plt.show()"
   ]
  },
  {
   "cell_type": "code",
   "execution_count": 51,
   "id": "9e9b0148",
   "metadata": {},
   "outputs": [
    {
     "data": {
      "text/html": [
       "<div>\n",
       "<style scoped>\n",
       "    .dataframe tbody tr th:only-of-type {\n",
       "        vertical-align: middle;\n",
       "    }\n",
       "\n",
       "    .dataframe tbody tr th {\n",
       "        vertical-align: top;\n",
       "    }\n",
       "\n",
       "    .dataframe thead th {\n",
       "        text-align: right;\n",
       "    }\n",
       "</style>\n",
       "<table border=\"1\" class=\"dataframe\">\n",
       "  <thead>\n",
       "    <tr style=\"text-align: right;\">\n",
       "      <th></th>\n",
       "      <th>ACCIDENT_TYPPE</th>\n",
       "      <th>TOTAL_LOST</th>\n",
       "      <th>ACCIDENT_MONTH</th>\n",
       "      <th>ACCIDENT_WEEK</th>\n",
       "      <th>ACCIDENT_WEEK_DAY</th>\n",
       "      <th>ACCIDENT_TIME</th>\n",
       "      <th>CLAIM_MONTH</th>\n",
       "      <th>CLAIM_WEEK</th>\n",
       "      <th>CLAIM_WEEK_DAY</th>\n",
       "      <th>CLAIM_TIME</th>\n",
       "      <th>...</th>\n",
       "      <th>PURPOSE_OF_USE</th>\n",
       "      <th>MAKE</th>\n",
       "      <th>MAKE_YEAR</th>\n",
       "      <th>SUM_INSURED</th>\n",
       "      <th>PREMIUM</th>\n",
       "      <th>STATUS</th>\n",
       "      <th>PROFESSION</th>\n",
       "      <th>AGE</th>\n",
       "      <th>MONTHS_AS_CUSTOMER</th>\n",
       "      <th>FRAUD_OR_NOT</th>\n",
       "    </tr>\n",
       "  </thead>\n",
       "  <tbody>\n",
       "    <tr>\n",
       "      <th>0</th>\n",
       "      <td>ACCIDENT</td>\n",
       "      <td>NORMAL</td>\n",
       "      <td>5</td>\n",
       "      <td>18</td>\n",
       "      <td>2</td>\n",
       "      <td>Afternoon</td>\n",
       "      <td>8</td>\n",
       "      <td>34</td>\n",
       "      <td>4</td>\n",
       "      <td>Morning</td>\n",
       "      <td>...</td>\n",
       "      <td>Private</td>\n",
       "      <td>TOYOTA</td>\n",
       "      <td>1991.0</td>\n",
       "      <td>1000000.0</td>\n",
       "      <td>8514.85</td>\n",
       "      <td>Mr</td>\n",
       "      <td>BUSINESS -  SWEETS</td>\n",
       "      <td>54.0</td>\n",
       "      <td>86.0</td>\n",
       "      <td>0</td>\n",
       "    </tr>\n",
       "    <tr>\n",
       "      <th>1</th>\n",
       "      <td>ACCIDENT</td>\n",
       "      <td>NORMAL</td>\n",
       "      <td>3</td>\n",
       "      <td>11</td>\n",
       "      <td>3</td>\n",
       "      <td>Early Morning</td>\n",
       "      <td>4</td>\n",
       "      <td>17</td>\n",
       "      <td>4</td>\n",
       "      <td>Evening</td>\n",
       "      <td>...</td>\n",
       "      <td>Private Person</td>\n",
       "      <td>MITSUBISHI</td>\n",
       "      <td>2008.0</td>\n",
       "      <td>3000000.0</td>\n",
       "      <td>54000.00</td>\n",
       "      <td>Mrs</td>\n",
       "      <td>SENIOR LECTURE</td>\n",
       "      <td>65.0</td>\n",
       "      <td>72.0</td>\n",
       "      <td>0</td>\n",
       "    </tr>\n",
       "    <tr>\n",
       "      <th>2</th>\n",
       "      <td>ACCIDENT</td>\n",
       "      <td>NORMAL</td>\n",
       "      <td>10</td>\n",
       "      <td>42</td>\n",
       "      <td>4</td>\n",
       "      <td>Night</td>\n",
       "      <td>11</td>\n",
       "      <td>45</td>\n",
       "      <td>6</td>\n",
       "      <td>Morning</td>\n",
       "      <td>...</td>\n",
       "      <td>Private Person</td>\n",
       "      <td>MITSUBISHI</td>\n",
       "      <td>2008.0</td>\n",
       "      <td>3000000.0</td>\n",
       "      <td>54000.00</td>\n",
       "      <td>Mrs</td>\n",
       "      <td>SENIOR LECTURE</td>\n",
       "      <td>63.0</td>\n",
       "      <td>55.0</td>\n",
       "      <td>0</td>\n",
       "    </tr>\n",
       "    <tr>\n",
       "      <th>3</th>\n",
       "      <td>ACCIDENT</td>\n",
       "      <td>NORMAL</td>\n",
       "      <td>9</td>\n",
       "      <td>36</td>\n",
       "      <td>3</td>\n",
       "      <td>Morning</td>\n",
       "      <td>9</td>\n",
       "      <td>38</td>\n",
       "      <td>3</td>\n",
       "      <td>Afternoon</td>\n",
       "      <td>...</td>\n",
       "      <td>Private Person</td>\n",
       "      <td>TOYOTA</td>\n",
       "      <td>1997.0</td>\n",
       "      <td>750000.0</td>\n",
       "      <td>4792.65</td>\n",
       "      <td>Prof</td>\n",
       "      <td>SENIOR LECTUER</td>\n",
       "      <td>59.0</td>\n",
       "      <td>184.0</td>\n",
       "      <td>0</td>\n",
       "    </tr>\n",
       "    <tr>\n",
       "      <th>4</th>\n",
       "      <td>ACCIDENT</td>\n",
       "      <td>NORMAL</td>\n",
       "      <td>11</td>\n",
       "      <td>46</td>\n",
       "      <td>4</td>\n",
       "      <td>Late Night</td>\n",
       "      <td>1</td>\n",
       "      <td>4</td>\n",
       "      <td>3</td>\n",
       "      <td>Afternoon</td>\n",
       "      <td>...</td>\n",
       "      <td>Private Person</td>\n",
       "      <td>TOYOTA</td>\n",
       "      <td>1997.0</td>\n",
       "      <td>750000.0</td>\n",
       "      <td>4792.65</td>\n",
       "      <td>Prof</td>\n",
       "      <td>SENIOR LECTUER</td>\n",
       "      <td>57.0</td>\n",
       "      <td>164.0</td>\n",
       "      <td>0</td>\n",
       "    </tr>\n",
       "  </tbody>\n",
       "</table>\n",
       "<p>5 rows × 23 columns</p>\n",
       "</div>"
      ],
      "text/plain": [
       "  ACCIDENT_TYPPE TOTAL_LOST  ACCIDENT_MONTH  ACCIDENT_WEEK  ACCIDENT_WEEK_DAY  \\\n",
       "0       ACCIDENT     NORMAL               5             18                  2   \n",
       "1       ACCIDENT     NORMAL               3             11                  3   \n",
       "2       ACCIDENT     NORMAL              10             42                  4   \n",
       "3       ACCIDENT     NORMAL               9             36                  3   \n",
       "4       ACCIDENT     NORMAL              11             46                  4   \n",
       "\n",
       "   ACCIDENT_TIME  CLAIM_MONTH  CLAIM_WEEK  CLAIM_WEEK_DAY CLAIM_TIME  ...  \\\n",
       "0      Afternoon            8          34               4    Morning  ...   \n",
       "1  Early Morning            4          17               4    Evening  ...   \n",
       "2          Night           11          45               6    Morning  ...   \n",
       "3        Morning            9          38               3  Afternoon  ...   \n",
       "4     Late Night            1           4               3  Afternoon  ...   \n",
       "\n",
       "   PURPOSE_OF_USE        MAKE MAKE_YEAR SUM_INSURED   PREMIUM  STATUS  \\\n",
       "0         Private      TOYOTA    1991.0   1000000.0   8514.85      Mr   \n",
       "1  Private Person  MITSUBISHI    2008.0   3000000.0  54000.00     Mrs   \n",
       "2  Private Person  MITSUBISHI    2008.0   3000000.0  54000.00     Mrs   \n",
       "3  Private Person      TOYOTA    1997.0    750000.0   4792.65    Prof   \n",
       "4  Private Person      TOYOTA    1997.0    750000.0   4792.65    Prof   \n",
       "\n",
       "           PROFESSION   AGE MONTHS_AS_CUSTOMER FRAUD_OR_NOT  \n",
       "0  BUSINESS -  SWEETS  54.0               86.0            0  \n",
       "1      SENIOR LECTURE  65.0               72.0            0  \n",
       "2      SENIOR LECTURE  63.0               55.0            0  \n",
       "3      SENIOR LECTUER  59.0              184.0            0  \n",
       "4      SENIOR LECTUER  57.0              164.0            0  \n",
       "\n",
       "[5 rows x 23 columns]"
      ]
     },
     "execution_count": 51,
     "metadata": {},
     "output_type": "execute_result"
    }
   ],
   "source": [
    "data_new.head()"
   ]
  },
  {
   "cell_type": "code",
   "execution_count": 21,
   "id": "ac650ad3",
   "metadata": {},
   "outputs": [],
   "source": [
    "data_new2 = data.copy()"
   ]
  },
  {
   "cell_type": "code",
   "execution_count": 22,
   "id": "d4b4366a",
   "metadata": {},
   "outputs": [],
   "source": [
    "cat_data = data.select_dtypes(include=['object']).copy()"
   ]
  },
  {
   "cell_type": "code",
   "execution_count": 23,
   "id": "0c3ce740",
   "metadata": {},
   "outputs": [
    {
     "data": {
      "text/html": [
       "<div>\n",
       "<style scoped>\n",
       "    .dataframe tbody tr th:only-of-type {\n",
       "        vertical-align: middle;\n",
       "    }\n",
       "\n",
       "    .dataframe tbody tr th {\n",
       "        vertical-align: top;\n",
       "    }\n",
       "\n",
       "    .dataframe thead th {\n",
       "        text-align: right;\n",
       "    }\n",
       "</style>\n",
       "<table border=\"1\" class=\"dataframe\">\n",
       "  <thead>\n",
       "    <tr style=\"text-align: right;\">\n",
       "      <th></th>\n",
       "      <th>ACCIDENT_TYPPE</th>\n",
       "      <th>TOTAL_LOST</th>\n",
       "      <th>ACCIDENT_TIME</th>\n",
       "      <th>CLAIM_TIME</th>\n",
       "      <th>VEHICLE_CATEGORY</th>\n",
       "      <th>PURPOSE_OF_USE</th>\n",
       "      <th>MAKE</th>\n",
       "      <th>STATUS</th>\n",
       "    </tr>\n",
       "  </thead>\n",
       "  <tbody>\n",
       "    <tr>\n",
       "      <th>0</th>\n",
       "      <td>ACCIDENT</td>\n",
       "      <td>NORMAL</td>\n",
       "      <td>Afternoon</td>\n",
       "      <td>Morning</td>\n",
       "      <td>Dual Purpose</td>\n",
       "      <td>Private</td>\n",
       "      <td>TOYOTA</td>\n",
       "      <td>Mr</td>\n",
       "    </tr>\n",
       "    <tr>\n",
       "      <th>1</th>\n",
       "      <td>ACCIDENT</td>\n",
       "      <td>NORMAL</td>\n",
       "      <td>Early Morning</td>\n",
       "      <td>Evening</td>\n",
       "      <td>Car</td>\n",
       "      <td>Private Person</td>\n",
       "      <td>MITSUBISHI</td>\n",
       "      <td>Mrs</td>\n",
       "    </tr>\n",
       "    <tr>\n",
       "      <th>2</th>\n",
       "      <td>ACCIDENT</td>\n",
       "      <td>NORMAL</td>\n",
       "      <td>Night</td>\n",
       "      <td>Morning</td>\n",
       "      <td>Car</td>\n",
       "      <td>Private Person</td>\n",
       "      <td>MITSUBISHI</td>\n",
       "      <td>Mrs</td>\n",
       "    </tr>\n",
       "    <tr>\n",
       "      <th>3</th>\n",
       "      <td>ACCIDENT</td>\n",
       "      <td>NORMAL</td>\n",
       "      <td>Morning</td>\n",
       "      <td>Afternoon</td>\n",
       "      <td>Car</td>\n",
       "      <td>Private Person</td>\n",
       "      <td>TOYOTA</td>\n",
       "      <td>Prof</td>\n",
       "    </tr>\n",
       "    <tr>\n",
       "      <th>4</th>\n",
       "      <td>ACCIDENT</td>\n",
       "      <td>NORMAL</td>\n",
       "      <td>Late Night</td>\n",
       "      <td>Afternoon</td>\n",
       "      <td>Car</td>\n",
       "      <td>Private Person</td>\n",
       "      <td>TOYOTA</td>\n",
       "      <td>Prof</td>\n",
       "    </tr>\n",
       "  </tbody>\n",
       "</table>\n",
       "</div>"
      ],
      "text/plain": [
       "  ACCIDENT_TYPPE TOTAL_LOST  ACCIDENT_TIME CLAIM_TIME VEHICLE_CATEGORY  \\\n",
       "0       ACCIDENT     NORMAL      Afternoon    Morning     Dual Purpose   \n",
       "1       ACCIDENT     NORMAL  Early Morning    Evening              Car   \n",
       "2       ACCIDENT     NORMAL          Night    Morning              Car   \n",
       "3       ACCIDENT     NORMAL        Morning  Afternoon              Car   \n",
       "4       ACCIDENT     NORMAL     Late Night  Afternoon              Car   \n",
       "\n",
       "   PURPOSE_OF_USE        MAKE STATUS  \n",
       "0         Private      TOYOTA     Mr  \n",
       "1  Private Person  MITSUBISHI    Mrs  \n",
       "2  Private Person  MITSUBISHI    Mrs  \n",
       "3  Private Person      TOYOTA   Prof  \n",
       "4  Private Person      TOYOTA   Prof  "
      ]
     },
     "execution_count": 23,
     "metadata": {},
     "output_type": "execute_result"
    }
   ],
   "source": [
    "cat_data.head()"
   ]
  },
  {
   "cell_type": "code",
   "execution_count": 25,
   "id": "27379b5f",
   "metadata": {},
   "outputs": [],
   "source": [
    "data.ACCIDENT_TYPPE = pd.Categorical(data.ACCIDENT_TYPPE).codes\n",
    "data.TOTAL_LOST = pd.Categorical(data.TOTAL_LOST).codes\n",
    "data.ACCIDENT_TIME = pd.Categorical(data.ACCIDENT_TIME).codes\n",
    "data.CLAIM_TIME = pd.Categorical(data.CLAIM_TIME).codes\n",
    "data.VEHICLE_CATEGORY = pd.Categorical(data.VEHICLE_CATEGORY).codes\n",
    "data.PURPOSE_OF_USE = pd.Categorical(data.PURPOSE_OF_USE).codes\n",
    "data.MAKE = pd.Categorical(data.MAKE).codes\n",
    "data.STATUS = pd.Categorical(data.STATUS).codes"
   ]
  },
  {
   "cell_type": "code",
   "execution_count": 26,
   "id": "246ab18b",
   "metadata": {},
   "outputs": [
    {
     "data": {
      "text/html": [
       "<div>\n",
       "<style scoped>\n",
       "    .dataframe tbody tr th:only-of-type {\n",
       "        vertical-align: middle;\n",
       "    }\n",
       "\n",
       "    .dataframe tbody tr th {\n",
       "        vertical-align: top;\n",
       "    }\n",
       "\n",
       "    .dataframe thead th {\n",
       "        text-align: right;\n",
       "    }\n",
       "</style>\n",
       "<table border=\"1\" class=\"dataframe\">\n",
       "  <thead>\n",
       "    <tr style=\"text-align: right;\">\n",
       "      <th></th>\n",
       "      <th>ACCIDENT_TYPPE</th>\n",
       "      <th>TOTAL_LOST</th>\n",
       "      <th>ACCIDENT_MONTH</th>\n",
       "      <th>ACCIDENT_WEEK</th>\n",
       "      <th>ACCIDENT_WEEK_DAY</th>\n",
       "      <th>ACCIDENT_TIME</th>\n",
       "      <th>CLAIM_MONTH</th>\n",
       "      <th>CLAIM_WEEK</th>\n",
       "      <th>CLAIM_WEEK_DAY</th>\n",
       "      <th>CLAIM_TIME</th>\n",
       "      <th>GAP_IN_DAYS</th>\n",
       "      <th>ESTIMATED_AMOUNT</th>\n",
       "      <th>VEHICLE_CATEGORY</th>\n",
       "      <th>PURPOSE_OF_USE</th>\n",
       "      <th>MAKE</th>\n",
       "      <th>SUM_INSURED</th>\n",
       "      <th>PREMIUM</th>\n",
       "      <th>STATUS</th>\n",
       "      <th>MONTHS_AS_CUSTOMER</th>\n",
       "      <th>FRAUD_OR_NOT</th>\n",
       "    </tr>\n",
       "  </thead>\n",
       "  <tbody>\n",
       "    <tr>\n",
       "      <th>0</th>\n",
       "      <td>0</td>\n",
       "      <td>0</td>\n",
       "      <td>5</td>\n",
       "      <td>18</td>\n",
       "      <td>2</td>\n",
       "      <td>0</td>\n",
       "      <td>8</td>\n",
       "      <td>34</td>\n",
       "      <td>4</td>\n",
       "      <td>3</td>\n",
       "      <td>114</td>\n",
       "      <td>48110.0</td>\n",
       "      <td>3</td>\n",
       "      <td>10</td>\n",
       "      <td>35</td>\n",
       "      <td>1000000.0</td>\n",
       "      <td>8514.85</td>\n",
       "      <td>3</td>\n",
       "      <td>86.0</td>\n",
       "      <td>0</td>\n",
       "    </tr>\n",
       "    <tr>\n",
       "      <th>1</th>\n",
       "      <td>0</td>\n",
       "      <td>0</td>\n",
       "      <td>3</td>\n",
       "      <td>11</td>\n",
       "      <td>3</td>\n",
       "      <td>1</td>\n",
       "      <td>4</td>\n",
       "      <td>17</td>\n",
       "      <td>4</td>\n",
       "      <td>2</td>\n",
       "      <td>43</td>\n",
       "      <td>80000.0</td>\n",
       "      <td>2</td>\n",
       "      <td>13</td>\n",
       "      <td>24</td>\n",
       "      <td>3000000.0</td>\n",
       "      <td>54000.00</td>\n",
       "      <td>4</td>\n",
       "      <td>72.0</td>\n",
       "      <td>0</td>\n",
       "    </tr>\n",
       "    <tr>\n",
       "      <th>2</th>\n",
       "      <td>0</td>\n",
       "      <td>0</td>\n",
       "      <td>10</td>\n",
       "      <td>42</td>\n",
       "      <td>4</td>\n",
       "      <td>6</td>\n",
       "      <td>11</td>\n",
       "      <td>45</td>\n",
       "      <td>6</td>\n",
       "      <td>3</td>\n",
       "      <td>23</td>\n",
       "      <td>500000.0</td>\n",
       "      <td>2</td>\n",
       "      <td>13</td>\n",
       "      <td>24</td>\n",
       "      <td>3000000.0</td>\n",
       "      <td>54000.00</td>\n",
       "      <td>4</td>\n",
       "      <td>55.0</td>\n",
       "      <td>0</td>\n",
       "    </tr>\n",
       "    <tr>\n",
       "      <th>3</th>\n",
       "      <td>0</td>\n",
       "      <td>0</td>\n",
       "      <td>9</td>\n",
       "      <td>36</td>\n",
       "      <td>3</td>\n",
       "      <td>4</td>\n",
       "      <td>9</td>\n",
       "      <td>38</td>\n",
       "      <td>3</td>\n",
       "      <td>0</td>\n",
       "      <td>14</td>\n",
       "      <td>37050.0</td>\n",
       "      <td>2</td>\n",
       "      <td>13</td>\n",
       "      <td>35</td>\n",
       "      <td>750000.0</td>\n",
       "      <td>4792.65</td>\n",
       "      <td>7</td>\n",
       "      <td>184.0</td>\n",
       "      <td>0</td>\n",
       "    </tr>\n",
       "    <tr>\n",
       "      <th>4</th>\n",
       "      <td>0</td>\n",
       "      <td>0</td>\n",
       "      <td>11</td>\n",
       "      <td>46</td>\n",
       "      <td>4</td>\n",
       "      <td>3</td>\n",
       "      <td>1</td>\n",
       "      <td>4</td>\n",
       "      <td>3</td>\n",
       "      <td>0</td>\n",
       "      <td>76</td>\n",
       "      <td>66750.0</td>\n",
       "      <td>2</td>\n",
       "      <td>13</td>\n",
       "      <td>35</td>\n",
       "      <td>750000.0</td>\n",
       "      <td>4792.65</td>\n",
       "      <td>7</td>\n",
       "      <td>164.0</td>\n",
       "      <td>0</td>\n",
       "    </tr>\n",
       "  </tbody>\n",
       "</table>\n",
       "</div>"
      ],
      "text/plain": [
       "   ACCIDENT_TYPPE  TOTAL_LOST  ACCIDENT_MONTH  ACCIDENT_WEEK  \\\n",
       "0               0           0               5             18   \n",
       "1               0           0               3             11   \n",
       "2               0           0              10             42   \n",
       "3               0           0               9             36   \n",
       "4               0           0              11             46   \n",
       "\n",
       "   ACCIDENT_WEEK_DAY  ACCIDENT_TIME  CLAIM_MONTH  CLAIM_WEEK  CLAIM_WEEK_DAY  \\\n",
       "0                  2              0            8          34               4   \n",
       "1                  3              1            4          17               4   \n",
       "2                  4              6           11          45               6   \n",
       "3                  3              4            9          38               3   \n",
       "4                  4              3            1           4               3   \n",
       "\n",
       "   CLAIM_TIME  GAP_IN_DAYS  ESTIMATED_AMOUNT  VEHICLE_CATEGORY  \\\n",
       "0           3          114           48110.0                 3   \n",
       "1           2           43           80000.0                 2   \n",
       "2           3           23          500000.0                 2   \n",
       "3           0           14           37050.0                 2   \n",
       "4           0           76           66750.0                 2   \n",
       "\n",
       "   PURPOSE_OF_USE  MAKE  SUM_INSURED   PREMIUM  STATUS  MONTHS_AS_CUSTOMER  \\\n",
       "0              10    35    1000000.0   8514.85       3                86.0   \n",
       "1              13    24    3000000.0  54000.00       4                72.0   \n",
       "2              13    24    3000000.0  54000.00       4                55.0   \n",
       "3              13    35     750000.0   4792.65       7               184.0   \n",
       "4              13    35     750000.0   4792.65       7               164.0   \n",
       "\n",
       "   FRAUD_OR_NOT  \n",
       "0             0  \n",
       "1             0  \n",
       "2             0  \n",
       "3             0  \n",
       "4             0  "
      ]
     },
     "execution_count": 26,
     "metadata": {},
     "output_type": "execute_result"
    }
   ],
   "source": [
    "data.head()"
   ]
  },
  {
   "cell_type": "code",
   "execution_count": 24,
   "id": "285bd5b9",
   "metadata": {},
   "outputs": [
    {
     "data": {
      "text/plain": [
       "(30098, 20)"
      ]
     },
     "execution_count": 24,
     "metadata": {},
     "output_type": "execute_result"
    }
   ],
   "source": [
    "data.shape"
   ]
  },
  {
   "cell_type": "code",
   "execution_count": 27,
   "id": "590ba4fe",
   "metadata": {},
   "outputs": [],
   "source": [
    "from sklearn.feature_selection import SelectKBest, chi2"
   ]
  },
  {
   "cell_type": "code",
   "execution_count": 28,
   "id": "7c6eff47",
   "metadata": {},
   "outputs": [
    {
     "data": {
      "text/html": [
       "<div>\n",
       "<style scoped>\n",
       "    .dataframe tbody tr th:only-of-type {\n",
       "        vertical-align: middle;\n",
       "    }\n",
       "\n",
       "    .dataframe tbody tr th {\n",
       "        vertical-align: top;\n",
       "    }\n",
       "\n",
       "    .dataframe thead th {\n",
       "        text-align: right;\n",
       "    }\n",
       "</style>\n",
       "<table border=\"1\" class=\"dataframe\">\n",
       "  <thead>\n",
       "    <tr style=\"text-align: right;\">\n",
       "      <th></th>\n",
       "      <th>ACCIDENT_TYPPE</th>\n",
       "      <th>TOTAL_LOST</th>\n",
       "      <th>ACCIDENT_MONTH</th>\n",
       "      <th>ACCIDENT_WEEK</th>\n",
       "      <th>ACCIDENT_WEEK_DAY</th>\n",
       "      <th>ACCIDENT_TIME</th>\n",
       "      <th>CLAIM_MONTH</th>\n",
       "      <th>CLAIM_WEEK</th>\n",
       "      <th>CLAIM_WEEK_DAY</th>\n",
       "      <th>CLAIM_TIME</th>\n",
       "      <th>GAP_IN_DAYS</th>\n",
       "      <th>ESTIMATED_AMOUNT</th>\n",
       "      <th>VEHICLE_CATEGORY</th>\n",
       "      <th>PURPOSE_OF_USE</th>\n",
       "      <th>MAKE</th>\n",
       "      <th>SUM_INSURED</th>\n",
       "      <th>PREMIUM</th>\n",
       "      <th>STATUS</th>\n",
       "      <th>MONTHS_AS_CUSTOMER</th>\n",
       "    </tr>\n",
       "  </thead>\n",
       "  <tbody>\n",
       "    <tr>\n",
       "      <th>0</th>\n",
       "      <td>0</td>\n",
       "      <td>0</td>\n",
       "      <td>5</td>\n",
       "      <td>18</td>\n",
       "      <td>2</td>\n",
       "      <td>0</td>\n",
       "      <td>8</td>\n",
       "      <td>34</td>\n",
       "      <td>4</td>\n",
       "      <td>3</td>\n",
       "      <td>114</td>\n",
       "      <td>48110.0</td>\n",
       "      <td>3</td>\n",
       "      <td>10</td>\n",
       "      <td>35</td>\n",
       "      <td>1000000.0</td>\n",
       "      <td>8514.85</td>\n",
       "      <td>3</td>\n",
       "      <td>86.0</td>\n",
       "    </tr>\n",
       "    <tr>\n",
       "      <th>1</th>\n",
       "      <td>0</td>\n",
       "      <td>0</td>\n",
       "      <td>3</td>\n",
       "      <td>11</td>\n",
       "      <td>3</td>\n",
       "      <td>1</td>\n",
       "      <td>4</td>\n",
       "      <td>17</td>\n",
       "      <td>4</td>\n",
       "      <td>2</td>\n",
       "      <td>43</td>\n",
       "      <td>80000.0</td>\n",
       "      <td>2</td>\n",
       "      <td>13</td>\n",
       "      <td>24</td>\n",
       "      <td>3000000.0</td>\n",
       "      <td>54000.00</td>\n",
       "      <td>4</td>\n",
       "      <td>72.0</td>\n",
       "    </tr>\n",
       "    <tr>\n",
       "      <th>2</th>\n",
       "      <td>0</td>\n",
       "      <td>0</td>\n",
       "      <td>10</td>\n",
       "      <td>42</td>\n",
       "      <td>4</td>\n",
       "      <td>6</td>\n",
       "      <td>11</td>\n",
       "      <td>45</td>\n",
       "      <td>6</td>\n",
       "      <td>3</td>\n",
       "      <td>23</td>\n",
       "      <td>500000.0</td>\n",
       "      <td>2</td>\n",
       "      <td>13</td>\n",
       "      <td>24</td>\n",
       "      <td>3000000.0</td>\n",
       "      <td>54000.00</td>\n",
       "      <td>4</td>\n",
       "      <td>55.0</td>\n",
       "    </tr>\n",
       "    <tr>\n",
       "      <th>3</th>\n",
       "      <td>0</td>\n",
       "      <td>0</td>\n",
       "      <td>9</td>\n",
       "      <td>36</td>\n",
       "      <td>3</td>\n",
       "      <td>4</td>\n",
       "      <td>9</td>\n",
       "      <td>38</td>\n",
       "      <td>3</td>\n",
       "      <td>0</td>\n",
       "      <td>14</td>\n",
       "      <td>37050.0</td>\n",
       "      <td>2</td>\n",
       "      <td>13</td>\n",
       "      <td>35</td>\n",
       "      <td>750000.0</td>\n",
       "      <td>4792.65</td>\n",
       "      <td>7</td>\n",
       "      <td>184.0</td>\n",
       "    </tr>\n",
       "    <tr>\n",
       "      <th>4</th>\n",
       "      <td>0</td>\n",
       "      <td>0</td>\n",
       "      <td>11</td>\n",
       "      <td>46</td>\n",
       "      <td>4</td>\n",
       "      <td>3</td>\n",
       "      <td>1</td>\n",
       "      <td>4</td>\n",
       "      <td>3</td>\n",
       "      <td>0</td>\n",
       "      <td>76</td>\n",
       "      <td>66750.0</td>\n",
       "      <td>2</td>\n",
       "      <td>13</td>\n",
       "      <td>35</td>\n",
       "      <td>750000.0</td>\n",
       "      <td>4792.65</td>\n",
       "      <td>7</td>\n",
       "      <td>164.0</td>\n",
       "    </tr>\n",
       "    <tr>\n",
       "      <th>...</th>\n",
       "      <td>...</td>\n",
       "      <td>...</td>\n",
       "      <td>...</td>\n",
       "      <td>...</td>\n",
       "      <td>...</td>\n",
       "      <td>...</td>\n",
       "      <td>...</td>\n",
       "      <td>...</td>\n",
       "      <td>...</td>\n",
       "      <td>...</td>\n",
       "      <td>...</td>\n",
       "      <td>...</td>\n",
       "      <td>...</td>\n",
       "      <td>...</td>\n",
       "      <td>...</td>\n",
       "      <td>...</td>\n",
       "      <td>...</td>\n",
       "      <td>...</td>\n",
       "      <td>...</td>\n",
       "    </tr>\n",
       "    <tr>\n",
       "      <th>30093</th>\n",
       "      <td>0</td>\n",
       "      <td>0</td>\n",
       "      <td>1</td>\n",
       "      <td>1</td>\n",
       "      <td>2</td>\n",
       "      <td>0</td>\n",
       "      <td>1</td>\n",
       "      <td>2</td>\n",
       "      <td>2</td>\n",
       "      <td>0</td>\n",
       "      <td>7</td>\n",
       "      <td>133000.0</td>\n",
       "      <td>6</td>\n",
       "      <td>9</td>\n",
       "      <td>26</td>\n",
       "      <td>0.0</td>\n",
       "      <td>0.00</td>\n",
       "      <td>6</td>\n",
       "      <td>0.0</td>\n",
       "    </tr>\n",
       "    <tr>\n",
       "      <th>30094</th>\n",
       "      <td>0</td>\n",
       "      <td>0</td>\n",
       "      <td>8</td>\n",
       "      <td>33</td>\n",
       "      <td>1</td>\n",
       "      <td>6</td>\n",
       "      <td>9</td>\n",
       "      <td>37</td>\n",
       "      <td>6</td>\n",
       "      <td>3</td>\n",
       "      <td>33</td>\n",
       "      <td>15400.0</td>\n",
       "      <td>2</td>\n",
       "      <td>11</td>\n",
       "      <td>33</td>\n",
       "      <td>5600000.0</td>\n",
       "      <td>67900.00</td>\n",
       "      <td>6</td>\n",
       "      <td>9.0</td>\n",
       "    </tr>\n",
       "    <tr>\n",
       "      <th>30095</th>\n",
       "      <td>0</td>\n",
       "      <td>0</td>\n",
       "      <td>1</td>\n",
       "      <td>4</td>\n",
       "      <td>3</td>\n",
       "      <td>4</td>\n",
       "      <td>2</td>\n",
       "      <td>5</td>\n",
       "      <td>6</td>\n",
       "      <td>0</td>\n",
       "      <td>10</td>\n",
       "      <td>6300.0</td>\n",
       "      <td>4</td>\n",
       "      <td>10</td>\n",
       "      <td>34</td>\n",
       "      <td>1200000.0</td>\n",
       "      <td>27223.75</td>\n",
       "      <td>6</td>\n",
       "      <td>4.0</td>\n",
       "    </tr>\n",
       "    <tr>\n",
       "      <th>30096</th>\n",
       "      <td>0</td>\n",
       "      <td>0</td>\n",
       "      <td>12</td>\n",
       "      <td>51</td>\n",
       "      <td>6</td>\n",
       "      <td>3</td>\n",
       "      <td>1</td>\n",
       "      <td>5</td>\n",
       "      <td>2</td>\n",
       "      <td>0</td>\n",
       "      <td>45</td>\n",
       "      <td>51650.0</td>\n",
       "      <td>2</td>\n",
       "      <td>14</td>\n",
       "      <td>35</td>\n",
       "      <td>4900000.0</td>\n",
       "      <td>107049.00</td>\n",
       "      <td>6</td>\n",
       "      <td>12.0</td>\n",
       "    </tr>\n",
       "    <tr>\n",
       "      <th>30097</th>\n",
       "      <td>0</td>\n",
       "      <td>0</td>\n",
       "      <td>8</td>\n",
       "      <td>33</td>\n",
       "      <td>7</td>\n",
       "      <td>6</td>\n",
       "      <td>9</td>\n",
       "      <td>37</td>\n",
       "      <td>4</td>\n",
       "      <td>3</td>\n",
       "      <td>25</td>\n",
       "      <td>53100.0</td>\n",
       "      <td>3</td>\n",
       "      <td>10</td>\n",
       "      <td>24</td>\n",
       "      <td>6390000.0</td>\n",
       "      <td>70990.00</td>\n",
       "      <td>6</td>\n",
       "      <td>17.0</td>\n",
       "    </tr>\n",
       "  </tbody>\n",
       "</table>\n",
       "<p>30098 rows × 19 columns</p>\n",
       "</div>"
      ],
      "text/plain": [
       "       ACCIDENT_TYPPE  TOTAL_LOST  ACCIDENT_MONTH  ACCIDENT_WEEK  \\\n",
       "0                   0           0               5             18   \n",
       "1                   0           0               3             11   \n",
       "2                   0           0              10             42   \n",
       "3                   0           0               9             36   \n",
       "4                   0           0              11             46   \n",
       "...               ...         ...             ...            ...   \n",
       "30093               0           0               1              1   \n",
       "30094               0           0               8             33   \n",
       "30095               0           0               1              4   \n",
       "30096               0           0              12             51   \n",
       "30097               0           0               8             33   \n",
       "\n",
       "       ACCIDENT_WEEK_DAY  ACCIDENT_TIME  CLAIM_MONTH  CLAIM_WEEK  \\\n",
       "0                      2              0            8          34   \n",
       "1                      3              1            4          17   \n",
       "2                      4              6           11          45   \n",
       "3                      3              4            9          38   \n",
       "4                      4              3            1           4   \n",
       "...                  ...            ...          ...         ...   \n",
       "30093                  2              0            1           2   \n",
       "30094                  1              6            9          37   \n",
       "30095                  3              4            2           5   \n",
       "30096                  6              3            1           5   \n",
       "30097                  7              6            9          37   \n",
       "\n",
       "       CLAIM_WEEK_DAY  CLAIM_TIME  GAP_IN_DAYS  ESTIMATED_AMOUNT  \\\n",
       "0                   4           3          114           48110.0   \n",
       "1                   4           2           43           80000.0   \n",
       "2                   6           3           23          500000.0   \n",
       "3                   3           0           14           37050.0   \n",
       "4                   3           0           76           66750.0   \n",
       "...               ...         ...          ...               ...   \n",
       "30093               2           0            7          133000.0   \n",
       "30094               6           3           33           15400.0   \n",
       "30095               6           0           10            6300.0   \n",
       "30096               2           0           45           51650.0   \n",
       "30097               4           3           25           53100.0   \n",
       "\n",
       "       VEHICLE_CATEGORY  PURPOSE_OF_USE  MAKE  SUM_INSURED    PREMIUM  STATUS  \\\n",
       "0                     3              10    35    1000000.0    8514.85       3   \n",
       "1                     2              13    24    3000000.0   54000.00       4   \n",
       "2                     2              13    24    3000000.0   54000.00       4   \n",
       "3                     2              13    35     750000.0    4792.65       7   \n",
       "4                     2              13    35     750000.0    4792.65       7   \n",
       "...                 ...             ...   ...          ...        ...     ...   \n",
       "30093                 6               9    26          0.0       0.00       6   \n",
       "30094                 2              11    33    5600000.0   67900.00       6   \n",
       "30095                 4              10    34    1200000.0   27223.75       6   \n",
       "30096                 2              14    35    4900000.0  107049.00       6   \n",
       "30097                 3              10    24    6390000.0   70990.00       6   \n",
       "\n",
       "       MONTHS_AS_CUSTOMER  \n",
       "0                    86.0  \n",
       "1                    72.0  \n",
       "2                    55.0  \n",
       "3                   184.0  \n",
       "4                   164.0  \n",
       "...                   ...  \n",
       "30093                 0.0  \n",
       "30094                 9.0  \n",
       "30095                 4.0  \n",
       "30096                12.0  \n",
       "30097                17.0  \n",
       "\n",
       "[30098 rows x 19 columns]"
      ]
     },
     "execution_count": 28,
     "metadata": {},
     "output_type": "execute_result"
    }
   ],
   "source": [
    "x= data.iloc[:,0:19]\n",
    "y = data.iloc[:,-1]\n",
    "x"
   ]
  },
  {
   "cell_type": "code",
   "execution_count": 29,
   "id": "7a860385",
   "metadata": {},
   "outputs": [
    {
     "name": "stdout",
     "output_type": "stream",
     "text": [
      "              Features         Score\n",
      "15         SUM_INSURED  4.304111e+09\n",
      "11    ESTIMATED_AMOUNT  6.808839e+07\n",
      "16             PREMIUM  6.724303e+07\n",
      "18  MONTHS_AS_CUSTOMER  2.196569e+04\n",
      "12    VEHICLE_CATEGORY  5.148025e+03\n",
      "17              STATUS  2.360111e+03\n",
      "5        ACCIDENT_TIME  1.321434e+03\n",
      "13      PURPOSE_OF_USE  1.209039e+03\n",
      "14                MAKE  4.595788e+02\n",
      "10         GAP_IN_DAYS  1.030553e+02\n"
     ]
    }
   ],
   "source": [
    "best_features = SelectKBest(score_func = chi2, k =10)\n",
    "model = best_features.fit(x,y)\n",
    "scores = pd.DataFrame(model.scores_)\n",
    "\n",
    "columns  = pd.DataFrame(x.columns)\n",
    "featurescores = pd.concat ([columns, scores], axis=1)\n",
    "featurescores.columns = [\"Features\",\"Score\"]\n",
    "print(featurescores.nlargest(10,'Score'))"
   ]
  },
  {
   "cell_type": "code",
   "execution_count": 36,
   "id": "08b259f3",
   "metadata": {},
   "outputs": [
    {
     "data": {
      "image/png": "[encoded data removed]",
      "text/plain": [
       "<Figure size 1080x720 with 2 Axes>"
      ]
     },
     "metadata": {},
     "output_type": "display_data"
    }
   ],
   "source": [
    "plt.rcParams['figure.figsize'] = (15, 10)\n",
    "sns.heatmap(data.corr(), cmap = 'copper')\n",
    "plt.title('Heat Map for Correlations', fontsize = 20)\n",
    "plt.show()"
   ]
  },
  {
   "cell_type": "code",
   "execution_count": 30,
   "id": "3821c85a",
   "metadata": {},
   "outputs": [],
   "source": [
    "data2= data[['SUM_INSURED','ESTIMATED_AMOUNT','PREMIUM','MONTHS_AS_CUSTOMER','VEHICLE_CATEGORY',\n",
    "         'STATUS','ACCIDENT_TIME','PURPOSE_OF_USE','MAKE','GAP_IN_DAYS','FRAUD_OR_NOT']]"
   ]
  },
  {
   "cell_type": "code",
   "execution_count": 31,
   "id": "463c8620",
   "metadata": {},
   "outputs": [
    {
     "data": {
      "text/html": [
       "<div>\n",
       "<style scoped>\n",
       "    .dataframe tbody tr th:only-of-type {\n",
       "        vertical-align: middle;\n",
       "    }\n",
       "\n",
       "    .dataframe tbody tr th {\n",
       "        vertical-align: top;\n",
       "    }\n",
       "\n",
       "    .dataframe thead th {\n",
       "        text-align: right;\n",
       "    }\n",
       "</style>\n",
       "<table border=\"1\" class=\"dataframe\">\n",
       "  <thead>\n",
       "    <tr style=\"text-align: right;\">\n",
       "      <th></th>\n",
       "      <th>SUM_INSURED</th>\n",
       "      <th>ESTIMATED_AMOUNT</th>\n",
       "      <th>PREMIUM</th>\n",
       "      <th>MONTHS_AS_CUSTOMER</th>\n",
       "      <th>VEHICLE_CATEGORY</th>\n",
       "      <th>STATUS</th>\n",
       "      <th>ACCIDENT_TIME</th>\n",
       "      <th>PURPOSE_OF_USE</th>\n",
       "      <th>MAKE</th>\n",
       "      <th>GAP_IN_DAYS</th>\n",
       "      <th>FRAUD_OR_NOT</th>\n",
       "    </tr>\n",
       "  </thead>\n",
       "  <tbody>\n",
       "    <tr>\n",
       "      <th>0</th>\n",
       "      <td>1000000.0</td>\n",
       "      <td>48110.0</td>\n",
       "      <td>8514.85</td>\n",
       "      <td>86.0</td>\n",
       "      <td>3</td>\n",
       "      <td>3</td>\n",
       "      <td>0</td>\n",
       "      <td>10</td>\n",
       "      <td>35</td>\n",
       "      <td>114</td>\n",
       "      <td>0</td>\n",
       "    </tr>\n",
       "    <tr>\n",
       "      <th>1</th>\n",
       "      <td>3000000.0</td>\n",
       "      <td>80000.0</td>\n",
       "      <td>54000.00</td>\n",
       "      <td>72.0</td>\n",
       "      <td>2</td>\n",
       "      <td>4</td>\n",
       "      <td>1</td>\n",
       "      <td>13</td>\n",
       "      <td>24</td>\n",
       "      <td>43</td>\n",
       "      <td>0</td>\n",
       "    </tr>\n",
       "    <tr>\n",
       "      <th>2</th>\n",
       "      <td>3000000.0</td>\n",
       "      <td>500000.0</td>\n",
       "      <td>54000.00</td>\n",
       "      <td>55.0</td>\n",
       "      <td>2</td>\n",
       "      <td>4</td>\n",
       "      <td>6</td>\n",
       "      <td>13</td>\n",
       "      <td>24</td>\n",
       "      <td>23</td>\n",
       "      <td>0</td>\n",
       "    </tr>\n",
       "    <tr>\n",
       "      <th>3</th>\n",
       "      <td>750000.0</td>\n",
       "      <td>37050.0</td>\n",
       "      <td>4792.65</td>\n",
       "      <td>184.0</td>\n",
       "      <td>2</td>\n",
       "      <td>7</td>\n",
       "      <td>4</td>\n",
       "      <td>13</td>\n",
       "      <td>35</td>\n",
       "      <td>14</td>\n",
       "      <td>0</td>\n",
       "    </tr>\n",
       "    <tr>\n",
       "      <th>4</th>\n",
       "      <td>750000.0</td>\n",
       "      <td>66750.0</td>\n",
       "      <td>4792.65</td>\n",
       "      <td>164.0</td>\n",
       "      <td>2</td>\n",
       "      <td>7</td>\n",
       "      <td>3</td>\n",
       "      <td>13</td>\n",
       "      <td>35</td>\n",
       "      <td>76</td>\n",
       "      <td>0</td>\n",
       "    </tr>\n",
       "    <tr>\n",
       "      <th>...</th>\n",
       "      <td>...</td>\n",
       "      <td>...</td>\n",
       "      <td>...</td>\n",
       "      <td>...</td>\n",
       "      <td>...</td>\n",
       "      <td>...</td>\n",
       "      <td>...</td>\n",
       "      <td>...</td>\n",
       "      <td>...</td>\n",
       "      <td>...</td>\n",
       "      <td>...</td>\n",
       "    </tr>\n",
       "    <tr>\n",
       "      <th>30093</th>\n",
       "      <td>0.0</td>\n",
       "      <td>133000.0</td>\n",
       "      <td>0.00</td>\n",
       "      <td>0.0</td>\n",
       "      <td>6</td>\n",
       "      <td>6</td>\n",
       "      <td>0</td>\n",
       "      <td>9</td>\n",
       "      <td>26</td>\n",
       "      <td>7</td>\n",
       "      <td>1</td>\n",
       "    </tr>\n",
       "    <tr>\n",
       "      <th>30094</th>\n",
       "      <td>5600000.0</td>\n",
       "      <td>15400.0</td>\n",
       "      <td>67900.00</td>\n",
       "      <td>9.0</td>\n",
       "      <td>2</td>\n",
       "      <td>6</td>\n",
       "      <td>6</td>\n",
       "      <td>11</td>\n",
       "      <td>33</td>\n",
       "      <td>33</td>\n",
       "      <td>1</td>\n",
       "    </tr>\n",
       "    <tr>\n",
       "      <th>30095</th>\n",
       "      <td>1200000.0</td>\n",
       "      <td>6300.0</td>\n",
       "      <td>27223.75</td>\n",
       "      <td>4.0</td>\n",
       "      <td>4</td>\n",
       "      <td>6</td>\n",
       "      <td>4</td>\n",
       "      <td>10</td>\n",
       "      <td>34</td>\n",
       "      <td>10</td>\n",
       "      <td>1</td>\n",
       "    </tr>\n",
       "    <tr>\n",
       "      <th>30096</th>\n",
       "      <td>4900000.0</td>\n",
       "      <td>51650.0</td>\n",
       "      <td>107049.00</td>\n",
       "      <td>12.0</td>\n",
       "      <td>2</td>\n",
       "      <td>6</td>\n",
       "      <td>3</td>\n",
       "      <td>14</td>\n",
       "      <td>35</td>\n",
       "      <td>45</td>\n",
       "      <td>1</td>\n",
       "    </tr>\n",
       "    <tr>\n",
       "      <th>30097</th>\n",
       "      <td>6390000.0</td>\n",
       "      <td>53100.0</td>\n",
       "      <td>70990.00</td>\n",
       "      <td>17.0</td>\n",
       "      <td>3</td>\n",
       "      <td>6</td>\n",
       "      <td>6</td>\n",
       "      <td>10</td>\n",
       "      <td>24</td>\n",
       "      <td>25</td>\n",
       "      <td>1</td>\n",
       "    </tr>\n",
       "  </tbody>\n",
       "</table>\n",
       "<p>30098 rows × 11 columns</p>\n",
       "</div>"
      ],
      "text/plain": [
       "       SUM_INSURED  ESTIMATED_AMOUNT    PREMIUM  MONTHS_AS_CUSTOMER  \\\n",
       "0        1000000.0           48110.0    8514.85                86.0   \n",
       "1        3000000.0           80000.0   54000.00                72.0   \n",
       "2        3000000.0          500000.0   54000.00                55.0   \n",
       "3         750000.0           37050.0    4792.65               184.0   \n",
       "4         750000.0           66750.0    4792.65               164.0   \n",
       "...            ...               ...        ...                 ...   \n",
       "30093          0.0          133000.0       0.00                 0.0   \n",
       "30094    5600000.0           15400.0   67900.00                 9.0   \n",
       "30095    1200000.0            6300.0   27223.75                 4.0   \n",
       "30096    4900000.0           51650.0  107049.00                12.0   \n",
       "30097    6390000.0           53100.0   70990.00                17.0   \n",
       "\n",
       "       VEHICLE_CATEGORY  STATUS  ACCIDENT_TIME  PURPOSE_OF_USE  MAKE  \\\n",
       "0                     3       3              0              10    35   \n",
       "1                     2       4              1              13    24   \n",
       "2                     2       4              6              13    24   \n",
       "3                     2       7              4              13    35   \n",
       "4                     2       7              3              13    35   \n",
       "...                 ...     ...            ...             ...   ...   \n",
       "30093                 6       6              0               9    26   \n",
       "30094                 2       6              6              11    33   \n",
       "30095                 4       6              4              10    34   \n",
       "30096                 2       6              3              14    35   \n",
       "30097                 3       6              6              10    24   \n",
       "\n",
       "       GAP_IN_DAYS  FRAUD_OR_NOT  \n",
       "0              114             0  \n",
       "1               43             0  \n",
       "2               23             0  \n",
       "3               14             0  \n",
       "4               76             0  \n",
       "...            ...           ...  \n",
       "30093            7             1  \n",
       "30094           33             1  \n",
       "30095           10             1  \n",
       "30096           45             1  \n",
       "30097           25             1  \n",
       "\n",
       "[30098 rows x 11 columns]"
      ]
     },
     "execution_count": 31,
     "metadata": {},
     "output_type": "execute_result"
    }
   ],
   "source": [
    "data2"
   ]
  },
  {
   "cell_type": "code",
   "execution_count": 130,
   "id": "f530f8cb",
   "metadata": {},
   "outputs": [
    {
     "data": {
      "text/html": [
       "<div>\n",
       "<style scoped>\n",
       "    .dataframe tbody tr th:only-of-type {\n",
       "        vertical-align: middle;\n",
       "    }\n",
       "\n",
       "    .dataframe tbody tr th {\n",
       "        vertical-align: top;\n",
       "    }\n",
       "\n",
       "    .dataframe thead th {\n",
       "        text-align: right;\n",
       "    }\n",
       "</style>\n",
       "<table border=\"1\" class=\"dataframe\">\n",
       "  <thead>\n",
       "    <tr style=\"text-align: right;\">\n",
       "      <th></th>\n",
       "      <th>ACCIDENT_TYPPE</th>\n",
       "      <th>TOTAL_LOST</th>\n",
       "      <th>ACCIDENT_MONTH</th>\n",
       "      <th>ACCIDENT_WEEK</th>\n",
       "      <th>ACCIDENT_WEEK_DAY</th>\n",
       "      <th>ACCIDENT_TIME</th>\n",
       "      <th>CLAIM_MONTH</th>\n",
       "      <th>CLAIM_WEEK</th>\n",
       "      <th>CLAIM_WEEK_DAY</th>\n",
       "      <th>CLAIM_TIME</th>\n",
       "      <th>...</th>\n",
       "      <th>PURPOSE_OF_USE</th>\n",
       "      <th>MAKE</th>\n",
       "      <th>MAKE_YEAR</th>\n",
       "      <th>SUM_INSURED</th>\n",
       "      <th>PREMIUM</th>\n",
       "      <th>STATUS</th>\n",
       "      <th>PROFESSION</th>\n",
       "      <th>AGE</th>\n",
       "      <th>MONTHS_AS_CUSTOMER</th>\n",
       "      <th>FRAUD_OR_NOT</th>\n",
       "    </tr>\n",
       "  </thead>\n",
       "  <tbody>\n",
       "    <tr>\n",
       "      <th>0</th>\n",
       "      <td>0</td>\n",
       "      <td>0</td>\n",
       "      <td>5</td>\n",
       "      <td>18</td>\n",
       "      <td>2</td>\n",
       "      <td>0</td>\n",
       "      <td>8</td>\n",
       "      <td>34</td>\n",
       "      <td>4</td>\n",
       "      <td>3</td>\n",
       "      <td>...</td>\n",
       "      <td>10</td>\n",
       "      <td>35</td>\n",
       "      <td>1991.0</td>\n",
       "      <td>1000000.0</td>\n",
       "      <td>8514.85</td>\n",
       "      <td>3</td>\n",
       "      <td>416</td>\n",
       "      <td>54.0</td>\n",
       "      <td>86.0</td>\n",
       "      <td>0</td>\n",
       "    </tr>\n",
       "    <tr>\n",
       "      <th>1</th>\n",
       "      <td>0</td>\n",
       "      <td>0</td>\n",
       "      <td>3</td>\n",
       "      <td>11</td>\n",
       "      <td>3</td>\n",
       "      <td>1</td>\n",
       "      <td>4</td>\n",
       "      <td>17</td>\n",
       "      <td>4</td>\n",
       "      <td>2</td>\n",
       "      <td>...</td>\n",
       "      <td>13</td>\n",
       "      <td>24</td>\n",
       "      <td>2008.0</td>\n",
       "      <td>3000000.0</td>\n",
       "      <td>54000.00</td>\n",
       "      <td>4</td>\n",
       "      <td>2203</td>\n",
       "      <td>65.0</td>\n",
       "      <td>72.0</td>\n",
       "      <td>0</td>\n",
       "    </tr>\n",
       "    <tr>\n",
       "      <th>2</th>\n",
       "      <td>0</td>\n",
       "      <td>0</td>\n",
       "      <td>10</td>\n",
       "      <td>42</td>\n",
       "      <td>4</td>\n",
       "      <td>6</td>\n",
       "      <td>11</td>\n",
       "      <td>45</td>\n",
       "      <td>6</td>\n",
       "      <td>3</td>\n",
       "      <td>...</td>\n",
       "      <td>13</td>\n",
       "      <td>24</td>\n",
       "      <td>2008.0</td>\n",
       "      <td>3000000.0</td>\n",
       "      <td>54000.00</td>\n",
       "      <td>4</td>\n",
       "      <td>2203</td>\n",
       "      <td>63.0</td>\n",
       "      <td>55.0</td>\n",
       "      <td>0</td>\n",
       "    </tr>\n",
       "    <tr>\n",
       "      <th>3</th>\n",
       "      <td>0</td>\n",
       "      <td>0</td>\n",
       "      <td>9</td>\n",
       "      <td>36</td>\n",
       "      <td>3</td>\n",
       "      <td>4</td>\n",
       "      <td>9</td>\n",
       "      <td>38</td>\n",
       "      <td>3</td>\n",
       "      <td>0</td>\n",
       "      <td>...</td>\n",
       "      <td>13</td>\n",
       "      <td>35</td>\n",
       "      <td>1997.0</td>\n",
       "      <td>750000.0</td>\n",
       "      <td>4792.65</td>\n",
       "      <td>7</td>\n",
       "      <td>2201</td>\n",
       "      <td>59.0</td>\n",
       "      <td>184.0</td>\n",
       "      <td>0</td>\n",
       "    </tr>\n",
       "    <tr>\n",
       "      <th>4</th>\n",
       "      <td>0</td>\n",
       "      <td>0</td>\n",
       "      <td>11</td>\n",
       "      <td>46</td>\n",
       "      <td>4</td>\n",
       "      <td>3</td>\n",
       "      <td>1</td>\n",
       "      <td>4</td>\n",
       "      <td>3</td>\n",
       "      <td>0</td>\n",
       "      <td>...</td>\n",
       "      <td>13</td>\n",
       "      <td>35</td>\n",
       "      <td>1997.0</td>\n",
       "      <td>750000.0</td>\n",
       "      <td>4792.65</td>\n",
       "      <td>7</td>\n",
       "      <td>2201</td>\n",
       "      <td>57.0</td>\n",
       "      <td>164.0</td>\n",
       "      <td>0</td>\n",
       "    </tr>\n",
       "    <tr>\n",
       "      <th>...</th>\n",
       "      <td>...</td>\n",
       "      <td>...</td>\n",
       "      <td>...</td>\n",
       "      <td>...</td>\n",
       "      <td>...</td>\n",
       "      <td>...</td>\n",
       "      <td>...</td>\n",
       "      <td>...</td>\n",
       "      <td>...</td>\n",
       "      <td>...</td>\n",
       "      <td>...</td>\n",
       "      <td>...</td>\n",
       "      <td>...</td>\n",
       "      <td>...</td>\n",
       "      <td>...</td>\n",
       "      <td>...</td>\n",
       "      <td>...</td>\n",
       "      <td>...</td>\n",
       "      <td>...</td>\n",
       "      <td>...</td>\n",
       "      <td>...</td>\n",
       "    </tr>\n",
       "    <tr>\n",
       "      <th>30093</th>\n",
       "      <td>0</td>\n",
       "      <td>0</td>\n",
       "      <td>1</td>\n",
       "      <td>1</td>\n",
       "      <td>2</td>\n",
       "      <td>0</td>\n",
       "      <td>1</td>\n",
       "      <td>2</td>\n",
       "      <td>2</td>\n",
       "      <td>0</td>\n",
       "      <td>...</td>\n",
       "      <td>9</td>\n",
       "      <td>26</td>\n",
       "      <td>0.0</td>\n",
       "      <td>0.0</td>\n",
       "      <td>0.00</td>\n",
       "      <td>6</td>\n",
       "      <td>1659</td>\n",
       "      <td>0.0</td>\n",
       "      <td>0.0</td>\n",
       "      <td>1</td>\n",
       "    </tr>\n",
       "    <tr>\n",
       "      <th>30094</th>\n",
       "      <td>0</td>\n",
       "      <td>0</td>\n",
       "      <td>8</td>\n",
       "      <td>33</td>\n",
       "      <td>1</td>\n",
       "      <td>6</td>\n",
       "      <td>9</td>\n",
       "      <td>37</td>\n",
       "      <td>6</td>\n",
       "      <td>3</td>\n",
       "      <td>...</td>\n",
       "      <td>11</td>\n",
       "      <td>33</td>\n",
       "      <td>2016.0</td>\n",
       "      <td>5600000.0</td>\n",
       "      <td>67900.00</td>\n",
       "      <td>6</td>\n",
       "      <td>1659</td>\n",
       "      <td>0.0</td>\n",
       "      <td>9.0</td>\n",
       "      <td>1</td>\n",
       "    </tr>\n",
       "    <tr>\n",
       "      <th>30095</th>\n",
       "      <td>0</td>\n",
       "      <td>0</td>\n",
       "      <td>1</td>\n",
       "      <td>4</td>\n",
       "      <td>3</td>\n",
       "      <td>4</td>\n",
       "      <td>2</td>\n",
       "      <td>5</td>\n",
       "      <td>6</td>\n",
       "      <td>0</td>\n",
       "      <td>...</td>\n",
       "      <td>10</td>\n",
       "      <td>34</td>\n",
       "      <td>1997.0</td>\n",
       "      <td>1200000.0</td>\n",
       "      <td>27223.75</td>\n",
       "      <td>6</td>\n",
       "      <td>1659</td>\n",
       "      <td>0.0</td>\n",
       "      <td>4.0</td>\n",
       "      <td>1</td>\n",
       "    </tr>\n",
       "    <tr>\n",
       "      <th>30096</th>\n",
       "      <td>0</td>\n",
       "      <td>0</td>\n",
       "      <td>12</td>\n",
       "      <td>51</td>\n",
       "      <td>6</td>\n",
       "      <td>3</td>\n",
       "      <td>1</td>\n",
       "      <td>5</td>\n",
       "      <td>2</td>\n",
       "      <td>0</td>\n",
       "      <td>...</td>\n",
       "      <td>14</td>\n",
       "      <td>35</td>\n",
       "      <td>2014.0</td>\n",
       "      <td>4900000.0</td>\n",
       "      <td>107049.00</td>\n",
       "      <td>6</td>\n",
       "      <td>1659</td>\n",
       "      <td>0.0</td>\n",
       "      <td>12.0</td>\n",
       "      <td>1</td>\n",
       "    </tr>\n",
       "    <tr>\n",
       "      <th>30097</th>\n",
       "      <td>0</td>\n",
       "      <td>0</td>\n",
       "      <td>8</td>\n",
       "      <td>33</td>\n",
       "      <td>7</td>\n",
       "      <td>6</td>\n",
       "      <td>9</td>\n",
       "      <td>37</td>\n",
       "      <td>4</td>\n",
       "      <td>3</td>\n",
       "      <td>...</td>\n",
       "      <td>10</td>\n",
       "      <td>24</td>\n",
       "      <td>2014.0</td>\n",
       "      <td>6390000.0</td>\n",
       "      <td>70990.00</td>\n",
       "      <td>6</td>\n",
       "      <td>1659</td>\n",
       "      <td>0.0</td>\n",
       "      <td>17.0</td>\n",
       "      <td>1</td>\n",
       "    </tr>\n",
       "  </tbody>\n",
       "</table>\n",
       "<p>30098 rows × 23 columns</p>\n",
       "</div>"
      ],
      "text/plain": [
       "       ACCIDENT_TYPPE  TOTAL_LOST  ACCIDENT_MONTH  ACCIDENT_WEEK  \\\n",
       "0                   0           0               5             18   \n",
       "1                   0           0               3             11   \n",
       "2                   0           0              10             42   \n",
       "3                   0           0               9             36   \n",
       "4                   0           0              11             46   \n",
       "...               ...         ...             ...            ...   \n",
       "30093               0           0               1              1   \n",
       "30094               0           0               8             33   \n",
       "30095               0           0               1              4   \n",
       "30096               0           0              12             51   \n",
       "30097               0           0               8             33   \n",
       "\n",
       "       ACCIDENT_WEEK_DAY  ACCIDENT_TIME  CLAIM_MONTH  CLAIM_WEEK  \\\n",
       "0                      2              0            8          34   \n",
       "1                      3              1            4          17   \n",
       "2                      4              6           11          45   \n",
       "3                      3              4            9          38   \n",
       "4                      4              3            1           4   \n",
       "...                  ...            ...          ...         ...   \n",
       "30093                  2              0            1           2   \n",
       "30094                  1              6            9          37   \n",
       "30095                  3              4            2           5   \n",
       "30096                  6              3            1           5   \n",
       "30097                  7              6            9          37   \n",
       "\n",
       "       CLAIM_WEEK_DAY  CLAIM_TIME  ...  PURPOSE_OF_USE  MAKE  MAKE_YEAR  \\\n",
       "0                   4           3  ...              10    35     1991.0   \n",
       "1                   4           2  ...              13    24     2008.0   \n",
       "2                   6           3  ...              13    24     2008.0   \n",
       "3                   3           0  ...              13    35     1997.0   \n",
       "4                   3           0  ...              13    35     1997.0   \n",
       "...               ...         ...  ...             ...   ...        ...   \n",
       "30093               2           0  ...               9    26        0.0   \n",
       "30094               6           3  ...              11    33     2016.0   \n",
       "30095               6           0  ...              10    34     1997.0   \n",
       "30096               2           0  ...              14    35     2014.0   \n",
       "30097               4           3  ...              10    24     2014.0   \n",
       "\n",
       "       SUM_INSURED    PREMIUM  STATUS  PROFESSION   AGE  MONTHS_AS_CUSTOMER  \\\n",
       "0        1000000.0    8514.85       3         416  54.0                86.0   \n",
       "1        3000000.0   54000.00       4        2203  65.0                72.0   \n",
       "2        3000000.0   54000.00       4        2203  63.0                55.0   \n",
       "3         750000.0    4792.65       7        2201  59.0               184.0   \n",
       "4         750000.0    4792.65       7        2201  57.0               164.0   \n",
       "...            ...        ...     ...         ...   ...                 ...   \n",
       "30093          0.0       0.00       6        1659   0.0                 0.0   \n",
       "30094    5600000.0   67900.00       6        1659   0.0                 9.0   \n",
       "30095    1200000.0   27223.75       6        1659   0.0                 4.0   \n",
       "30096    4900000.0  107049.00       6        1659   0.0                12.0   \n",
       "30097    6390000.0   70990.00       6        1659   0.0                17.0   \n",
       "\n",
       "       FRAUD_OR_NOT  \n",
       "0                 0  \n",
       "1                 0  \n",
       "2                 0  \n",
       "3                 0  \n",
       "4                 0  \n",
       "...             ...  \n",
       "30093             1  \n",
       "30094             1  \n",
       "30095             1  \n",
       "30096             1  \n",
       "30097             1  \n",
       "\n",
       "[30098 rows x 23 columns]"
      ]
     },
     "execution_count": 130,
     "metadata": {},
     "output_type": "execute_result"
    }
   ],
   "source": [
    "data"
   ]
  },
  {
   "cell_type": "code",
   "execution_count": 32,
   "id": "d05af494",
   "metadata": {},
   "outputs": [],
   "source": [
    "data_new2 = data.copy()"
   ]
  },
  {
   "cell_type": "code",
   "execution_count": 33,
   "id": "25b572ba",
   "metadata": {},
   "outputs": [
    {
     "data": {
      "text/html": [
       "<div>\n",
       "<style scoped>\n",
       "    .dataframe tbody tr th:only-of-type {\n",
       "        vertical-align: middle;\n",
       "    }\n",
       "\n",
       "    .dataframe tbody tr th {\n",
       "        vertical-align: top;\n",
       "    }\n",
       "\n",
       "    .dataframe thead th {\n",
       "        text-align: right;\n",
       "    }\n",
       "</style>\n",
       "<table border=\"1\" class=\"dataframe\">\n",
       "  <thead>\n",
       "    <tr style=\"text-align: right;\">\n",
       "      <th></th>\n",
       "      <th>ACCIDENT_TYPPE</th>\n",
       "      <th>TOTAL_LOST</th>\n",
       "      <th>ACCIDENT_MONTH</th>\n",
       "      <th>ACCIDENT_WEEK</th>\n",
       "      <th>ACCIDENT_WEEK_DAY</th>\n",
       "      <th>ACCIDENT_TIME</th>\n",
       "      <th>CLAIM_MONTH</th>\n",
       "      <th>CLAIM_WEEK</th>\n",
       "      <th>CLAIM_WEEK_DAY</th>\n",
       "      <th>CLAIM_TIME</th>\n",
       "      <th>GAP_IN_DAYS</th>\n",
       "      <th>ESTIMATED_AMOUNT</th>\n",
       "      <th>VEHICLE_CATEGORY</th>\n",
       "      <th>PURPOSE_OF_USE</th>\n",
       "      <th>MAKE</th>\n",
       "      <th>SUM_INSURED</th>\n",
       "      <th>PREMIUM</th>\n",
       "      <th>STATUS</th>\n",
       "      <th>MONTHS_AS_CUSTOMER</th>\n",
       "      <th>FRAUD_OR_NOT</th>\n",
       "    </tr>\n",
       "  </thead>\n",
       "  <tbody>\n",
       "    <tr>\n",
       "      <th>0</th>\n",
       "      <td>0</td>\n",
       "      <td>0</td>\n",
       "      <td>5</td>\n",
       "      <td>18</td>\n",
       "      <td>2</td>\n",
       "      <td>0</td>\n",
       "      <td>8</td>\n",
       "      <td>34</td>\n",
       "      <td>4</td>\n",
       "      <td>3</td>\n",
       "      <td>114</td>\n",
       "      <td>48110.0</td>\n",
       "      <td>3</td>\n",
       "      <td>10</td>\n",
       "      <td>35</td>\n",
       "      <td>1000000.0</td>\n",
       "      <td>8514.85</td>\n",
       "      <td>3</td>\n",
       "      <td>86.0</td>\n",
       "      <td>0</td>\n",
       "    </tr>\n",
       "    <tr>\n",
       "      <th>1</th>\n",
       "      <td>0</td>\n",
       "      <td>0</td>\n",
       "      <td>3</td>\n",
       "      <td>11</td>\n",
       "      <td>3</td>\n",
       "      <td>1</td>\n",
       "      <td>4</td>\n",
       "      <td>17</td>\n",
       "      <td>4</td>\n",
       "      <td>2</td>\n",
       "      <td>43</td>\n",
       "      <td>80000.0</td>\n",
       "      <td>2</td>\n",
       "      <td>13</td>\n",
       "      <td>24</td>\n",
       "      <td>3000000.0</td>\n",
       "      <td>54000.00</td>\n",
       "      <td>4</td>\n",
       "      <td>72.0</td>\n",
       "      <td>0</td>\n",
       "    </tr>\n",
       "    <tr>\n",
       "      <th>2</th>\n",
       "      <td>0</td>\n",
       "      <td>0</td>\n",
       "      <td>10</td>\n",
       "      <td>42</td>\n",
       "      <td>4</td>\n",
       "      <td>6</td>\n",
       "      <td>11</td>\n",
       "      <td>45</td>\n",
       "      <td>6</td>\n",
       "      <td>3</td>\n",
       "      <td>23</td>\n",
       "      <td>500000.0</td>\n",
       "      <td>2</td>\n",
       "      <td>13</td>\n",
       "      <td>24</td>\n",
       "      <td>3000000.0</td>\n",
       "      <td>54000.00</td>\n",
       "      <td>4</td>\n",
       "      <td>55.0</td>\n",
       "      <td>0</td>\n",
       "    </tr>\n",
       "    <tr>\n",
       "      <th>3</th>\n",
       "      <td>0</td>\n",
       "      <td>0</td>\n",
       "      <td>9</td>\n",
       "      <td>36</td>\n",
       "      <td>3</td>\n",
       "      <td>4</td>\n",
       "      <td>9</td>\n",
       "      <td>38</td>\n",
       "      <td>3</td>\n",
       "      <td>0</td>\n",
       "      <td>14</td>\n",
       "      <td>37050.0</td>\n",
       "      <td>2</td>\n",
       "      <td>13</td>\n",
       "      <td>35</td>\n",
       "      <td>750000.0</td>\n",
       "      <td>4792.65</td>\n",
       "      <td>7</td>\n",
       "      <td>184.0</td>\n",
       "      <td>0</td>\n",
       "    </tr>\n",
       "    <tr>\n",
       "      <th>4</th>\n",
       "      <td>0</td>\n",
       "      <td>0</td>\n",
       "      <td>11</td>\n",
       "      <td>46</td>\n",
       "      <td>4</td>\n",
       "      <td>3</td>\n",
       "      <td>1</td>\n",
       "      <td>4</td>\n",
       "      <td>3</td>\n",
       "      <td>0</td>\n",
       "      <td>76</td>\n",
       "      <td>66750.0</td>\n",
       "      <td>2</td>\n",
       "      <td>13</td>\n",
       "      <td>35</td>\n",
       "      <td>750000.0</td>\n",
       "      <td>4792.65</td>\n",
       "      <td>7</td>\n",
       "      <td>164.0</td>\n",
       "      <td>0</td>\n",
       "    </tr>\n",
       "    <tr>\n",
       "      <th>...</th>\n",
       "      <td>...</td>\n",
       "      <td>...</td>\n",
       "      <td>...</td>\n",
       "      <td>...</td>\n",
       "      <td>...</td>\n",
       "      <td>...</td>\n",
       "      <td>...</td>\n",
       "      <td>...</td>\n",
       "      <td>...</td>\n",
       "      <td>...</td>\n",
       "      <td>...</td>\n",
       "      <td>...</td>\n",
       "      <td>...</td>\n",
       "      <td>...</td>\n",
       "      <td>...</td>\n",
       "      <td>...</td>\n",
       "      <td>...</td>\n",
       "      <td>...</td>\n",
       "      <td>...</td>\n",
       "      <td>...</td>\n",
       "    </tr>\n",
       "    <tr>\n",
       "      <th>30093</th>\n",
       "      <td>0</td>\n",
       "      <td>0</td>\n",
       "      <td>1</td>\n",
       "      <td>1</td>\n",
       "      <td>2</td>\n",
       "      <td>0</td>\n",
       "      <td>1</td>\n",
       "      <td>2</td>\n",
       "      <td>2</td>\n",
       "      <td>0</td>\n",
       "      <td>7</td>\n",
       "      <td>133000.0</td>\n",
       "      <td>6</td>\n",
       "      <td>9</td>\n",
       "      <td>26</td>\n",
       "      <td>0.0</td>\n",
       "      <td>0.00</td>\n",
       "      <td>6</td>\n",
       "      <td>0.0</td>\n",
       "      <td>1</td>\n",
       "    </tr>\n",
       "    <tr>\n",
       "      <th>30094</th>\n",
       "      <td>0</td>\n",
       "      <td>0</td>\n",
       "      <td>8</td>\n",
       "      <td>33</td>\n",
       "      <td>1</td>\n",
       "      <td>6</td>\n",
       "      <td>9</td>\n",
       "      <td>37</td>\n",
       "      <td>6</td>\n",
       "      <td>3</td>\n",
       "      <td>33</td>\n",
       "      <td>15400.0</td>\n",
       "      <td>2</td>\n",
       "      <td>11</td>\n",
       "      <td>33</td>\n",
       "      <td>5600000.0</td>\n",
       "      <td>67900.00</td>\n",
       "      <td>6</td>\n",
       "      <td>9.0</td>\n",
       "      <td>1</td>\n",
       "    </tr>\n",
       "    <tr>\n",
       "      <th>30095</th>\n",
       "      <td>0</td>\n",
       "      <td>0</td>\n",
       "      <td>1</td>\n",
       "      <td>4</td>\n",
       "      <td>3</td>\n",
       "      <td>4</td>\n",
       "      <td>2</td>\n",
       "      <td>5</td>\n",
       "      <td>6</td>\n",
       "      <td>0</td>\n",
       "      <td>10</td>\n",
       "      <td>6300.0</td>\n",
       "      <td>4</td>\n",
       "      <td>10</td>\n",
       "      <td>34</td>\n",
       "      <td>1200000.0</td>\n",
       "      <td>27223.75</td>\n",
       "      <td>6</td>\n",
       "      <td>4.0</td>\n",
       "      <td>1</td>\n",
       "    </tr>\n",
       "    <tr>\n",
       "      <th>30096</th>\n",
       "      <td>0</td>\n",
       "      <td>0</td>\n",
       "      <td>12</td>\n",
       "      <td>51</td>\n",
       "      <td>6</td>\n",
       "      <td>3</td>\n",
       "      <td>1</td>\n",
       "      <td>5</td>\n",
       "      <td>2</td>\n",
       "      <td>0</td>\n",
       "      <td>45</td>\n",
       "      <td>51650.0</td>\n",
       "      <td>2</td>\n",
       "      <td>14</td>\n",
       "      <td>35</td>\n",
       "      <td>4900000.0</td>\n",
       "      <td>107049.00</td>\n",
       "      <td>6</td>\n",
       "      <td>12.0</td>\n",
       "      <td>1</td>\n",
       "    </tr>\n",
       "    <tr>\n",
       "      <th>30097</th>\n",
       "      <td>0</td>\n",
       "      <td>0</td>\n",
       "      <td>8</td>\n",
       "      <td>33</td>\n",
       "      <td>7</td>\n",
       "      <td>6</td>\n",
       "      <td>9</td>\n",
       "      <td>37</td>\n",
       "      <td>4</td>\n",
       "      <td>3</td>\n",
       "      <td>25</td>\n",
       "      <td>53100.0</td>\n",
       "      <td>3</td>\n",
       "      <td>10</td>\n",
       "      <td>24</td>\n",
       "      <td>6390000.0</td>\n",
       "      <td>70990.00</td>\n",
       "      <td>6</td>\n",
       "      <td>17.0</td>\n",
       "      <td>1</td>\n",
       "    </tr>\n",
       "  </tbody>\n",
       "</table>\n",
       "<p>30098 rows × 20 columns</p>\n",
       "</div>"
      ],
      "text/plain": [
       "       ACCIDENT_TYPPE  TOTAL_LOST  ACCIDENT_MONTH  ACCIDENT_WEEK  \\\n",
       "0                   0           0               5             18   \n",
       "1                   0           0               3             11   \n",
       "2                   0           0              10             42   \n",
       "3                   0           0               9             36   \n",
       "4                   0           0              11             46   \n",
       "...               ...         ...             ...            ...   \n",
       "30093               0           0               1              1   \n",
       "30094               0           0               8             33   \n",
       "30095               0           0               1              4   \n",
       "30096               0           0              12             51   \n",
       "30097               0           0               8             33   \n",
       "\n",
       "       ACCIDENT_WEEK_DAY  ACCIDENT_TIME  CLAIM_MONTH  CLAIM_WEEK  \\\n",
       "0                      2              0            8          34   \n",
       "1                      3              1            4          17   \n",
       "2                      4              6           11          45   \n",
       "3                      3              4            9          38   \n",
       "4                      4              3            1           4   \n",
       "...                  ...            ...          ...         ...   \n",
       "30093                  2              0            1           2   \n",
       "30094                  1              6            9          37   \n",
       "30095                  3              4            2           5   \n",
       "30096                  6              3            1           5   \n",
       "30097                  7              6            9          37   \n",
       "\n",
       "       CLAIM_WEEK_DAY  CLAIM_TIME  GAP_IN_DAYS  ESTIMATED_AMOUNT  \\\n",
       "0                   4           3          114           48110.0   \n",
       "1                   4           2           43           80000.0   \n",
       "2                   6           3           23          500000.0   \n",
       "3                   3           0           14           37050.0   \n",
       "4                   3           0           76           66750.0   \n",
       "...               ...         ...          ...               ...   \n",
       "30093               2           0            7          133000.0   \n",
       "30094               6           3           33           15400.0   \n",
       "30095               6           0           10            6300.0   \n",
       "30096               2           0           45           51650.0   \n",
       "30097               4           3           25           53100.0   \n",
       "\n",
       "       VEHICLE_CATEGORY  PURPOSE_OF_USE  MAKE  SUM_INSURED    PREMIUM  STATUS  \\\n",
       "0                     3              10    35    1000000.0    8514.85       3   \n",
       "1                     2              13    24    3000000.0   54000.00       4   \n",
       "2                     2              13    24    3000000.0   54000.00       4   \n",
       "3                     2              13    35     750000.0    4792.65       7   \n",
       "4                     2              13    35     750000.0    4792.65       7   \n",
       "...                 ...             ...   ...          ...        ...     ...   \n",
       "30093                 6               9    26          0.0       0.00       6   \n",
       "30094                 2              11    33    5600000.0   67900.00       6   \n",
       "30095                 4              10    34    1200000.0   27223.75       6   \n",
       "30096                 2              14    35    4900000.0  107049.00       6   \n",
       "30097                 3              10    24    6390000.0   70990.00       6   \n",
       "\n",
       "       MONTHS_AS_CUSTOMER  FRAUD_OR_NOT  \n",
       "0                    86.0             0  \n",
       "1                    72.0             0  \n",
       "2                    55.0             0  \n",
       "3                   184.0             0  \n",
       "4                   164.0             0  \n",
       "...                   ...           ...  \n",
       "30093                 0.0             1  \n",
       "30094                 9.0             1  \n",
       "30095                 4.0             1  \n",
       "30096                12.0             1  \n",
       "30097                17.0             1  \n",
       "\n",
       "[30098 rows x 20 columns]"
      ]
     },
     "execution_count": 33,
     "metadata": {},
     "output_type": "execute_result"
    }
   ],
   "source": [
    "data"
   ]
  },
  {
   "cell_type": "code",
   "execution_count": 34,
   "id": "aff155eb",
   "metadata": {},
   "outputs": [
    {
     "data": {
      "image/png": "[encoded data removed]",
      "text/plain": [
       "<Figure size 1440x1440 with 2 Axes>"
      ]
     },
     "metadata": {},
     "output_type": "display_data"
    }
   ],
   "source": [
    "cormat = data.corr()\n",
    "best_features = cormat.index\n",
    "plt.figure(figsize= (20,20))\n",
    "g = sns.heatmap(data[best_features].corr(),annot= True, cmap = 'YlGn')"
   ]
  },
  {
   "cell_type": "code",
   "execution_count": 166,
   "id": "ba473113",
   "metadata": {},
   "outputs": [
    {
     "name": "stdout",
     "output_type": "stream",
     "text": [
      "0.9564784053156146\n"
     ]
    }
   ],
   "source": [
    "x =  data.iloc[:,0:19]\n",
    "y = data.iloc[:, -1]\n",
    "#y = df.iloc[:, -1]\n",
    "\n",
    "from sklearn.model_selection import train_test_split\n",
    "\n",
    "# iam diving the data set into trainset and test set\n",
    "x_train,x_test,y_train,y_test=train_test_split(x,y,test_size=0.3)\n",
    "\n",
    "from sklearn.ensemble import RandomForestClassifier\n",
    "from sklearn.metrics import accuracy_score\n",
    "\n",
    "rf_object= RandomForestClassifier()\n",
    "\n",
    "# traing phase\n",
    "rf_object=rf_object.fit(x_train,y_train)\n",
    "\n",
    "# testing phase\n",
    "pred= rf_object.predict(x_test)  # y_test\n",
    "\n",
    "# accuracy score\n",
    "score=accuracy_score(y_test,pred)\n",
    "print(score)"
   ]
  },
  {
   "cell_type": "code",
   "execution_count": 155,
   "id": "125d3992",
   "metadata": {},
   "outputs": [
    {
     "data": {
      "text/html": [
       "<div>\n",
       "<style scoped>\n",
       "    .dataframe tbody tr th:only-of-type {\n",
       "        vertical-align: middle;\n",
       "    }\n",
       "\n",
       "    .dataframe tbody tr th {\n",
       "        vertical-align: top;\n",
       "    }\n",
       "\n",
       "    .dataframe thead th {\n",
       "        text-align: right;\n",
       "    }\n",
       "</style>\n",
       "<table border=\"1\" class=\"dataframe\">\n",
       "  <thead>\n",
       "    <tr style=\"text-align: right;\">\n",
       "      <th></th>\n",
       "      <th>ACCIDENT_TYPPE</th>\n",
       "      <th>TOTAL_LOST</th>\n",
       "      <th>ACCIDENT_MONTH</th>\n",
       "      <th>ACCIDENT_WEEK</th>\n",
       "      <th>ACCIDENT_WEEK_DAY</th>\n",
       "      <th>ACCIDENT_TIME</th>\n",
       "      <th>CLAIM_MONTH</th>\n",
       "      <th>CLAIM_WEEK</th>\n",
       "      <th>CLAIM_WEEK_DAY</th>\n",
       "      <th>CLAIM_TIME</th>\n",
       "      <th>...</th>\n",
       "      <th>ESTIMATED_AMOUNT</th>\n",
       "      <th>VEHICLE_CATEGORY</th>\n",
       "      <th>PURPOSE_OF_USE</th>\n",
       "      <th>MAKE</th>\n",
       "      <th>MAKE_YEAR</th>\n",
       "      <th>SUM_INSURED</th>\n",
       "      <th>PREMIUM</th>\n",
       "      <th>STATUS</th>\n",
       "      <th>AGE</th>\n",
       "      <th>MONTHS_AS_CUSTOMER</th>\n",
       "    </tr>\n",
       "  </thead>\n",
       "  <tbody>\n",
       "    <tr>\n",
       "      <th>0</th>\n",
       "      <td>0</td>\n",
       "      <td>0</td>\n",
       "      <td>5</td>\n",
       "      <td>18</td>\n",
       "      <td>2</td>\n",
       "      <td>0</td>\n",
       "      <td>8</td>\n",
       "      <td>34</td>\n",
       "      <td>4</td>\n",
       "      <td>3</td>\n",
       "      <td>...</td>\n",
       "      <td>48110.0</td>\n",
       "      <td>3</td>\n",
       "      <td>10</td>\n",
       "      <td>35</td>\n",
       "      <td>1991.0</td>\n",
       "      <td>1000000.0</td>\n",
       "      <td>8514.85</td>\n",
       "      <td>3</td>\n",
       "      <td>54.0</td>\n",
       "      <td>86.0</td>\n",
       "    </tr>\n",
       "    <tr>\n",
       "      <th>1</th>\n",
       "      <td>0</td>\n",
       "      <td>0</td>\n",
       "      <td>3</td>\n",
       "      <td>11</td>\n",
       "      <td>3</td>\n",
       "      <td>1</td>\n",
       "      <td>4</td>\n",
       "      <td>17</td>\n",
       "      <td>4</td>\n",
       "      <td>2</td>\n",
       "      <td>...</td>\n",
       "      <td>80000.0</td>\n",
       "      <td>2</td>\n",
       "      <td>13</td>\n",
       "      <td>24</td>\n",
       "      <td>2008.0</td>\n",
       "      <td>3000000.0</td>\n",
       "      <td>54000.00</td>\n",
       "      <td>4</td>\n",
       "      <td>65.0</td>\n",
       "      <td>72.0</td>\n",
       "    </tr>\n",
       "    <tr>\n",
       "      <th>2</th>\n",
       "      <td>0</td>\n",
       "      <td>0</td>\n",
       "      <td>10</td>\n",
       "      <td>42</td>\n",
       "      <td>4</td>\n",
       "      <td>6</td>\n",
       "      <td>11</td>\n",
       "      <td>45</td>\n",
       "      <td>6</td>\n",
       "      <td>3</td>\n",
       "      <td>...</td>\n",
       "      <td>500000.0</td>\n",
       "      <td>2</td>\n",
       "      <td>13</td>\n",
       "      <td>24</td>\n",
       "      <td>2008.0</td>\n",
       "      <td>3000000.0</td>\n",
       "      <td>54000.00</td>\n",
       "      <td>4</td>\n",
       "      <td>63.0</td>\n",
       "      <td>55.0</td>\n",
       "    </tr>\n",
       "    <tr>\n",
       "      <th>3</th>\n",
       "      <td>0</td>\n",
       "      <td>0</td>\n",
       "      <td>9</td>\n",
       "      <td>36</td>\n",
       "      <td>3</td>\n",
       "      <td>4</td>\n",
       "      <td>9</td>\n",
       "      <td>38</td>\n",
       "      <td>3</td>\n",
       "      <td>0</td>\n",
       "      <td>...</td>\n",
       "      <td>37050.0</td>\n",
       "      <td>2</td>\n",
       "      <td>13</td>\n",
       "      <td>35</td>\n",
       "      <td>1997.0</td>\n",
       "      <td>750000.0</td>\n",
       "      <td>4792.65</td>\n",
       "      <td>7</td>\n",
       "      <td>59.0</td>\n",
       "      <td>184.0</td>\n",
       "    </tr>\n",
       "    <tr>\n",
       "      <th>4</th>\n",
       "      <td>0</td>\n",
       "      <td>0</td>\n",
       "      <td>11</td>\n",
       "      <td>46</td>\n",
       "      <td>4</td>\n",
       "      <td>3</td>\n",
       "      <td>1</td>\n",
       "      <td>4</td>\n",
       "      <td>3</td>\n",
       "      <td>0</td>\n",
       "      <td>...</td>\n",
       "      <td>66750.0</td>\n",
       "      <td>2</td>\n",
       "      <td>13</td>\n",
       "      <td>35</td>\n",
       "      <td>1997.0</td>\n",
       "      <td>750000.0</td>\n",
       "      <td>4792.65</td>\n",
       "      <td>7</td>\n",
       "      <td>57.0</td>\n",
       "      <td>164.0</td>\n",
       "    </tr>\n",
       "    <tr>\n",
       "      <th>...</th>\n",
       "      <td>...</td>\n",
       "      <td>...</td>\n",
       "      <td>...</td>\n",
       "      <td>...</td>\n",
       "      <td>...</td>\n",
       "      <td>...</td>\n",
       "      <td>...</td>\n",
       "      <td>...</td>\n",
       "      <td>...</td>\n",
       "      <td>...</td>\n",
       "      <td>...</td>\n",
       "      <td>...</td>\n",
       "      <td>...</td>\n",
       "      <td>...</td>\n",
       "      <td>...</td>\n",
       "      <td>...</td>\n",
       "      <td>...</td>\n",
       "      <td>...</td>\n",
       "      <td>...</td>\n",
       "      <td>...</td>\n",
       "      <td>...</td>\n",
       "    </tr>\n",
       "    <tr>\n",
       "      <th>30093</th>\n",
       "      <td>0</td>\n",
       "      <td>0</td>\n",
       "      <td>1</td>\n",
       "      <td>1</td>\n",
       "      <td>2</td>\n",
       "      <td>0</td>\n",
       "      <td>1</td>\n",
       "      <td>2</td>\n",
       "      <td>2</td>\n",
       "      <td>0</td>\n",
       "      <td>...</td>\n",
       "      <td>133000.0</td>\n",
       "      <td>6</td>\n",
       "      <td>9</td>\n",
       "      <td>26</td>\n",
       "      <td>0.0</td>\n",
       "      <td>0.0</td>\n",
       "      <td>0.00</td>\n",
       "      <td>6</td>\n",
       "      <td>0.0</td>\n",
       "      <td>0.0</td>\n",
       "    </tr>\n",
       "    <tr>\n",
       "      <th>30094</th>\n",
       "      <td>0</td>\n",
       "      <td>0</td>\n",
       "      <td>8</td>\n",
       "      <td>33</td>\n",
       "      <td>1</td>\n",
       "      <td>6</td>\n",
       "      <td>9</td>\n",
       "      <td>37</td>\n",
       "      <td>6</td>\n",
       "      <td>3</td>\n",
       "      <td>...</td>\n",
       "      <td>15400.0</td>\n",
       "      <td>2</td>\n",
       "      <td>11</td>\n",
       "      <td>33</td>\n",
       "      <td>2016.0</td>\n",
       "      <td>5600000.0</td>\n",
       "      <td>67900.00</td>\n",
       "      <td>6</td>\n",
       "      <td>0.0</td>\n",
       "      <td>9.0</td>\n",
       "    </tr>\n",
       "    <tr>\n",
       "      <th>30095</th>\n",
       "      <td>0</td>\n",
       "      <td>0</td>\n",
       "      <td>1</td>\n",
       "      <td>4</td>\n",
       "      <td>3</td>\n",
       "      <td>4</td>\n",
       "      <td>2</td>\n",
       "      <td>5</td>\n",
       "      <td>6</td>\n",
       "      <td>0</td>\n",
       "      <td>...</td>\n",
       "      <td>6300.0</td>\n",
       "      <td>4</td>\n",
       "      <td>10</td>\n",
       "      <td>34</td>\n",
       "      <td>1997.0</td>\n",
       "      <td>1200000.0</td>\n",
       "      <td>27223.75</td>\n",
       "      <td>6</td>\n",
       "      <td>0.0</td>\n",
       "      <td>4.0</td>\n",
       "    </tr>\n",
       "    <tr>\n",
       "      <th>30096</th>\n",
       "      <td>0</td>\n",
       "      <td>0</td>\n",
       "      <td>12</td>\n",
       "      <td>51</td>\n",
       "      <td>6</td>\n",
       "      <td>3</td>\n",
       "      <td>1</td>\n",
       "      <td>5</td>\n",
       "      <td>2</td>\n",
       "      <td>0</td>\n",
       "      <td>...</td>\n",
       "      <td>51650.0</td>\n",
       "      <td>2</td>\n",
       "      <td>14</td>\n",
       "      <td>35</td>\n",
       "      <td>2014.0</td>\n",
       "      <td>4900000.0</td>\n",
       "      <td>107049.00</td>\n",
       "      <td>6</td>\n",
       "      <td>0.0</td>\n",
       "      <td>12.0</td>\n",
       "    </tr>\n",
       "    <tr>\n",
       "      <th>30097</th>\n",
       "      <td>0</td>\n",
       "      <td>0</td>\n",
       "      <td>8</td>\n",
       "      <td>33</td>\n",
       "      <td>7</td>\n",
       "      <td>6</td>\n",
       "      <td>9</td>\n",
       "      <td>37</td>\n",
       "      <td>4</td>\n",
       "      <td>3</td>\n",
       "      <td>...</td>\n",
       "      <td>53100.0</td>\n",
       "      <td>3</td>\n",
       "      <td>10</td>\n",
       "      <td>24</td>\n",
       "      <td>2014.0</td>\n",
       "      <td>6390000.0</td>\n",
       "      <td>70990.00</td>\n",
       "      <td>6</td>\n",
       "      <td>0.0</td>\n",
       "      <td>17.0</td>\n",
       "    </tr>\n",
       "  </tbody>\n",
       "</table>\n",
       "<p>30098 rows × 21 columns</p>\n",
       "</div>"
      ],
      "text/plain": [
       "       ACCIDENT_TYPPE  TOTAL_LOST  ACCIDENT_MONTH  ACCIDENT_WEEK  \\\n",
       "0                   0           0               5             18   \n",
       "1                   0           0               3             11   \n",
       "2                   0           0              10             42   \n",
       "3                   0           0               9             36   \n",
       "4                   0           0              11             46   \n",
       "...               ...         ...             ...            ...   \n",
       "30093               0           0               1              1   \n",
       "30094               0           0               8             33   \n",
       "30095               0           0               1              4   \n",
       "30096               0           0              12             51   \n",
       "30097               0           0               8             33   \n",
       "\n",
       "       ACCIDENT_WEEK_DAY  ACCIDENT_TIME  CLAIM_MONTH  CLAIM_WEEK  \\\n",
       "0                      2              0            8          34   \n",
       "1                      3              1            4          17   \n",
       "2                      4              6           11          45   \n",
       "3                      3              4            9          38   \n",
       "4                      4              3            1           4   \n",
       "...                  ...            ...          ...         ...   \n",
       "30093                  2              0            1           2   \n",
       "30094                  1              6            9          37   \n",
       "30095                  3              4            2           5   \n",
       "30096                  6              3            1           5   \n",
       "30097                  7              6            9          37   \n",
       "\n",
       "       CLAIM_WEEK_DAY  CLAIM_TIME  ...  ESTIMATED_AMOUNT  VEHICLE_CATEGORY  \\\n",
       "0                   4           3  ...           48110.0                 3   \n",
       "1                   4           2  ...           80000.0                 2   \n",
       "2                   6           3  ...          500000.0                 2   \n",
       "3                   3           0  ...           37050.0                 2   \n",
       "4                   3           0  ...           66750.0                 2   \n",
       "...               ...         ...  ...               ...               ...   \n",
       "30093               2           0  ...          133000.0                 6   \n",
       "30094               6           3  ...           15400.0                 2   \n",
       "30095               6           0  ...            6300.0                 4   \n",
       "30096               2           0  ...           51650.0                 2   \n",
       "30097               4           3  ...           53100.0                 3   \n",
       "\n",
       "       PURPOSE_OF_USE  MAKE  MAKE_YEAR  SUM_INSURED    PREMIUM  STATUS   AGE  \\\n",
       "0                  10    35     1991.0    1000000.0    8514.85       3  54.0   \n",
       "1                  13    24     2008.0    3000000.0   54000.00       4  65.0   \n",
       "2                  13    24     2008.0    3000000.0   54000.00       4  63.0   \n",
       "3                  13    35     1997.0     750000.0    4792.65       7  59.0   \n",
       "4                  13    35     1997.0     750000.0    4792.65       7  57.0   \n",
       "...               ...   ...        ...          ...        ...     ...   ...   \n",
       "30093               9    26        0.0          0.0       0.00       6   0.0   \n",
       "30094              11    33     2016.0    5600000.0   67900.00       6   0.0   \n",
       "30095              10    34     1997.0    1200000.0   27223.75       6   0.0   \n",
       "30096              14    35     2014.0    4900000.0  107049.00       6   0.0   \n",
       "30097              10    24     2014.0    6390000.0   70990.00       6   0.0   \n",
       "\n",
       "       MONTHS_AS_CUSTOMER  \n",
       "0                    86.0  \n",
       "1                    72.0  \n",
       "2                    55.0  \n",
       "3                   184.0  \n",
       "4                   164.0  \n",
       "...                   ...  \n",
       "30093                 0.0  \n",
       "30094                 9.0  \n",
       "30095                 4.0  \n",
       "30096                12.0  \n",
       "30097                17.0  \n",
       "\n",
       "[30098 rows x 21 columns]"
      ]
     },
     "execution_count": 155,
     "metadata": {},
     "output_type": "execute_result"
    }
   ],
   "source": [
    "x"
   ]
  },
  {
   "cell_type": "code",
   "execution_count": 88,
   "id": "56f0e733",
   "metadata": {},
   "outputs": [
    {
     "name": "stdout",
     "output_type": "stream",
     "text": [
      "Shape of x_train : (21068, 22)\n",
      "Shape of x_test : (9030, 22)\n",
      "Shape of y_train : (21068,)\n",
      "Shape of y_test : (9030,)\n"
     ]
    }
   ],
   "source": [
    "print(\"Shape of x_train :\", x_train.shape)\n",
    "print(\"Shape of x_test :\", x_test.shape)\n",
    "print(\"Shape of y_train :\", y_train.shape)\n",
    "print(\"Shape of y_test :\", y_test.shape)"
   ]
  },
  {
   "cell_type": "code",
   "execution_count": 89,
   "id": "b7c7c704",
   "metadata": {},
   "outputs": [
    {
     "data": {
      "image/png": "[encoded data removed]",
      "text/plain": [
       "<Figure size 1080x720 with 2 Axes>"
      ]
     },
     "metadata": {},
     "output_type": "display_data"
    }
   ],
   "source": [
    "plt.rcParams['figure.figsize'] = (15, 10)\n",
    "sns.heatmap(x_train.corr(), cmap = 'copper')\n",
    "plt.title('Heat Map for Correlations', fontsize = 20)\n",
    "plt.show()"
   ]
  },
  {
   "cell_type": "code",
   "execution_count": 90,
   "id": "2f910560",
   "metadata": {},
   "outputs": [
    {
     "name": "stdout",
     "output_type": "stream",
     "text": [
      "Training Accuracy:  0.9998576039491172\n",
      "Testing Accuarcy:  0.997563676633444\n",
      "              precision    recall  f1-score   support\n",
      "\n",
      "           0       1.00      1.00      1.00      8085\n",
      "           1       1.00      0.98      0.99       945\n",
      "\n",
      "    accuracy                           1.00      9030\n",
      "   macro avg       1.00      0.99      0.99      9030\n",
      "weighted avg       1.00      1.00      1.00      9030\n",
      "\n"
     ]
    },
    {
     "data": {
      "image/png": "[encoded data removed]",
      "text/plain": [
       "<Figure size 360x360 with 2 Axes>"
      ]
     },
     "metadata": {},
     "output_type": "display_data"
    }
   ],
   "source": [
    "from imblearn.ensemble import BalancedRandomForestClassifier \n",
    "from sklearn.metrics import classification_report\n",
    "from sklearn.metrics import confusion_matrix\n",
    "                 \n",
    "\n",
    "model = BalancedRandomForestClassifier(n_estimators = 100, random_state = 0)\n",
    "\n",
    "model.fit(x_train, y_train)\n",
    "y_pred_rf = model.predict(x_test)\n",
    "\n",
    "print(\"Training Accuracy: \", model.score(x_train, y_train))\n",
    "print('Testing Accuarcy: ', model.score(x_test, y_test))\n",
    "\n",
    "# making a classification report\n",
    "cr = classification_report(y_test,  y_pred_rf)\n",
    "print(cr)\n",
    "\n",
    "# making a confusion matrix\n",
    "plt.rcParams['figure.figsize'] = (5, 5)\n",
    "cm = confusion_matrix(y_test, y_pred_rf)\n",
    "sns.heatmap(cm, annot = True, cmap = 'spring')\n",
    "plt.show()"
   ]
  },
  {
   "cell_type": "code",
   "execution_count": 91,
   "id": "c05bff19",
   "metadata": {},
   "outputs": [
    {
     "data": {
      "text/plain": [
       "0    26985\n",
       "1     3113\n",
       "Name: FRAUD_OR_NOT, dtype: int64"
      ]
     },
     "execution_count": 91,
     "metadata": {},
     "output_type": "execute_result"
    }
   ],
   "source": [
    "y.value_counts()"
   ]
  },
  {
   "cell_type": "code",
   "execution_count": 96,
   "id": "093f3e02",
   "metadata": {},
   "outputs": [
    {
     "name": "stdout",
     "output_type": "stream",
     "text": [
      "3113\n"
     ]
    }
   ],
   "source": [
    "frauds = np.array(data[data['FRAUD_OR_NOT'] == 1].index)\n",
    "no_frauds = len(frauds)\n",
    "\n",
    "print(no_frauds)"
   ]
  },
  {
   "cell_type": "code",
   "execution_count": 97,
   "id": "1fb2331e",
   "metadata": {},
   "outputs": [
    {
     "name": "stdout",
     "output_type": "stream",
     "text": [
      "26985\n"
     ]
    }
   ],
   "source": [
    "normal_indices = data[data['FRAUD_OR_NOT'] == 0]\n",
    "no_normal_indices = len(normal_indices)\n",
    "\n",
    "print(no_normal_indices)"
   ]
  },
  {
   "cell_type": "code",
   "execution_count": 98,
   "id": "584e3240",
   "metadata": {},
   "outputs": [
    {
     "name": "stdout",
     "output_type": "stream",
     "text": [
      "3113\n"
     ]
    }
   ],
   "source": [
    "random_normal_indices = np.random.choice(no_normal_indices, size = no_frauds, replace = True)\n",
    "random_normal_indices = np.array(random_normal_indices)\n",
    "\n",
    "print(len(random_normal_indices))"
   ]
  },
  {
   "cell_type": "code",
   "execution_count": 99,
   "id": "4f113e9e",
   "metadata": {},
   "outputs": [
    {
     "name": "stdout",
     "output_type": "stream",
     "text": [
      "6226\n"
     ]
    }
   ],
   "source": [
    "under_sample = np.concatenate([frauds, random_normal_indices])\n",
    "print(len(under_sample))"
   ]
  },
  {
   "cell_type": "code",
   "execution_count": 100,
   "id": "64c7d4b3",
   "metadata": {},
   "outputs": [],
   "source": [
    "undersample_data = data.iloc[under_sample, :]"
   ]
  },
  {
   "cell_type": "code",
   "execution_count": 102,
   "id": "078112a8",
   "metadata": {},
   "outputs": [
    {
     "name": "stdout",
     "output_type": "stream",
     "text": [
      "(6226, 22)\n",
      "(6226, 1)\n"
     ]
    }
   ],
   "source": [
    "# splitting the undersample dataset into x and y sets\n",
    "\n",
    "x_u = undersample_data.iloc[:, undersample_data.columns != 'FRAUD_OR_NOT'] \n",
    "y_u = undersample_data.iloc[:, undersample_data.columns == 'FRAUD_OR_NOT']\n",
    "\n",
    "print(x_u.shape)\n",
    "print(y_u.shape)"
   ]
  },
  {
   "cell_type": "code",
   "execution_count": 103,
   "id": "87563d3a",
   "metadata": {},
   "outputs": [
    {
     "name": "stdout",
     "output_type": "stream",
     "text": [
      "(4980, 22)\n",
      "(4980, 1)\n",
      "(1246, 22)\n"
     ]
    }
   ],
   "source": [
    "from sklearn.model_selection import train_test_split\n",
    "\n",
    "x_train1, x_test1, y_train1, y_test1 = train_test_split(x_u, y_u, test_size = 0.2, random_state = 0)\n",
    "\n",
    "print(x_train1.shape)\n",
    "print(y_train1.shape)\n",
    "print(x_test1.shape)"
   ]
  },
  {
   "cell_type": "code",
   "execution_count": 104,
   "id": "ff17b472",
   "metadata": {},
   "outputs": [
    {
     "data": {
      "text/html": [
       "<div>\n",
       "<style scoped>\n",
       "    .dataframe tbody tr th:only-of-type {\n",
       "        vertical-align: middle;\n",
       "    }\n",
       "\n",
       "    .dataframe tbody tr th {\n",
       "        vertical-align: top;\n",
       "    }\n",
       "\n",
       "    .dataframe thead th {\n",
       "        text-align: right;\n",
       "    }\n",
       "</style>\n",
       "<table border=\"1\" class=\"dataframe\">\n",
       "  <thead>\n",
       "    <tr style=\"text-align: right;\">\n",
       "      <th></th>\n",
       "      <th>FRAUD_OR_NOT</th>\n",
       "    </tr>\n",
       "  </thead>\n",
       "  <tbody>\n",
       "    <tr>\n",
       "      <th>29746</th>\n",
       "      <td>1</td>\n",
       "    </tr>\n",
       "    <tr>\n",
       "      <th>21475</th>\n",
       "      <td>0</td>\n",
       "    </tr>\n",
       "    <tr>\n",
       "      <th>28814</th>\n",
       "      <td>1</td>\n",
       "    </tr>\n",
       "    <tr>\n",
       "      <th>28317</th>\n",
       "      <td>1</td>\n",
       "    </tr>\n",
       "    <tr>\n",
       "      <th>5747</th>\n",
       "      <td>0</td>\n",
       "    </tr>\n",
       "  </tbody>\n",
       "</table>\n",
       "</div>"
      ],
      "text/plain": [
       "       FRAUD_OR_NOT\n",
       "29746             1\n",
       "21475             0\n",
       "28814             1\n",
       "28317             1\n",
       "5747              0"
      ]
     },
     "execution_count": 104,
     "metadata": {},
     "output_type": "execute_result"
    }
   ],
   "source": [
    "y_train1.head()"
   ]
  },
  {
   "cell_type": "code",
   "execution_count": 105,
   "id": "cff74dcd",
   "metadata": {},
   "outputs": [],
   "source": [
    "from sklearn.preprocessing import StandardScaler\n",
    "\n",
    "sc = StandardScaler()\n",
    "x_train1 = sc.fit_transform(x_train1)\n",
    "x_test1 = sc.transform(x_test1)"
   ]
  },
  {
   "cell_type": "code",
   "execution_count": 106,
   "id": "8fdcaae8",
   "metadata": {},
   "outputs": [
    {
     "name": "stdout",
     "output_type": "stream",
     "text": [
      "Training Accuracy:  1.0\n",
      "Testing Accuarcy:  0.9879614767255217\n"
     ]
    },
    {
     "data": {
      "image/png": "[encoded data removed]",
      "text/plain": [
       "<Figure size 360x360 with 2 Axes>"
      ]
     },
     "metadata": {},
     "output_type": "display_data"
    },
    {
     "name": "stdout",
     "output_type": "stream",
     "text": [
      "              precision    recall  f1-score   support\n",
      "\n",
      "           0       0.98      1.00      0.99       618\n",
      "           1       1.00      0.98      0.99       628\n",
      "\n",
      "    accuracy                           0.99      1246\n",
      "   macro avg       0.99      0.99      0.99      1246\n",
      "weighted avg       0.99      0.99      0.99      1246\n",
      "\n"
     ]
    }
   ],
   "source": [
    "from sklearn.ensemble import RandomForestClassifier\n",
    "\n",
    "model_u = RandomForestClassifier()\n",
    "model_u.fit(x_train1, y_train1)\n",
    "\n",
    "y_pred = model_u.predict(x_test1)\n",
    "\n",
    "print(\"Training Accuracy: \", model_u.score(x_train1, y_train1))\n",
    "print('Testing Accuarcy: ', model_u.score(x_test1, y_test1))\n",
    "\n",
    "# confusion matrix\n",
    "cm = confusion_matrix(y_test1, y_pred)\n",
    "plt.rcParams['figure.figsize'] = (5, 5)\n",
    "sns.heatmap(cm, annot = True, cmap = 'winter')\n",
    "plt.show()\n",
    "\n",
    "# classification report\n",
    "cr = classification_report(y_test1, y_pred)\n",
    "print(cr)"
   ]
  },
  {
   "cell_type": "code",
   "execution_count": 113,
   "id": "057397ea",
   "metadata": {},
   "outputs": [],
   "source": [
    "\n",
    "from imblearn.over_sampling import SMOTE\n"
   ]
  },
  {
   "cell_type": "code",
   "execution_count": 109,
   "id": "47b979b1",
   "metadata": {},
   "outputs": [
    {
     "name": "stdout",
     "output_type": "stream",
     "text": [
      "Requirement already satisfied: imblearn in c:\\users\\administrator\\appdata\\local\\programs\\python\\python38\\lib\\site-packages (0.0)\n",
      "Requirement already satisfied: imbalanced-learn in c:\\users\\administrator\\appdata\\local\\programs\\python\\python38\\lib\\site-packages (from imblearn) (0.8.0)\n",
      "Requirement already satisfied: joblib>=0.11 in c:\\users\\administrator\\appdata\\local\\programs\\python\\python38\\lib\\site-packages (from imbalanced-learn->imblearn) (1.0.1)\n",
      "Requirement already satisfied: numpy>=1.13.3 in c:\\users\\administrator\\appdata\\local\\programs\\python\\python38\\lib\\site-packages (from imbalanced-learn->imblearn) (1.21.2)\n",
      "Requirement already satisfied: scikit-learn>=0.24 in c:\\users\\administrator\\appdata\\local\\programs\\python\\python38\\lib\\site-packages (from imbalanced-learn->imblearn) (0.24.2)\n",
      "Requirement already satisfied: scipy>=0.19.1 in c:\\users\\administrator\\appdata\\local\\programs\\python\\python38\\lib\\site-packages (from imbalanced-learn->imblearn) (1.7.1)Note: you may need to restart the kernel to use updated packages.\n"
     ]
    },
    {
     "name": "stderr",
     "output_type": "stream",
     "text": [
      "WARNING: You are using pip version 21.1.1; however, version 21.2.4 is available.\n",
      "You should consider upgrading via the 'C:\\Users\\Administrator\\AppData\\Local\\Programs\\Python\\Python38\\python.exe -m pip install --upgrade pip' command.\n"
     ]
    },
    {
     "name": "stdout",
     "output_type": "stream",
     "text": [
      "\n",
      "Requirement already satisfied: threadpoolctl>=2.0.0 in c:\\users\\administrator\\appdata\\local\\programs\\python\\python38\\lib\\site-packages (from scikit-learn>=0.24->imbalanced-learn->imblearn) (2.2.0)\n"
     ]
    }
   ],
   "source": [
    "pip install imblearn"
   ]
  },
  {
   "cell_type": "code",
   "execution_count": 122,
   "id": "819d6f2f",
   "metadata": {},
   "outputs": [
    {
     "name": "stdout",
     "output_type": "stream",
     "text": [
      "(53970, 22)\n",
      "(53970,)\n"
     ]
    }
   ],
   "source": [
    "x_resample, y_resample  = SMOTE().fit_resample(x, y)\n",
    "\n",
    "print(x_resample.shape)\n",
    "print(y_resample.shape)\n"
   ]
  },
  {
   "cell_type": "code",
   "execution_count": 124,
   "id": "9af6b190",
   "metadata": {},
   "outputs": [
    {
     "name": "stdout",
     "output_type": "stream",
     "text": [
      "(37779, 22)\n",
      "(37779,)\n",
      "(16191, 22)\n",
      "(16191,)\n"
     ]
    }
   ],
   "source": [
    "from sklearn.model_selection import train_test_split\n",
    "\n",
    "x_train2, x_test2, y_train2, y_test2 = train_test_split(x_resample, y_resample, test_size = 0.3, random_state = 0)\n",
    "\n",
    "print(x_train2.shape)\n",
    "print(y_train2.shape)\n",
    "print(x_test2.shape)\n",
    "print(y_test2.shape)"
   ]
  },
  {
   "cell_type": "code",
   "execution_count": 125,
   "id": "c31f1079",
   "metadata": {},
   "outputs": [],
   "source": [
    "# standardization\n",
    "\n",
    "from sklearn.preprocessing import StandardScaler\n",
    "\n",
    "sc = StandardScaler()\n",
    "x_train2 = sc.fit_transform(x_train2)\n",
    "x_test2 = sc.transform(x_test2)"
   ]
  },
  {
   "cell_type": "code",
   "execution_count": 126,
   "id": "518b40ca",
   "metadata": {},
   "outputs": [
    {
     "name": "stdout",
     "output_type": "stream",
     "text": [
      "Training Accuracy:  0.9999470605362768\n",
      "Testing Accuarcy:  0.9939472546476438\n"
     ]
    },
    {
     "data": {
      "image/png": "[encoded data removed]",
      "text/plain": [
       "<Figure size 360x360 with 2 Axes>"
      ]
     },
     "metadata": {},
     "output_type": "display_data"
    },
    {
     "name": "stdout",
     "output_type": "stream",
     "text": [
      "              precision    recall  f1-score   support\n",
      "\n",
      "           0       0.99      1.00      0.99      8070\n",
      "           1       1.00      0.99      0.99      8121\n",
      "\n",
      "    accuracy                           0.99     16191\n",
      "   macro avg       0.99      0.99      0.99     16191\n",
      "weighted avg       0.99      0.99      0.99     16191\n",
      "\n"
     ]
    }
   ],
   "source": [
    "# Random Forest Classifier\n",
    "from sklearn.ensemble import RandomForestClassifier\n",
    "\n",
    "model_o = RandomForestClassifier()\n",
    "model_o.fit(x_train2, y_train2)\n",
    "\n",
    "y_pred = model_o.predict(x_test2)\n",
    "\n",
    "print(\"Training Accuracy: \", model_o.score(x_train2, y_train2))\n",
    "print('Testing Accuarcy: ', model_o.score(x_test2, y_test2))\n",
    "\n",
    "# confusion matrix\n",
    "cm = confusion_matrix(y_test2, y_pred)\n",
    "plt.rcParams['figure.figsize'] = (5, 5)\n",
    "sns.heatmap(cm, annot = True, cmap = 'winter')\n",
    "plt.show()\n",
    "\n",
    "# classification report\n",
    "cr = classification_report(y_test2, y_pred)\n",
    "print(cr)"
   ]
  },
  {
   "cell_type": "code",
   "execution_count": 175,
   "id": "037484ad",
   "metadata": {},
   "outputs": [
    {
     "name": "stdout",
     "output_type": "stream",
     "text": [
      "0.9547065337763012\n"
     ]
    }
   ],
   "source": [
    "x =  data2.iloc[:,0:10]\n",
    "y = data2.iloc[:, -1]\n",
    "#y = df.iloc[:, -1]\n",
    "\n",
    "from sklearn.model_selection import train_test_split\n",
    "\n",
    "# iam diving the data set into trainset and test set\n",
    "x_train,x_test,y_train,y_test=train_test_split(x,y,test_size=0.3)\n",
    "\n",
    "from sklearn.ensemble import RandomForestClassifier\n",
    "from sklearn.metrics import accuracy_score\n",
    "\n",
    "rf_object= RandomForestClassifier()\n",
    "\n",
    "# traing phase\n",
    "rf_object=rf_object.fit(x_train,y_train)\n",
    "\n",
    "# testing phase\n",
    "pred= rf_object.predict(x_test)  # y_test\n",
    "\n",
    "# accuracy score\n",
    "score=accuracy_score(y_test,pred)\n",
    "print(score)"
   ]
  },
  {
   "cell_type": "code",
   "execution_count": 176,
   "id": "3aa01938",
   "metadata": {},
   "outputs": [
    {
     "data": {
      "text/html": [
       "<div>\n",
       "<style scoped>\n",
       "    .dataframe tbody tr th:only-of-type {\n",
       "        vertical-align: middle;\n",
       "    }\n",
       "\n",
       "    .dataframe tbody tr th {\n",
       "        vertical-align: top;\n",
       "    }\n",
       "\n",
       "    .dataframe thead th {\n",
       "        text-align: right;\n",
       "    }\n",
       "</style>\n",
       "<table border=\"1\" class=\"dataframe\">\n",
       "  <thead>\n",
       "    <tr style=\"text-align: right;\">\n",
       "      <th></th>\n",
       "      <th>SUM_INSURED</th>\n",
       "      <th>ESTIMATED_AMOUNT</th>\n",
       "      <th>PREMIUM</th>\n",
       "      <th>MONTHS_AS_CUSTOMER</th>\n",
       "      <th>VEHICLE_CATEGORY</th>\n",
       "      <th>STATUS</th>\n",
       "      <th>ACCIDENT_TIME</th>\n",
       "      <th>PURPOSE_OF_USE</th>\n",
       "      <th>MAKE</th>\n",
       "      <th>GAP_IN_DAYS</th>\n",
       "    </tr>\n",
       "  </thead>\n",
       "  <tbody>\n",
       "    <tr>\n",
       "      <th>0</th>\n",
       "      <td>1000000.0</td>\n",
       "      <td>48110.0</td>\n",
       "      <td>8514.85</td>\n",
       "      <td>86.0</td>\n",
       "      <td>3</td>\n",
       "      <td>3</td>\n",
       "      <td>0</td>\n",
       "      <td>10</td>\n",
       "      <td>35</td>\n",
       "      <td>114</td>\n",
       "    </tr>\n",
       "    <tr>\n",
       "      <th>1</th>\n",
       "      <td>3000000.0</td>\n",
       "      <td>80000.0</td>\n",
       "      <td>54000.00</td>\n",
       "      <td>72.0</td>\n",
       "      <td>2</td>\n",
       "      <td>4</td>\n",
       "      <td>1</td>\n",
       "      <td>13</td>\n",
       "      <td>24</td>\n",
       "      <td>43</td>\n",
       "    </tr>\n",
       "    <tr>\n",
       "      <th>2</th>\n",
       "      <td>3000000.0</td>\n",
       "      <td>500000.0</td>\n",
       "      <td>54000.00</td>\n",
       "      <td>55.0</td>\n",
       "      <td>2</td>\n",
       "      <td>4</td>\n",
       "      <td>6</td>\n",
       "      <td>13</td>\n",
       "      <td>24</td>\n",
       "      <td>23</td>\n",
       "    </tr>\n",
       "    <tr>\n",
       "      <th>3</th>\n",
       "      <td>750000.0</td>\n",
       "      <td>37050.0</td>\n",
       "      <td>4792.65</td>\n",
       "      <td>184.0</td>\n",
       "      <td>2</td>\n",
       "      <td>7</td>\n",
       "      <td>4</td>\n",
       "      <td>13</td>\n",
       "      <td>35</td>\n",
       "      <td>14</td>\n",
       "    </tr>\n",
       "    <tr>\n",
       "      <th>4</th>\n",
       "      <td>750000.0</td>\n",
       "      <td>66750.0</td>\n",
       "      <td>4792.65</td>\n",
       "      <td>164.0</td>\n",
       "      <td>2</td>\n",
       "      <td>7</td>\n",
       "      <td>3</td>\n",
       "      <td>13</td>\n",
       "      <td>35</td>\n",
       "      <td>76</td>\n",
       "    </tr>\n",
       "    <tr>\n",
       "      <th>...</th>\n",
       "      <td>...</td>\n",
       "      <td>...</td>\n",
       "      <td>...</td>\n",
       "      <td>...</td>\n",
       "      <td>...</td>\n",
       "      <td>...</td>\n",
       "      <td>...</td>\n",
       "      <td>...</td>\n",
       "      <td>...</td>\n",
       "      <td>...</td>\n",
       "    </tr>\n",
       "    <tr>\n",
       "      <th>30093</th>\n",
       "      <td>0.0</td>\n",
       "      <td>133000.0</td>\n",
       "      <td>0.00</td>\n",
       "      <td>0.0</td>\n",
       "      <td>6</td>\n",
       "      <td>6</td>\n",
       "      <td>0</td>\n",
       "      <td>9</td>\n",
       "      <td>26</td>\n",
       "      <td>7</td>\n",
       "    </tr>\n",
       "    <tr>\n",
       "      <th>30094</th>\n",
       "      <td>5600000.0</td>\n",
       "      <td>15400.0</td>\n",
       "      <td>67900.00</td>\n",
       "      <td>9.0</td>\n",
       "      <td>2</td>\n",
       "      <td>6</td>\n",
       "      <td>6</td>\n",
       "      <td>11</td>\n",
       "      <td>33</td>\n",
       "      <td>33</td>\n",
       "    </tr>\n",
       "    <tr>\n",
       "      <th>30095</th>\n",
       "      <td>1200000.0</td>\n",
       "      <td>6300.0</td>\n",
       "      <td>27223.75</td>\n",
       "      <td>4.0</td>\n",
       "      <td>4</td>\n",
       "      <td>6</td>\n",
       "      <td>4</td>\n",
       "      <td>10</td>\n",
       "      <td>34</td>\n",
       "      <td>10</td>\n",
       "    </tr>\n",
       "    <tr>\n",
       "      <th>30096</th>\n",
       "      <td>4900000.0</td>\n",
       "      <td>51650.0</td>\n",
       "      <td>107049.00</td>\n",
       "      <td>12.0</td>\n",
       "      <td>2</td>\n",
       "      <td>6</td>\n",
       "      <td>3</td>\n",
       "      <td>14</td>\n",
       "      <td>35</td>\n",
       "      <td>45</td>\n",
       "    </tr>\n",
       "    <tr>\n",
       "      <th>30097</th>\n",
       "      <td>6390000.0</td>\n",
       "      <td>53100.0</td>\n",
       "      <td>70990.00</td>\n",
       "      <td>17.0</td>\n",
       "      <td>3</td>\n",
       "      <td>6</td>\n",
       "      <td>6</td>\n",
       "      <td>10</td>\n",
       "      <td>24</td>\n",
       "      <td>25</td>\n",
       "    </tr>\n",
       "  </tbody>\n",
       "</table>\n",
       "<p>30098 rows × 10 columns</p>\n",
       "</div>"
      ],
      "text/plain": [
       "       SUM_INSURED  ESTIMATED_AMOUNT    PREMIUM  MONTHS_AS_CUSTOMER  \\\n",
       "0        1000000.0           48110.0    8514.85                86.0   \n",
       "1        3000000.0           80000.0   54000.00                72.0   \n",
       "2        3000000.0          500000.0   54000.00                55.0   \n",
       "3         750000.0           37050.0    4792.65               184.0   \n",
       "4         750000.0           66750.0    4792.65               164.0   \n",
       "...            ...               ...        ...                 ...   \n",
       "30093          0.0          133000.0       0.00                 0.0   \n",
       "30094    5600000.0           15400.0   67900.00                 9.0   \n",
       "30095    1200000.0            6300.0   27223.75                 4.0   \n",
       "30096    4900000.0           51650.0  107049.00                12.0   \n",
       "30097    6390000.0           53100.0   70990.00                17.0   \n",
       "\n",
       "       VEHICLE_CATEGORY  STATUS  ACCIDENT_TIME  PURPOSE_OF_USE  MAKE  \\\n",
       "0                     3       3              0              10    35   \n",
       "1                     2       4              1              13    24   \n",
       "2                     2       4              6              13    24   \n",
       "3                     2       7              4              13    35   \n",
       "4                     2       7              3              13    35   \n",
       "...                 ...     ...            ...             ...   ...   \n",
       "30093                 6       6              0               9    26   \n",
       "30094                 2       6              6              11    33   \n",
       "30095                 4       6              4              10    34   \n",
       "30096                 2       6              3              14    35   \n",
       "30097                 3       6              6              10    24   \n",
       "\n",
       "       GAP_IN_DAYS  \n",
       "0              114  \n",
       "1               43  \n",
       "2               23  \n",
       "3               14  \n",
       "4               76  \n",
       "...            ...  \n",
       "30093            7  \n",
       "30094           33  \n",
       "30095           10  \n",
       "30096           45  \n",
       "30097           25  \n",
       "\n",
       "[30098 rows x 10 columns]"
      ]
     },
     "execution_count": 176,
     "metadata": {},
     "output_type": "execute_result"
    }
   ],
   "source": [
    "x"
   ]
  },
  {
   "cell_type": "code",
   "execution_count": 177,
   "id": "ea43aaa3",
   "metadata": {},
   "outputs": [
    {
     "name": "stdout",
     "output_type": "stream",
     "text": [
      "Training Accuracy:  0.9514429466489462\n",
      "Testing Accuarcy:  0.9048726467331119\n",
      "              precision    recall  f1-score   support\n",
      "\n",
      "           0       0.97      0.93      0.95      8129\n",
      "           1       0.52      0.70      0.59       901\n",
      "\n",
      "    accuracy                           0.90      9030\n",
      "   macro avg       0.74      0.81      0.77      9030\n",
      "weighted avg       0.92      0.90      0.91      9030\n",
      "\n"
     ]
    },
    {
     "data": {
      "image/png": "[encoded data removed]",
      "text/plain": [
       "<Figure size 360x360 with 2 Axes>"
      ]
     },
     "metadata": {},
     "output_type": "display_data"
    }
   ],
   "source": [
    "model = BalancedRandomForestClassifier(n_estimators = 400, random_state = 0)\n",
    "\n",
    "model.fit(x_train, y_train)\n",
    "y_pred_rf = model.predict(x_test)\n",
    "\n",
    "print(\"Training Accuracy: \", model.score(x_train, y_train))\n",
    "print('Testing Accuarcy: ', model.score(x_test, y_test))\n",
    "\n",
    "# making a classification report\n",
    "cr = classification_report(y_test,  y_pred_rf)\n",
    "print(cr)\n",
    "\n",
    "# making a confusion matrix\n",
    "plt.rcParams['figure.figsize'] = (5, 5)\n",
    "cm = confusion_matrix(y_test, y_pred_rf)\n",
    "sns.heatmap(cm, annot = True, cmap = 'spring')\n",
    "plt.show()"
   ]
  },
  {
   "cell_type": "code",
   "execution_count": 178,
   "id": "83c06a35",
   "metadata": {},
   "outputs": [
    {
     "name": "stdout",
     "output_type": "stream",
     "text": [
      "(53970, 10)\n",
      "(53970,)\n",
      "(37779, 10)\n",
      "(37779,)\n",
      "(16191, 10)\n",
      "(16191,)\n",
      "Training Accuracy:  0.9999470605362768\n",
      "Testing Accuarcy:  0.949786918658514\n"
     ]
    },
    {
     "data": {
      "image/png": "[encoded data removed]",
      "text/plain": [
       "<Figure size 360x360 with 2 Axes>"
      ]
     },
     "metadata": {},
     "output_type": "display_data"
    },
    {
     "name": "stdout",
     "output_type": "stream",
     "text": [
      "              precision    recall  f1-score   support\n",
      "\n",
      "           0       0.93      0.98      0.95      8070\n",
      "           1       0.97      0.92      0.95      8121\n",
      "\n",
      "    accuracy                           0.95     16191\n",
      "   macro avg       0.95      0.95      0.95     16191\n",
      "weighted avg       0.95      0.95      0.95     16191\n",
      "\n"
     ]
    }
   ],
   "source": [
    "x_resample, y_resample  = SMOTE().fit_resample(x, y)\n",
    "\n",
    "print(x_resample.shape)\n",
    "print(y_resample.shape)\n",
    "\n",
    "x_train2, x_test2, y_train2, y_test2 = train_test_split(x_resample, y_resample, test_size = 0.3, random_state = 0)\n",
    "\n",
    "print(x_train2.shape)\n",
    "print(y_train2.shape)\n",
    "print(x_test2.shape)\n",
    "print(y_test2.shape)\n",
    "\n",
    "model_o = RandomForestClassifier()\n",
    "model_o.fit(x_train2, y_train2)\n",
    "\n",
    "y_pred = model_o.predict(x_test2)\n",
    "\n",
    "print(\"Training Accuracy: \", model_o.score(x_train2, y_train2))\n",
    "print('Testing Accuarcy: ', model_o.score(x_test2, y_test2))\n",
    "\n",
    "# confusion matrix\n",
    "cm = confusion_matrix(y_test2, y_pred)\n",
    "plt.rcParams['figure.figsize'] = (5, 5)\n",
    "sns.heatmap(cm, annot = True, cmap = 'winter')\n",
    "plt.show()\n",
    "\n",
    "# classification report\n",
    "cr = classification_report(y_test2, y_pred)\n",
    "print(cr)"
   ]
  },
  {
   "cell_type": "code",
   "execution_count": 179,
   "id": "ef0fb3bc",
   "metadata": {},
   "outputs": [
    {
     "data": {
      "image/png": "[encoded data removed]",
      "text/plain": [
       "<Figure size 720x324 with 2 Axes>"
      ]
     },
     "metadata": {},
     "output_type": "display_data"
    }
   ],
   "source": [
    "\n",
    "fig, (ax1, ax2) = plt.subplots(1, 2,figsize=(10,4.5))\n",
    "fig.subplots_adjust(bottom=0.10, left=0.10, top = 0.900, right=1.00)\n",
    "fig.suptitle(' Target Class Before and After Over Sampling', fontsize = 20)\n",
    "sns.set_palette(\"bright\")\n",
    "sns.countplot(y_train, ax=ax1)\n",
    "ax1.margins(0.1)\n",
    "ax1.set_facecolor(\"#e1ddbf\")\n",
    "for p in ax1.patches:\n",
    "        ax1.annotate('{:.1f}'.format(p.get_height()), (p.get_x()+0.1, p.get_height()+50))\n",
    "sns.set_palette(\"bright\")\n",
    "sns.countplot(y_train2, ax=ax2)\n",
    "ax2.margins(0.1)\n",
    "ax2.set_facecolor(\"#e1ddbf\")\n",
    "for p in ax2.patches:\n",
    "        ax2.annotate('{:.1f}'.format(p.get_height()), (p.get_x()+0.1, p.get_height()+50))\n",
    "sns.set_style('dark')"
   ]
  },
  {
   "cell_type": "code",
   "execution_count": 142,
   "id": "ad9babb4",
   "metadata": {},
   "outputs": [
    {
     "name": "stdout",
     "output_type": "stream",
     "text": [
      "Training Accuracy:  0.9999525346497057\n",
      "Testing Accuarcy:  0.9925802879291251\n",
      "              precision    recall  f1-score   support\n",
      "\n",
      "           0       1.00      1.00      1.00      8078\n",
      "           1       0.96      0.97      0.97       952\n",
      "\n",
      "    accuracy                           0.99      9030\n",
      "   macro avg       0.98      0.98      0.98      9030\n",
      "weighted avg       0.99      0.99      0.99      9030\n",
      "\n"
     ]
    },
    {
     "data": {
      "image/png": "[encoded data removed]",
      "text/plain": [
       "<Figure size 360x360 with 2 Axes>"
      ]
     },
     "metadata": {},
     "output_type": "display_data"
    }
   ],
   "source": [
    "from sklearn.tree  import DecisionTreeClassifier\n",
    "model = DecisionTreeClassifier()\n",
    "\n",
    "model.fit(x_train, y_train)\n",
    "y_pred_rf = model.predict(x_test)\n",
    "\n",
    "print(\"Training Accuracy: \", model.score(x_train, y_train))\n",
    "print('Testing Accuarcy: ', model.score(x_test, y_test))\n",
    "\n",
    "# making a classification report\n",
    "cr = classification_report(y_test,  y_pred_rf)\n",
    "print(cr)\n",
    "\n",
    "# making a confusion matrix\n",
    "plt.rcParams['figure.figsize'] = (5, 5)\n",
    "cm = confusion_matrix(y_test, y_pred_rf)\n",
    "sns.heatmap(cm, annot = True, cmap = 'spring')\n",
    "plt.show()"
   ]
  },
  {
   "cell_type": "code",
   "execution_count": 181,
   "id": "26ffbbae",
   "metadata": {},
   "outputs": [],
   "source": [
    "data.to_csv(\"Final Data set v4.csv\")"
   ]
  },
  {
   "cell_type": "code",
   "execution_count": 182,
   "id": "12d828c6",
   "metadata": {},
   "outputs": [],
   "source": [
    "data2.to_csv(\"Final Data set v5.csv\")"
   ]
  },
  {
   "cell_type": "code",
   "execution_count": 183,
   "id": "29a01ea5",
   "metadata": {},
   "outputs": [],
   "source": [
    "from sklearn.model_selection import cross_val_score\n",
    "from sklearn.metrics import classification_report, confusion_matrix"
   ]
  },
  {
   "cell_type": "code",
   "execution_count": null,
   "id": "724e4fed",
   "metadata": {},
   "outputs": [],
   "source": [
    "rfc_cv_score = cross_val_score(rfc, X, y, cv=10, scoring=’roc_auc’)"
   ]
  }
 ],
 "metadata": {
  "kernelspec": {
   "display_name": "Python 3 (ipykernel)",
   "language": "python",
   "name": "python3"
  },
  "language_info": {
   "codemirror_mode": {
    "name": "ipython",
    "version": 3
   },
   "file_extension": ".py",
   "mimetype": "text/x-python",
   "name": "python",
   "nbconvert_exporter": "python",
   "pygments_lexer": "ipython3",
   "version": "3.8.10"
  }
 },
 "nbformat": 4,
 "nbformat_minor": 5
}
