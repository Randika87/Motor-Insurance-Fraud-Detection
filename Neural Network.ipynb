{
 "cells": [
  {
   "cell_type": "code",
   "execution_count": 19,
   "id": "cd07ad99",
   "metadata": {},
   "outputs": [],
   "source": [
    "\n",
    "# IMPORTING REQUIRED MODULES\n",
    "import numpy as np\n",
    "\n",
    "import pandas as pd\n",
    "\n",
    "import matplotlib.pyplot as plt\n",
    "import seaborn as sns\n"
   ]
  },
  {
   "cell_type": "code",
   "execution_count": 20,
   "id": "ea09ec88",
   "metadata": {},
   "outputs": [],
   "source": [
    "# NEURAL NETWORKS MODULES\n",
    "from sklearn.model_selection import train_test_split\n",
    "from sklearn.preprocessing import StandardScaler\n",
    "from sklearn.neural_network import MLPClassifier\n",
    "from sklearn import metrics\n",
    "from sklearn.tree import DecisionTreeClassifier\n",
    "from sklearn.naive_bayes import GaussianNB"
   ]
  },
  {
   "cell_type": "code",
   "execution_count": 21,
   "id": "1c5c8d4f",
   "metadata": {},
   "outputs": [],
   "source": [
    "# KERAS MODULES\n",
    "from keras.models import Sequential\n",
    "from keras.layers import Dense, LSTM, Dropout\n",
    "from keras.callbacks import Callback\n",
    "import keras.backend as kb\n",
    "import tensorflow as tf"
   ]
  },
  {
   "cell_type": "code",
   "execution_count": 22,
   "id": "a03de82b",
   "metadata": {},
   "outputs": [],
   "source": [
    "from datetime import datetime\n",
    "\n",
    "def timer(start_time= None):\n",
    "    if not start_time:\n",
    "        start_time = datetime.now()\n",
    "        return start_time\n",
    "    elif start_time:\n",
    "        thour, temp_sec = divmod((datetime.now()-start_time).total_seconds(), 3600)\n",
    "        tmin, tsec = divmod(temp_sec, 60)\n",
    "        print('\\n Time taken: %i hours %i minutes and %s seconds.' % (thour, tmin, round(tsec,2)))"
   ]
  },
  {
   "cell_type": "code",
   "execution_count": 23,
   "id": "dfe5a2f4",
   "metadata": {},
   "outputs": [],
   "source": [
    "data = pd.read_csv(\"Final Data set v5.csv\")"
   ]
  },
  {
   "cell_type": "code",
   "execution_count": 24,
   "id": "a376dff4",
   "metadata": {},
   "outputs": [
    {
     "data": {
      "text/html": [
       "<div>\n",
       "<style scoped>\n",
       "    .dataframe tbody tr th:only-of-type {\n",
       "        vertical-align: middle;\n",
       "    }\n",
       "\n",
       "    .dataframe tbody tr th {\n",
       "        vertical-align: top;\n",
       "    }\n",
       "\n",
       "    .dataframe thead th {\n",
       "        text-align: right;\n",
       "    }\n",
       "</style>\n",
       "<table border=\"1\" class=\"dataframe\">\n",
       "  <thead>\n",
       "    <tr style=\"text-align: right;\">\n",
       "      <th></th>\n",
       "      <th>SUM_INSURED</th>\n",
       "      <th>ESTIMATED_AMOUNT</th>\n",
       "      <th>PREMIUM</th>\n",
       "      <th>MONTHS_AS_CUSTOMER</th>\n",
       "      <th>VEHICLE_CATEGORY</th>\n",
       "      <th>STATUS</th>\n",
       "      <th>ACCIDENT_TIME</th>\n",
       "      <th>PURPOSE_OF_USE</th>\n",
       "      <th>MAKE</th>\n",
       "      <th>GAP_IN_DAYS</th>\n",
       "      <th>FRAUD_OR_NOT</th>\n",
       "    </tr>\n",
       "  </thead>\n",
       "  <tbody>\n",
       "    <tr>\n",
       "      <th>0</th>\n",
       "      <td>1000000</td>\n",
       "      <td>48110.0</td>\n",
       "      <td>8514.85</td>\n",
       "      <td>86</td>\n",
       "      <td>3</td>\n",
       "      <td>3</td>\n",
       "      <td>0</td>\n",
       "      <td>10</td>\n",
       "      <td>35</td>\n",
       "      <td>114</td>\n",
       "      <td>0</td>\n",
       "    </tr>\n",
       "    <tr>\n",
       "      <th>1</th>\n",
       "      <td>3000000</td>\n",
       "      <td>80000.0</td>\n",
       "      <td>54000.00</td>\n",
       "      <td>72</td>\n",
       "      <td>2</td>\n",
       "      <td>4</td>\n",
       "      <td>1</td>\n",
       "      <td>13</td>\n",
       "      <td>24</td>\n",
       "      <td>43</td>\n",
       "      <td>0</td>\n",
       "    </tr>\n",
       "    <tr>\n",
       "      <th>2</th>\n",
       "      <td>3000000</td>\n",
       "      <td>500000.0</td>\n",
       "      <td>54000.00</td>\n",
       "      <td>55</td>\n",
       "      <td>2</td>\n",
       "      <td>4</td>\n",
       "      <td>6</td>\n",
       "      <td>13</td>\n",
       "      <td>24</td>\n",
       "      <td>23</td>\n",
       "      <td>0</td>\n",
       "    </tr>\n",
       "    <tr>\n",
       "      <th>3</th>\n",
       "      <td>750000</td>\n",
       "      <td>37050.0</td>\n",
       "      <td>4792.65</td>\n",
       "      <td>184</td>\n",
       "      <td>2</td>\n",
       "      <td>7</td>\n",
       "      <td>4</td>\n",
       "      <td>13</td>\n",
       "      <td>35</td>\n",
       "      <td>14</td>\n",
       "      <td>0</td>\n",
       "    </tr>\n",
       "    <tr>\n",
       "      <th>4</th>\n",
       "      <td>750000</td>\n",
       "      <td>66750.0</td>\n",
       "      <td>4792.65</td>\n",
       "      <td>164</td>\n",
       "      <td>2</td>\n",
       "      <td>7</td>\n",
       "      <td>3</td>\n",
       "      <td>13</td>\n",
       "      <td>35</td>\n",
       "      <td>76</td>\n",
       "      <td>0</td>\n",
       "    </tr>\n",
       "  </tbody>\n",
       "</table>\n",
       "</div>"
      ],
      "text/plain": [
       "   SUM_INSURED  ESTIMATED_AMOUNT   PREMIUM  MONTHS_AS_CUSTOMER  \\\n",
       "0      1000000           48110.0   8514.85                  86   \n",
       "1      3000000           80000.0  54000.00                  72   \n",
       "2      3000000          500000.0  54000.00                  55   \n",
       "3       750000           37050.0   4792.65                 184   \n",
       "4       750000           66750.0   4792.65                 164   \n",
       "\n",
       "   VEHICLE_CATEGORY  STATUS  ACCIDENT_TIME  PURPOSE_OF_USE  MAKE  GAP_IN_DAYS  \\\n",
       "0                 3       3              0              10    35          114   \n",
       "1                 2       4              1              13    24           43   \n",
       "2                 2       4              6              13    24           23   \n",
       "3                 2       7              4              13    35           14   \n",
       "4                 2       7              3              13    35           76   \n",
       "\n",
       "   FRAUD_OR_NOT  \n",
       "0             0  \n",
       "1             0  \n",
       "2             0  \n",
       "3             0  \n",
       "4             0  "
      ]
     },
     "execution_count": 24,
     "metadata": {},
     "output_type": "execute_result"
    }
   ],
   "source": [
    "data.head()"
   ]
  },
  {
   "cell_type": "code",
   "execution_count": 25,
   "id": "2380a560",
   "metadata": {},
   "outputs": [],
   "source": [
    "# SETTING UP THE TRAINING AND TESTING SETS\n",
    "np.random.seed(123) \n",
    "\n",
    "x =  data.iloc[:,0:10]\n",
    "y = data.iloc[:, -1]\n",
    "\n"
   ]
  },
  {
   "cell_type": "code",
   "execution_count": 26,
   "id": "4eeb1676",
   "metadata": {},
   "outputs": [],
   "source": [
    "x_train,x_test,y_train,y_test=train_test_split(x,y,test_size=0.3)"
   ]
  },
  {
   "cell_type": "code",
   "execution_count": 27,
   "id": "e2ba3eba",
   "metadata": {},
   "outputs": [
    {
     "name": "stdout",
     "output_type": "stream",
     "text": [
      "Model: \"sequential_3\"\n",
      "_________________________________________________________________\n",
      "Layer (type)                 Output Shape              Param #   \n",
      "=================================================================\n",
      "dense_11 (Dense)             (None, 20)                220       \n",
      "_________________________________________________________________\n",
      "dense_12 (Dense)             (None, 24)                504       \n",
      "_________________________________________________________________\n",
      "dropout_3 (Dropout)          (None, 24)                0         \n",
      "_________________________________________________________________\n",
      "dense_13 (Dense)             (None, 20)                500       \n",
      "_________________________________________________________________\n",
      "dense_14 (Dense)             (None, 24)                504       \n",
      "_________________________________________________________________\n",
      "dense_15 (Dense)             (None, 1)                 25        \n",
      "=================================================================\n",
      "Total params: 1,753\n",
      "Trainable params: 1,753\n",
      "Non-trainable params: 0\n",
      "_________________________________________________________________\n"
     ]
    }
   ],
   "source": [
    "from keras.models import Sequential\n",
    "from keras.layers import Dense, Dropout\n",
    "\n",
    "\n",
    "model = Sequential([\n",
    "    Dense(units=20, input_dim = x_train.shape[1], activation='relu'),\n",
    "    Dense(units=24,activation='relu'),\n",
    "    Dropout(0.5),\n",
    "    Dense(units=20,activation='relu'),\n",
    "    Dense(units=24,activation='relu'),\n",
    "    Dense(1, activation='sigmoid')\n",
    "])\n",
    "model.summary()"
   ]
  },
  {
   "cell_type": "code",
   "execution_count": 28,
   "id": "327dbf3a",
   "metadata": {},
   "outputs": [
    {
     "name": "stdout",
     "output_type": "stream",
     "text": [
      "Epoch 1/5\n",
      "21068/21068 [==============================] - 1s 34us/step - loss: 1575.3485 - accuracy: 0.8925\n",
      "Epoch 2/5\n",
      "21068/21068 [==============================] - 1s 28us/step - loss: 154.5537 - accuracy: 0.8130\n",
      "Epoch 3/5\n",
      "21068/21068 [==============================] - 1s 30us/step - loss: 19.8526 - accuracy: 0.8711\n",
      "Epoch 4/5\n",
      "21068/21068 [==============================] - 1s 33us/step - loss: 2.7980 - accuracy: 0.9356\n",
      "Epoch 5/5\n",
      "21068/21068 [==============================] - 1s 32us/step - loss: 8.9680 - accuracy: 0.9222\n",
      "\n",
      " Time taken: 0 hours 0 minutes and 3.87 seconds.\n"
     ]
    }
   ],
   "source": [
    "\n",
    "start_time = timer(None)\n",
    "model.compile(optimizer='adam', loss='binary_crossentropy', metrics=['accuracy'])\n",
    "model.fit(x_train, y_train, batch_size=30, epochs=5)\n",
    "\n",
    "timer(start_time)"
   ]
  },
  {
   "cell_type": "code",
   "execution_count": 29,
   "id": "ce321c0a",
   "metadata": {},
   "outputs": [
    {
     "name": "stdout",
     "output_type": "stream",
     "text": [
      "9030/9030 [==============================] - 0s 13us/step\n",
      "Test Accuracy: 94.50%\n",
      "Test Loss: 68.82941647906966\n"
     ]
    }
   ],
   "source": [
    "score = model.evaluate(x_test, y_test)\n",
    "print('Test Accuracy: {:.2f}%\\nTest Loss: {}'.format(score[1]*100,score[0]))"
   ]
  },
  {
   "cell_type": "code",
   "execution_count": 30,
   "id": "a5fdf8c8",
   "metadata": {},
   "outputs": [
    {
     "name": "stdout",
     "output_type": "stream",
     "text": [
      "              precision    recall  f1-score   support\n",
      "\n",
      "           0       0.95      0.99      0.97      8074\n",
      "           1       0.90      0.54      0.68       956\n",
      "\n",
      "    accuracy                           0.94      9030\n",
      "   macro avg       0.92      0.77      0.82      9030\n",
      "weighted avg       0.94      0.94      0.94      9030\n",
      "\n"
     ]
    },
    {
     "data": {
      "image/png": "[encoded data removed]",
      "text/plain": [
       "<Figure size 360x360 with 2 Axes>"
      ]
     },
     "metadata": {
      "needs_background": "light"
     },
     "output_type": "display_data"
    }
   ],
   "source": [
    "from sklearn.metrics import confusion_matrix, classification_report\n",
    "y_pred = model.predict(x_test)\n",
    "y_test = pd.DataFrame(y_test)\n",
    "\n",
    "\n",
    "\n",
    "# making a classification report\n",
    "cr = classification_report(y_test,  y_pred.round())\n",
    "print(cr)\n",
    "\n",
    "\n",
    "\n",
    "# making a confusion matrix\n",
    "plt.rcParams['figure.figsize'] = (5, 5)\n",
    "cm = confusion_matrix(y_test, y_pred.round())\n",
    "sns.heatmap(cm, annot = True, cmap = 'winter', fmt=\".0f\")\n",
    "plt.show()"
   ]
  },
  {
   "cell_type": "code",
   "execution_count": 31,
   "id": "bdd4d3e1",
   "metadata": {},
   "outputs": [
    {
     "data": {
      "image/png": "[encoded data removed]",
      "text/plain": [
       "<Figure size 360x360 with 1 Axes>"
      ]
     },
     "metadata": {
      "needs_background": "light"
     },
     "output_type": "display_data"
    }
   ],
   "source": [
    "from sklearn.metrics import roc_curve, auc\n",
    "\n",
    "from matplotlib import pyplot\n",
    "\n",
    "\n",
    "\n",
    "ns_probs = [0 for _ in range(len(y_test))]\n",
    "lr_probs = model.predict(x_test).ravel()\n",
    "\n",
    "\n",
    "\n",
    "\n",
    "# calculate roc curves\n",
    "ns_fpr, ns_tpr, _ = roc_curve(y_test, ns_probs)\n",
    "lr_fpr, lr_tpr, _ = roc_curve(y_test, lr_probs)\n",
    "\n",
    "roc_auc_rf = auc(lr_fpr, lr_tpr)\n",
    "# plot the roc curve for the model\n",
    "pyplot.plot(ns_fpr, ns_tpr, linestyle='--')\n",
    "pyplot.plot(lr_fpr, lr_tpr, lw=1, label='{} curve (AUC = {:0.2f})'.format('RF',roc_auc_rf))\n",
    "# axis labels\n",
    "pyplot.xlabel('False Positive Rate')\n",
    "pyplot.ylabel('True Positive Rate')\n",
    "plt.title('ROC curve: AUC={0:0.2f}'.format(\n",
    "          roc_auc_rf))\n",
    "# show the legend\n",
    "pyplot.legend()\n",
    "# show the plot\n",
    "pyplot.show()"
   ]
  },
  {
   "cell_type": "code",
   "execution_count": 32,
   "id": "b68a8a68",
   "metadata": {},
   "outputs": [
    {
     "name": "stdout",
     "output_type": "stream",
     "text": [
      "Average precision-recall score ANN: 0.6017715388308678\n"
     ]
    },
    {
     "data": {
      "text/plain": [
       "Text(0.5, 1.0, '2-class Precision-Recall curve: AUC=0.74')"
      ]
     },
     "execution_count": 32,
     "metadata": {},
     "output_type": "execute_result"
    },
    {
     "data": {
      "image/png": "[encoded data removed]",
      "text/plain": [
       "<Figure size 360x360 with 1 Axes>"
      ]
     },
     "metadata": {
      "needs_background": "light"
     },
     "output_type": "display_data"
    }
   ],
   "source": [
    "from sklearn.metrics import precision_recall_curve\n",
    "import matplotlib.pyplot as plt\n",
    "from sklearn.metrics import average_precision_score, auc, roc_curve, precision_recall_curve\n",
    "\n",
    "y_score_ANN = model.predict(x_test).ravel()\n",
    "average_precision = average_precision_score(y_test, y_score_ANN)\n",
    "\n",
    "print('Average precision-recall score ANN: {}'.format(average_precision))\n",
    "\n",
    "precision, recall, _ = precision_recall_curve(y_test, y_score_ANN)\n",
    "\n",
    "pr_auc_ANN = auc( recall,precision)\n",
    "\n",
    "plt.step(recall, precision, color='b', alpha=0.2,\n",
    "         where='post')\n",
    "plt.fill_between(recall, precision, step='post', alpha=0.2,\n",
    "                 color='b')\n",
    "\n",
    "plt.xlabel('Recall')\n",
    "plt.ylabel('Precision')\n",
    "plt.ylim([0.0, 1.05])\n",
    "plt.xlim([0.0, 1.0])\n",
    "plt.title('2-class Precision-Recall curve: AUC={0:0.2f}'.format(\n",
    "          pr_auc_ANN))"
   ]
  },
  {
   "cell_type": "code",
   "execution_count": 33,
   "id": "cc3cf3ab",
   "metadata": {},
   "outputs": [],
   "source": [
    "from imblearn.over_sampling import SMOTE\n",
    "\n",
    "np.random.seed(123)\n",
    "\n",
    "x_resample, y_resample  = SMOTE().fit_resample(x, y)"
   ]
  },
  {
   "cell_type": "code",
   "execution_count": 34,
   "id": "80a55e73",
   "metadata": {},
   "outputs": [
    {
     "name": "stdout",
     "output_type": "stream",
     "text": [
      "Model: \"sequential_4\"\n",
      "_________________________________________________________________\n",
      "Layer (type)                 Output Shape              Param #   \n",
      "=================================================================\n",
      "dense_16 (Dense)             (None, 20)                220       \n",
      "_________________________________________________________________\n",
      "dense_17 (Dense)             (None, 24)                504       \n",
      "_________________________________________________________________\n",
      "dropout_4 (Dropout)          (None, 24)                0         \n",
      "_________________________________________________________________\n",
      "dense_18 (Dense)             (None, 20)                500       \n",
      "_________________________________________________________________\n",
      "dense_19 (Dense)             (None, 24)                504       \n",
      "_________________________________________________________________\n",
      "dense_20 (Dense)             (None, 1)                 25        \n",
      "=================================================================\n",
      "Total params: 1,753\n",
      "Trainable params: 1,753\n",
      "Non-trainable params: 0\n",
      "_________________________________________________________________\n"
     ]
    }
   ],
   "source": [
    "x_train2, x_test2, y_train2, y_test2 = train_test_split(x_resample, y_resample, test_size = 0.3, random_state = 0)\n",
    "\n",
    "model = Sequential([\n",
    "    Dense(units=20, input_dim = x_train2.shape[1], activation='relu'),\n",
    "    Dense(units=24,activation='relu'),\n",
    "    Dropout(0.5),\n",
    "    Dense(units=20,activation='relu'),\n",
    "    Dense(units=24,activation='relu'),\n",
    "    Dense(1, activation='sigmoid')\n",
    "])\n",
    "model.summary()"
   ]
  },
  {
   "cell_type": "code",
   "execution_count": 35,
   "id": "564ae346",
   "metadata": {},
   "outputs": [
    {
     "name": "stdout",
     "output_type": "stream",
     "text": [
      "Epoch 1/5\n",
      "37779/37779 [==============================] - 1s 37us/step - loss: 4332.5200 - accuracy: 0.6777\n",
      "Epoch 2/5\n",
      "37779/37779 [==============================] - 1s 33us/step - loss: 175.1594 - accuracy: 0.6710\n",
      "Epoch 3/5\n",
      "37779/37779 [==============================] - 1s 32us/step - loss: 18.4851 - accuracy: 0.6435\n",
      "Epoch 4/5\n",
      "37779/37779 [==============================] - 1s 34us/step - loss: 0.6283 - accuracy: 0.7621\n",
      "Epoch 5/5\n",
      "37779/37779 [==============================] - 1s 33us/step - loss: 0.5498 - accuracy: 0.7651\n",
      "\n",
      " Time taken: 0 hours 0 minutes and 6.94 seconds.\n"
     ]
    }
   ],
   "source": [
    "start_time = timer(None)\n",
    "model.compile(optimizer='adam', loss='binary_crossentropy', metrics=['accuracy'])\n",
    "model.fit(x_train2, y_train2, batch_size=30, epochs=5)\n",
    "\n",
    "timer(start_time)"
   ]
  },
  {
   "cell_type": "code",
   "execution_count": 36,
   "id": "3d68a829",
   "metadata": {},
   "outputs": [
    {
     "name": "stdout",
     "output_type": "stream",
     "text": [
      "              precision    recall  f1-score   support\n",
      "\n",
      "           0       0.68      1.00      0.81      8070\n",
      "           1       1.00      0.52      0.69      8121\n",
      "\n",
      "    accuracy                           0.76     16191\n",
      "   macro avg       0.84      0.76      0.75     16191\n",
      "weighted avg       0.84      0.76      0.75     16191\n",
      "\n"
     ]
    },
    {
     "data": {
      "image/png": "[encoded data removed]",
      "text/plain": [
       "<Figure size 360x360 with 2 Axes>"
      ]
     },
     "metadata": {
      "needs_background": "light"
     },
     "output_type": "display_data"
    }
   ],
   "source": [
    "from sklearn.metrics import confusion_matrix, classification_report\n",
    "y_pred = model.predict(x_test2)\n",
    "y_test = pd.DataFrame(y_test2)\n",
    "\n",
    "\n",
    "\n",
    "# making a classification report\n",
    "cr = classification_report(y_test2,  y_pred.round())\n",
    "print(cr)\n",
    "\n",
    "\n",
    "\n",
    "# making a confusion matrix\n",
    "plt.rcParams['figure.figsize'] = (5, 5)\n",
    "cm = confusion_matrix(y_test2, y_pred.round())\n",
    "sns.heatmap(cm, annot = True, cmap = 'winter', fmt=\".0f\")\n",
    "plt.show()"
   ]
  },
  {
   "cell_type": "code",
   "execution_count": 37,
   "id": "e5086e57",
   "metadata": {},
   "outputs": [
    {
     "data": {
      "image/png": "[encoded data removed]",
      "text/plain": [
       "<Figure size 360x360 with 1 Axes>"
      ]
     },
     "metadata": {
      "needs_background": "light"
     },
     "output_type": "display_data"
    }
   ],
   "source": [
    "ns_probs = [0 for _ in range(len(y_test))]\n",
    "lr_probs = model.predict(x_test2).ravel()\n",
    "\n",
    "\n",
    "\n",
    "\n",
    "# calculate roc curves\n",
    "ns_fpr, ns_tpr, _ = roc_curve(y_test2, ns_probs)\n",
    "lr_fpr, lr_tpr, _ = roc_curve(y_test2, lr_probs)\n",
    "\n",
    "roc_auc_ANN = auc(lr_fpr, lr_tpr)\n",
    "# plot the roc curve for the model\n",
    "pyplot.plot(ns_fpr, ns_tpr, linestyle='--')\n",
    "pyplot.plot(lr_fpr, lr_tpr, lw=1, label='{} curve (AUC = {:0.2f})'.format('RF',roc_auc_ANN))\n",
    "# axis labels\n",
    "pyplot.xlabel('False Positive Rate')\n",
    "pyplot.ylabel('True Positive Rate')\n",
    "plt.title('ROC curve: AUC={0:0.2f}'.format(\n",
    "          roc_auc_ANN))\n",
    "# show the legend\n",
    "pyplot.legend()\n",
    "# show the plot\n",
    "pyplot.show()"
   ]
  },
  {
   "cell_type": "code",
   "execution_count": 38,
   "id": "82d49b12",
   "metadata": {},
   "outputs": [
    {
     "name": "stdout",
     "output_type": "stream",
     "text": [
      "Average precision-recall score ANN: 0.7635897062509686\n"
     ]
    },
    {
     "data": {
      "text/plain": [
       "Text(0.5, 1.0, '2-class Precision-Recall curve: AUC=0.88')"
      ]
     },
     "execution_count": 38,
     "metadata": {},
     "output_type": "execute_result"
    },
    {
     "data": {
      "image/png": "[encoded data removed]",
      "text/plain": [
       "<Figure size 360x360 with 1 Axes>"
      ]
     },
     "metadata": {
      "needs_background": "light"
     },
     "output_type": "display_data"
    }
   ],
   "source": [
    "from sklearn.metrics import precision_recall_curve\n",
    "import matplotlib.pyplot as plt\n",
    "from sklearn.metrics import average_precision_score, auc, roc_curve, precision_recall_curve\n",
    "\n",
    "y_score_ANN = model.predict(x_test2).ravel()\n",
    "average_precision = average_precision_score(y_test2, y_score_ANN)\n",
    "\n",
    "print('Average precision-recall score ANN: {}'.format(average_precision))\n",
    "\n",
    "precision, recall, _ = precision_recall_curve(y_test2, y_score_ANN)\n",
    "\n",
    "pr_auc_ANN = auc( recall,precision)\n",
    "\n",
    "plt.step(recall, precision, color='b', alpha=0.2,\n",
    "         where='post')\n",
    "plt.fill_between(recall, precision, step='post', alpha=0.2,\n",
    "                 color='b')\n",
    "\n",
    "plt.xlabel('Recall')\n",
    "plt.ylabel('Precision')\n",
    "plt.ylim([0.0, 1.05])\n",
    "plt.xlim([0.0, 1.0])\n",
    "plt.title('2-class Precision-Recall curve: AUC={0:0.2f}'.format(\n",
    "          pr_auc_ANN))"
   ]
  },
  {
   "cell_type": "code",
   "execution_count": null,
   "id": "b6a3681e",
   "metadata": {},
   "outputs": [],
   "source": []
  }
 ],
 "metadata": {
  "kernelspec": {
   "display_name": "Python 3 (ipykernel)",
   "language": "python",
   "name": "python3"
  },
  "language_info": {
   "codemirror_mode": {
    "name": "ipython",
    "version": 3
   },
   "file_extension": ".py",
   "mimetype": "text/x-python",
   "name": "python",
   "nbconvert_exporter": "python",
   "pygments_lexer": "ipython3",
   "version": "3.8.10"
  }
 },
 "nbformat": 4,
 "nbformat_minor": 5
}
